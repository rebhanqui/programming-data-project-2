{
 "cells": [
  {
   "cell_type": "markdown",
   "metadata": {},
   "source": [
    "# An Analysis of Paleo to present Climate Change Data\n",
    "\n",
    "<details>\n",
    "\n",
    "<summary> Student Details </summary>\n",
    "\n",
    "| Student| Details |\n",
    "| -------- | -------- |\n",
    "| Course: | KDATG_L08_Y1 |\n",
    "| Author: | Rebecca Hannah Quinn |\n",
    "| Student Number: | G00425671 |\n",
    "\n",
    "</details>\n",
    "\n",
    "---\n",
    "\n",
    "## Project Goals\n",
    "\n",
    "To Analyse CO2 vs Temperature Anomaly for the past 800,000 years to the present day.\n",
    "To examine the change in the polar-ice coverage alongside this.\n",
    "To examine the changes in Ireland and Irish climate change signals.\n",
    "\n",
    "In gathering this information and data I will fuse and analyse the data using pandas dataframes and export the results to csv and json formats.\n",
    "\n",
    "I will be anaylising the data, the trends, the relationships between them including but not limited to: temporal leads, lags, and frequencies. I will also use synthesised data to predict global temperature anomoly over the next few decades and compare to published models of the same to see if atmospherice CO2 trends continue and comment on the accelerated warming based on the latest features with temperatures polar-ice coverage and ocean and sea levels.\n"
   ]
  },
  {
   "cell_type": "markdown",
   "metadata": {},
   "source": [
    "\n",
    "\n",
    "<details>\n",
    "\n",
    "<summary> Table of Contents </summary>\n",
    "\n",
    "[INTRODUCTION](#01)\n",
    "\n",
    "[PRE-PROCESSING](#02)\n",
    "\n",
    "[ANALYSIS](#03)\n",
    "\n",
    "[PREDICITONS](#04)\n",
    "\n",
    "[FURTHER COMMENT](#05)\n",
    "\n",
    "[PLOTS](#06)\n",
    "\n",
    "</details>\n",
    "\n",
    "---\n"
   ]
  },
  {
   "cell_type": "markdown",
   "metadata": {},
   "source": [
    "## Introduction\n",
    "\n",
    "\n",
    "There have been studies on the Earth\"s climate that have resulted in data as far back as 800,000 years by extracting core samples from deep beneath the ice sheets of Greenland and Antarctica. These samples contain detailed information on air temperature and CO2 levels that are trapped within them. Current polar records demonstrate a close association between atmospheric carbon dioxide and temperature in the natural world. In essence, when one increases, the other one follows.\n",
    "\n",
    "However, there is still some uncertainty about which occurred first - a spike in temperature or CO2. Until now, the most extensive records to date on a significant change in Earth\"s climate came from the EPICA Dome C ice core on the Antarctic Plateau. The data, which covered the end of the last ice age, between 20,000 and 10,000 years ago, indicated that CO2 levels could have lagged behind rising global temperatures by as much as 1,400 years.\n",
    "[1]: https://www.scientificamerican.com/article/ice-core-data-help-solve/#:~:text=Scientists%20use%20air%20trapped%20in,than%20the%20ice%20surrounding%20them."
   ]
  },
  {
   "cell_type": "markdown",
   "metadata": {},
   "source": [
    "\n",
    "<a id=\"01i\">\n",
    "\n",
    "## Pre-processing\n",
    "\n",
    "</a>\n",
    "\n",
    "\n",
    "\n"
   ]
  },
  {
   "cell_type": "markdown",
   "metadata": {},
   "source": [
    "## Import Packages"
   ]
  },
  {
   "cell_type": "code",
   "execution_count": 60,
   "metadata": {},
   "outputs": [],
   "source": [
    "#importing packages required for analysis and visualization\n",
    "import requests\n",
    "from io import StringIO\n",
    "from IPython.display import display\n",
    "import pandas as pd\n",
    "import numpy as np\n",
    "import matplotlib.pyplot as plt\n",
    "import seaborn as sns"
   ]
  },
  {
   "cell_type": "markdown",
   "metadata": {},
   "source": [
    "## Reading in the Data"
   ]
  },
  {
   "cell_type": "markdown",
   "metadata": {},
   "source": [
    "### CO2"
   ]
  },
  {
   "cell_type": "markdown",
   "metadata": {},
   "source": [
    "#### CO2 Data 1 - NCEI 1855 - 1960"
   ]
  },
  {
   "cell_type": "code",
   "execution_count": 61,
   "metadata": {},
   "outputs": [],
   "source": [
    "epica1col = [\"year\", \"co2\", \"sigma\"]\n",
    "epica8kyr1 = pd.read_excel(\"https://www.ncei.noaa.gov/pub/data/paleo/icecore/antarctica/antarctica2015co2.xls\", sheet_name=\"CO2 Composite\", skiprows=59, names=epica1col)\n",
    "epica8kyr1[\"year\"] = epica8kyr1[\"year\"].astype(int)\n",
    "\n",
    "# The code below flips the sign of the \"year\" values and adds 1950 to them. This is useful for converting the \"year\" values to a specific reference point year 1950. \n",
    "# Clarify why the year transformation is done.\n",
    "# Make sure the data type conversions are necessary.\n",
    "\n",
    "epica8kyr1[\"year\"] = -1 * epica8kyr1[\"year\"] + 1950\n",
    "epica8kyr1 = epica8kyr1.sort_values(by=\"year\", ascending=False)\n",
    "epica8kyr1.to_csv(\"epica8kyr1.csv\", index=False)"
   ]
  },
  {
   "cell_type": "markdown",
   "metadata": {},
   "source": [
    "#### CO2 Data 2 - Global Monitoring Laboratory - 1959 - 2023"
   ]
  },
  {
   "cell_type": "code",
   "execution_count": 62,
   "metadata": {},
   "outputs": [],
   "source": [
    "epica2col = [\"year\", \"co2\", \"unc\"]\n",
    "epica8kyr2 = pd.read_csv(\"https://gml.noaa.gov/webdata/ccgg/trends/co2/co2_annmean_mlo.csv\", skiprows=44, sep=\",\", names=epica2col)"
   ]
  },
  {
   "cell_type": "markdown",
   "metadata": {},
   "source": [
    "#### CO2 Data 3 - Mauna Lon Observeratory - 1984 - 2023"
   ]
  },
  {
   "cell_type": "code",
   "execution_count": 63,
   "metadata": {},
   "outputs": [],
   "source": [
    "epica3col = [\"year\", \"co2\", \"unc\"]\n",
    "url3 = \"https://gml.noaa.gov/webdata/ccgg/trends/ch4/ch4_annmean_gl.txt\"\n",
    "response = requests.get(url3)\n",
    "if response.status_code == 200:\n",
    "    text = response.text\n",
    "    epica8kyr3 = pd.read_fwf(StringIO(text), names=epica3col, skiprows=45, header=0)\n",
    "    epica8kyr3 = epica8kyr3.sort_values(by=\"year\", ascending=False)  #corrected\n",
    "    epica8kyr3.to_csv(\"epica8kyr3.csv\", index=False)"
   ]
  },
  {
   "cell_type": "markdown",
   "metadata": {},
   "source": [
    "##### Initial Analysis"
   ]
  },
  {
   "cell_type": "markdown",
   "metadata": {},
   "source": [
    "###### Epica CO2 Data 1"
   ]
  },
  {
   "cell_type": "code",
   "execution_count": 64,
   "metadata": {},
   "outputs": [
    {
     "name": "stderr",
     "output_type": "stream",
     "text": [
      "UsageError: Line magic function `%display` not found.\n"
     ]
    }
   ],
   "source": [
    "%display epica8kyr1.head() #head function to check first data lines"
   ]
  },
  {
   "cell_type": "code",
   "execution_count": null,
   "metadata": {},
   "outputs": [
    {
     "data": {
      "text/html": [
       "<div>\n",
       "<style scoped>\n",
       "    .dataframe tbody tr th:only-of-type {\n",
       "        vertical-align: middle;\n",
       "    }\n",
       "\n",
       "    .dataframe tbody tr th {\n",
       "        vertical-align: top;\n",
       "    }\n",
       "\n",
       "    .dataframe thead th {\n",
       "        text-align: right;\n",
       "    }\n",
       "</style>\n",
       "<table border=\"1\" class=\"dataframe\">\n",
       "  <thead>\n",
       "    <tr style=\"text-align: right;\">\n",
       "      <th></th>\n",
       "      <th>year</th>\n",
       "      <th>co2</th>\n",
       "      <th>sigma</th>\n",
       "    </tr>\n",
       "  </thead>\n",
       "  <tbody>\n",
       "    <tr>\n",
       "      <th>1851</th>\n",
       "      <td>-801975</td>\n",
       "      <td>202.921723</td>\n",
       "      <td>2.064488</td>\n",
       "    </tr>\n",
       "    <tr>\n",
       "      <th>1852</th>\n",
       "      <td>-802059</td>\n",
       "      <td>207.498645</td>\n",
       "      <td>0.915083</td>\n",
       "    </tr>\n",
       "    <tr>\n",
       "      <th>1853</th>\n",
       "      <td>-802572</td>\n",
       "      <td>204.861938</td>\n",
       "      <td>1.642851</td>\n",
       "    </tr>\n",
       "    <tr>\n",
       "      <th>1854</th>\n",
       "      <td>-803182</td>\n",
       "      <td>202.226839</td>\n",
       "      <td>0.689587</td>\n",
       "    </tr>\n",
       "    <tr>\n",
       "      <th>1855</th>\n",
       "      <td>-803718</td>\n",
       "      <td>207.285440</td>\n",
       "      <td>2.202808</td>\n",
       "    </tr>\n",
       "  </tbody>\n",
       "</table>\n",
       "</div>"
      ],
      "text/plain": [
       "        year         co2     sigma\n",
       "1851 -801975  202.921723  2.064488\n",
       "1852 -802059  207.498645  0.915083\n",
       "1853 -802572  204.861938  1.642851\n",
       "1854 -803182  202.226839  0.689587\n",
       "1855 -803718  207.285440  2.202808"
      ]
     },
     "execution_count": 8,
     "metadata": {},
     "output_type": "execute_result"
    }
   ],
   "source": [
    "epica8kyr1.tail()"
   ]
  },
  {
   "cell_type": "code",
   "execution_count": null,
   "metadata": {},
   "outputs": [
    {
     "data": {
      "text/plain": [
       "Index(['year', 'co2', 'sigma'], dtype='object')"
      ]
     },
     "execution_count": 9,
     "metadata": {},
     "output_type": "execute_result"
    }
   ],
   "source": [
    "epica8kyr1.columns #info and columns for merging"
   ]
  },
  {
   "cell_type": "code",
   "execution_count": null,
   "metadata": {},
   "outputs": [
    {
     "name": "stdout",
     "output_type": "stream",
     "text": [
      "<class 'pandas.core.frame.DataFrame'>\n",
      "Index: 1856 entries, 0 to 1855\n",
      "Data columns (total 3 columns):\n",
      " #   Column  Non-Null Count  Dtype  \n",
      "---  ------  --------------  -----  \n",
      " 0   year    1856 non-null   int64  \n",
      " 1   co2     1856 non-null   float64\n",
      " 2   sigma   1856 non-null   float64\n",
      "dtypes: float64(2), int64(1)\n",
      "memory usage: 58.0 KB\n"
     ]
    }
   ],
   "source": [
    "epica8kyr1.info()"
   ]
  },
  {
   "cell_type": "markdown",
   "metadata": {},
   "source": [
    "---"
   ]
  },
  {
   "cell_type": "markdown",
   "metadata": {},
   "source": [
    "###### Epica CO2 Data 2"
   ]
  },
  {
   "cell_type": "code",
   "execution_count": null,
   "metadata": {},
   "outputs": [
    {
     "data": {
      "text/html": [
       "<div>\n",
       "<style scoped>\n",
       "    .dataframe tbody tr th:only-of-type {\n",
       "        vertical-align: middle;\n",
       "    }\n",
       "\n",
       "    .dataframe tbody tr th {\n",
       "        vertical-align: top;\n",
       "    }\n",
       "\n",
       "    .dataframe thead th {\n",
       "        text-align: right;\n",
       "    }\n",
       "</style>\n",
       "<table border=\"1\" class=\"dataframe\">\n",
       "  <thead>\n",
       "    <tr style=\"text-align: right;\">\n",
       "      <th></th>\n",
       "      <th>year</th>\n",
       "      <th>co2</th>\n",
       "      <th>unc</th>\n",
       "    </tr>\n",
       "  </thead>\n",
       "  <tbody>\n",
       "    <tr>\n",
       "      <th>0</th>\n",
       "      <td>1959</td>\n",
       "      <td>315.98</td>\n",
       "      <td>0.12</td>\n",
       "    </tr>\n",
       "    <tr>\n",
       "      <th>1</th>\n",
       "      <td>1960</td>\n",
       "      <td>316.91</td>\n",
       "      <td>0.12</td>\n",
       "    </tr>\n",
       "    <tr>\n",
       "      <th>2</th>\n",
       "      <td>1961</td>\n",
       "      <td>317.64</td>\n",
       "      <td>0.12</td>\n",
       "    </tr>\n",
       "    <tr>\n",
       "      <th>3</th>\n",
       "      <td>1962</td>\n",
       "      <td>318.45</td>\n",
       "      <td>0.12</td>\n",
       "    </tr>\n",
       "    <tr>\n",
       "      <th>4</th>\n",
       "      <td>1963</td>\n",
       "      <td>318.99</td>\n",
       "      <td>0.12</td>\n",
       "    </tr>\n",
       "  </tbody>\n",
       "</table>\n",
       "</div>"
      ],
      "text/plain": [
       "   year     co2   unc\n",
       "0  1959  315.98  0.12\n",
       "1  1960  316.91  0.12\n",
       "2  1961  317.64  0.12\n",
       "3  1962  318.45  0.12\n",
       "4  1963  318.99  0.12"
      ]
     },
     "execution_count": 11,
     "metadata": {},
     "output_type": "execute_result"
    }
   ],
   "source": [
    "epica8kyr2.head()"
   ]
  },
  {
   "cell_type": "code",
   "execution_count": null,
   "metadata": {},
   "outputs": [
    {
     "data": {
      "text/html": [
       "<div>\n",
       "<style scoped>\n",
       "    .dataframe tbody tr th:only-of-type {\n",
       "        vertical-align: middle;\n",
       "    }\n",
       "\n",
       "    .dataframe tbody tr th {\n",
       "        vertical-align: top;\n",
       "    }\n",
       "\n",
       "    .dataframe thead th {\n",
       "        text-align: right;\n",
       "    }\n",
       "</style>\n",
       "<table border=\"1\" class=\"dataframe\">\n",
       "  <thead>\n",
       "    <tr style=\"text-align: right;\">\n",
       "      <th></th>\n",
       "      <th>year</th>\n",
       "      <th>co2</th>\n",
       "      <th>unc</th>\n",
       "    </tr>\n",
       "  </thead>\n",
       "  <tbody>\n",
       "    <tr>\n",
       "      <th>60</th>\n",
       "      <td>2019</td>\n",
       "      <td>411.66</td>\n",
       "      <td>0.12</td>\n",
       "    </tr>\n",
       "    <tr>\n",
       "      <th>61</th>\n",
       "      <td>2020</td>\n",
       "      <td>414.21</td>\n",
       "      <td>0.12</td>\n",
       "    </tr>\n",
       "    <tr>\n",
       "      <th>62</th>\n",
       "      <td>2021</td>\n",
       "      <td>416.41</td>\n",
       "      <td>0.12</td>\n",
       "    </tr>\n",
       "    <tr>\n",
       "      <th>63</th>\n",
       "      <td>2022</td>\n",
       "      <td>418.53</td>\n",
       "      <td>0.12</td>\n",
       "    </tr>\n",
       "    <tr>\n",
       "      <th>64</th>\n",
       "      <td>2023</td>\n",
       "      <td>421.08</td>\n",
       "      <td>0.12</td>\n",
       "    </tr>\n",
       "  </tbody>\n",
       "</table>\n",
       "</div>"
      ],
      "text/plain": [
       "    year     co2   unc\n",
       "60  2019  411.66  0.12\n",
       "61  2020  414.21  0.12\n",
       "62  2021  416.41  0.12\n",
       "63  2022  418.53  0.12\n",
       "64  2023  421.08  0.12"
      ]
     },
     "execution_count": 12,
     "metadata": {},
     "output_type": "execute_result"
    }
   ],
   "source": [
    "epica8kyr2.tail()"
   ]
  },
  {
   "cell_type": "code",
   "execution_count": null,
   "metadata": {},
   "outputs": [
    {
     "data": {
      "text/plain": [
       "Index(['year', 'co2', 'unc'], dtype='object')"
      ]
     },
     "execution_count": 13,
     "metadata": {},
     "output_type": "execute_result"
    }
   ],
   "source": [
    "epica8kyr2.columns"
   ]
  },
  {
   "cell_type": "code",
   "execution_count": null,
   "metadata": {},
   "outputs": [
    {
     "name": "stdout",
     "output_type": "stream",
     "text": [
      "<class 'pandas.core.frame.DataFrame'>\n",
      "RangeIndex: 65 entries, 0 to 64\n",
      "Data columns (total 3 columns):\n",
      " #   Column  Non-Null Count  Dtype  \n",
      "---  ------  --------------  -----  \n",
      " 0   year    65 non-null     int64  \n",
      " 1   co2     65 non-null     float64\n",
      " 2   unc     65 non-null     float64\n",
      "dtypes: float64(2), int64(1)\n",
      "memory usage: 1.7 KB\n"
     ]
    }
   ],
   "source": [
    "epica8kyr2.info()"
   ]
  },
  {
   "cell_type": "markdown",
   "metadata": {},
   "source": [
    "---"
   ]
  },
  {
   "cell_type": "markdown",
   "metadata": {},
   "source": [
    "###### Epica CO2 Data 3"
   ]
  },
  {
   "cell_type": "code",
   "execution_count": null,
   "metadata": {},
   "outputs": [
    {
     "data": {
      "text/html": [
       "<div>\n",
       "<style scoped>\n",
       "    .dataframe tbody tr th:only-of-type {\n",
       "        vertical-align: middle;\n",
       "    }\n",
       "\n",
       "    .dataframe tbody tr th {\n",
       "        vertical-align: top;\n",
       "    }\n",
       "\n",
       "    .dataframe thead th {\n",
       "        text-align: right;\n",
       "    }\n",
       "</style>\n",
       "<table border=\"1\" class=\"dataframe\">\n",
       "  <thead>\n",
       "    <tr style=\"text-align: right;\">\n",
       "      <th></th>\n",
       "      <th>year</th>\n",
       "      <th>co2</th>\n",
       "      <th>unc</th>\n",
       "    </tr>\n",
       "  </thead>\n",
       "  <tbody>\n",
       "    <tr>\n",
       "      <th>NaN</th>\n",
       "      <td>2023</td>\n",
       "      <td>1922.53</td>\n",
       "      <td>0.62</td>\n",
       "    </tr>\n",
       "    <tr>\n",
       "      <th>NaN</th>\n",
       "      <td>2022</td>\n",
       "      <td>1911.81</td>\n",
       "      <td>0.78</td>\n",
       "    </tr>\n",
       "    <tr>\n",
       "      <th>NaN</th>\n",
       "      <td>2021</td>\n",
       "      <td>1895.28</td>\n",
       "      <td>0.55</td>\n",
       "    </tr>\n",
       "    <tr>\n",
       "      <th>NaN</th>\n",
       "      <td>2020</td>\n",
       "      <td>1878.93</td>\n",
       "      <td>0.56</td>\n",
       "    </tr>\n",
       "    <tr>\n",
       "      <th>NaN</th>\n",
       "      <td>2019</td>\n",
       "      <td>1866.58</td>\n",
       "      <td>0.60</td>\n",
       "    </tr>\n",
       "  </tbody>\n",
       "</table>\n",
       "</div>"
      ],
      "text/plain": [
       "     year      co2   unc\n",
       "NaN  2023  1922.53  0.62\n",
       "NaN  2022  1911.81  0.78\n",
       "NaN  2021  1895.28  0.55\n",
       "NaN  2020  1878.93  0.56\n",
       "NaN  2019  1866.58  0.60"
      ]
     },
     "execution_count": 15,
     "metadata": {},
     "output_type": "execute_result"
    }
   ],
   "source": [
    "epica8kyr3.head()"
   ]
  },
  {
   "cell_type": "code",
   "execution_count": null,
   "metadata": {},
   "outputs": [
    {
     "data": {
      "text/html": [
       "<div>\n",
       "<style scoped>\n",
       "    .dataframe tbody tr th:only-of-type {\n",
       "        vertical-align: middle;\n",
       "    }\n",
       "\n",
       "    .dataframe tbody tr th {\n",
       "        vertical-align: top;\n",
       "    }\n",
       "\n",
       "    .dataframe thead th {\n",
       "        text-align: right;\n",
       "    }\n",
       "</style>\n",
       "<table border=\"1\" class=\"dataframe\">\n",
       "  <thead>\n",
       "    <tr style=\"text-align: right;\">\n",
       "      <th></th>\n",
       "      <th>year</th>\n",
       "      <th>co2</th>\n",
       "      <th>unc</th>\n",
       "    </tr>\n",
       "  </thead>\n",
       "  <tbody>\n",
       "    <tr>\n",
       "      <th>NaN</th>\n",
       "      <td>1988</td>\n",
       "      <td>1693.11</td>\n",
       "      <td>0.67</td>\n",
       "    </tr>\n",
       "    <tr>\n",
       "      <th>NaN</th>\n",
       "      <td>1987</td>\n",
       "      <td>1682.70</td>\n",
       "      <td>0.49</td>\n",
       "    </tr>\n",
       "    <tr>\n",
       "      <th>NaN</th>\n",
       "      <td>1986</td>\n",
       "      <td>1670.09</td>\n",
       "      <td>0.74</td>\n",
       "    </tr>\n",
       "    <tr>\n",
       "      <th>NaN</th>\n",
       "      <td>1985</td>\n",
       "      <td>1657.29</td>\n",
       "      <td>0.59</td>\n",
       "    </tr>\n",
       "    <tr>\n",
       "      <th>NaN</th>\n",
       "      <td>1984</td>\n",
       "      <td>1644.68</td>\n",
       "      <td>0.67</td>\n",
       "    </tr>\n",
       "  </tbody>\n",
       "</table>\n",
       "</div>"
      ],
      "text/plain": [
       "     year      co2   unc\n",
       "NaN  1988  1693.11  0.67\n",
       "NaN  1987  1682.70  0.49\n",
       "NaN  1986  1670.09  0.74\n",
       "NaN  1985  1657.29  0.59\n",
       "NaN  1984  1644.68  0.67"
      ]
     },
     "execution_count": 16,
     "metadata": {},
     "output_type": "execute_result"
    }
   ],
   "source": [
    "epica8kyr3.tail()"
   ]
  },
  {
   "cell_type": "code",
   "execution_count": null,
   "metadata": {},
   "outputs": [
    {
     "data": {
      "text/plain": [
       "Index(['year', 'co2', 'unc'], dtype='object')"
      ]
     },
     "execution_count": 17,
     "metadata": {},
     "output_type": "execute_result"
    }
   ],
   "source": [
    "epica8kyr3.columns"
   ]
  },
  {
   "cell_type": "code",
   "execution_count": null,
   "metadata": {},
   "outputs": [
    {
     "name": "stdout",
     "output_type": "stream",
     "text": [
      "<class 'pandas.core.frame.DataFrame'>\n",
      "Index: 40 entries, nan to nan\n",
      "Data columns (total 3 columns):\n",
      " #   Column  Non-Null Count  Dtype  \n",
      "---  ------  --------------  -----  \n",
      " 0   year    40 non-null     int64  \n",
      " 1   co2     40 non-null     float64\n",
      " 2   unc     40 non-null     float64\n",
      "dtypes: float64(2), int64(1)\n",
      "memory usage: 1.2 KB\n"
     ]
    }
   ],
   "source": [
    "epica8kyr3.info()"
   ]
  },
  {
   "cell_type": "markdown",
   "metadata": {},
   "source": [
    "---"
   ]
  },
  {
   "cell_type": "markdown",
   "metadata": {},
   "source": [
    "---"
   ]
  },
  {
   "cell_type": "markdown",
   "metadata": {},
   "source": [
    "### CH4"
   ]
  },
  {
   "cell_type": "markdown",
   "metadata": {},
   "source": [
    "#### CH4 Data 1"
   ]
  },
  {
   "cell_type": "code",
   "execution_count": null,
   "metadata": {},
   "outputs": [],
   "source": [
    "colnames = [\"year\", \"ch4\", \"unc\"]\n",
    "noaach4 = \"https://gml.noaa.gov/webdata/ccgg/trends/ch4/ch4_annmean_gl.txt\"\n",
    "\n",
    "response = requests.get(noaach4)\n",
    "\n",
    "if response.status_code == 200:\n",
    "    text = response.text\n",
    "    noaach4df = pd.read_fwf(StringIO(response.text), names=colnames, widths=[6, 12, 8], skiprows=44, header=0)\n",
    "    noaach4sort = noaach4df.sort_index(ascending=False)\n",
    "    noaach4sort.to_csv(\"noaach4new.csv\", index=False)"
   ]
  },
  {
   "cell_type": "markdown",
   "metadata": {},
   "source": [
    "#### CH4 Data 2"
   ]
  },
  {
   "cell_type": "code",
   "execution_count": null,
   "metadata": {},
   "outputs": [],
   "source": [
    "ch4names = [\"year\", \"ch4\"]\n",
    "ch4data = pd.read_csv(\"https://climatechange.chicago.gov/sites/production/files/2016-08/ghg-concentrations_fig-2.csv\", usecols=[0, 1], skiprows=7, header=0, names=ch4names)\n",
    "ch4data[\"year\"] = pd.to_numeric(ch4data[\"year\"], errors='coerce')\n",
    "ch4data = ch4data.dropna(subset=[\"year\"])\n",
    "ch4data[\"year\"] = ch4data[\"year\"].astype(int)\n",
    "ch4data.to_csv(\"ch4data.csv\")"
   ]
  },
  {
   "cell_type": "markdown",
   "metadata": {},
   "source": [
    "##### Initial Analysis"
   ]
  },
  {
   "cell_type": "markdown",
   "metadata": {},
   "source": [
    "##### CH4 DATA 1"
   ]
  },
  {
   "cell_type": "code",
   "execution_count": null,
   "metadata": {},
   "outputs": [
    {
     "data": {
      "text/html": [
       "<div>\n",
       "<style scoped>\n",
       "    .dataframe tbody tr th:only-of-type {\n",
       "        vertical-align: middle;\n",
       "    }\n",
       "\n",
       "    .dataframe tbody tr th {\n",
       "        vertical-align: top;\n",
       "    }\n",
       "\n",
       "    .dataframe thead th {\n",
       "        text-align: right;\n",
       "    }\n",
       "</style>\n",
       "<table border=\"1\" class=\"dataframe\">\n",
       "  <thead>\n",
       "    <tr style=\"text-align: right;\">\n",
       "      <th></th>\n",
       "      <th>year</th>\n",
       "      <th>ch4</th>\n",
       "      <th>unc</th>\n",
       "    </tr>\n",
       "  </thead>\n",
       "  <tbody>\n",
       "    <tr>\n",
       "      <th>39</th>\n",
       "      <td>2023</td>\n",
       "      <td>1922.53</td>\n",
       "      <td>0.62</td>\n",
       "    </tr>\n",
       "    <tr>\n",
       "      <th>38</th>\n",
       "      <td>2022</td>\n",
       "      <td>1911.81</td>\n",
       "      <td>0.78</td>\n",
       "    </tr>\n",
       "    <tr>\n",
       "      <th>37</th>\n",
       "      <td>2021</td>\n",
       "      <td>1895.28</td>\n",
       "      <td>0.55</td>\n",
       "    </tr>\n",
       "    <tr>\n",
       "      <th>36</th>\n",
       "      <td>2020</td>\n",
       "      <td>1878.93</td>\n",
       "      <td>0.56</td>\n",
       "    </tr>\n",
       "    <tr>\n",
       "      <th>35</th>\n",
       "      <td>2019</td>\n",
       "      <td>1866.58</td>\n",
       "      <td>0.60</td>\n",
       "    </tr>\n",
       "  </tbody>\n",
       "</table>\n",
       "</div>"
      ],
      "text/plain": [
       "    year      ch4   unc\n",
       "39  2023  1922.53  0.62\n",
       "38  2022  1911.81  0.78\n",
       "37  2021  1895.28  0.55\n",
       "36  2020  1878.93  0.56\n",
       "35  2019  1866.58  0.60"
      ]
     },
     "execution_count": 21,
     "metadata": {},
     "output_type": "execute_result"
    }
   ],
   "source": [
    "noaach4sort.head()"
   ]
  },
  {
   "cell_type": "code",
   "execution_count": null,
   "metadata": {},
   "outputs": [
    {
     "data": {
      "text/html": [
       "<div>\n",
       "<style scoped>\n",
       "    .dataframe tbody tr th:only-of-type {\n",
       "        vertical-align: middle;\n",
       "    }\n",
       "\n",
       "    .dataframe tbody tr th {\n",
       "        vertical-align: top;\n",
       "    }\n",
       "\n",
       "    .dataframe thead th {\n",
       "        text-align: right;\n",
       "    }\n",
       "</style>\n",
       "<table border=\"1\" class=\"dataframe\">\n",
       "  <thead>\n",
       "    <tr style=\"text-align: right;\">\n",
       "      <th></th>\n",
       "      <th>year</th>\n",
       "      <th>ch4</th>\n",
       "      <th>unc</th>\n",
       "    </tr>\n",
       "  </thead>\n",
       "  <tbody>\n",
       "    <tr>\n",
       "      <th>4</th>\n",
       "      <td>1988</td>\n",
       "      <td>1693.11</td>\n",
       "      <td>0.67</td>\n",
       "    </tr>\n",
       "    <tr>\n",
       "      <th>3</th>\n",
       "      <td>1987</td>\n",
       "      <td>1682.70</td>\n",
       "      <td>0.49</td>\n",
       "    </tr>\n",
       "    <tr>\n",
       "      <th>2</th>\n",
       "      <td>1986</td>\n",
       "      <td>1670.09</td>\n",
       "      <td>0.74</td>\n",
       "    </tr>\n",
       "    <tr>\n",
       "      <th>1</th>\n",
       "      <td>1985</td>\n",
       "      <td>1657.29</td>\n",
       "      <td>0.59</td>\n",
       "    </tr>\n",
       "    <tr>\n",
       "      <th>0</th>\n",
       "      <td>1984</td>\n",
       "      <td>1644.68</td>\n",
       "      <td>0.67</td>\n",
       "    </tr>\n",
       "  </tbody>\n",
       "</table>\n",
       "</div>"
      ],
      "text/plain": [
       "   year      ch4   unc\n",
       "4  1988  1693.11  0.67\n",
       "3  1987  1682.70  0.49\n",
       "2  1986  1670.09  0.74\n",
       "1  1985  1657.29  0.59\n",
       "0  1984  1644.68  0.67"
      ]
     },
     "execution_count": 22,
     "metadata": {},
     "output_type": "execute_result"
    }
   ],
   "source": [
    "noaach4sort.tail()"
   ]
  },
  {
   "cell_type": "code",
   "execution_count": null,
   "metadata": {},
   "outputs": [
    {
     "name": "stdout",
     "output_type": "stream",
     "text": [
      "<class 'pandas.core.frame.DataFrame'>\n",
      "Index: 40 entries, 39 to 0\n",
      "Data columns (total 3 columns):\n",
      " #   Column  Non-Null Count  Dtype  \n",
      "---  ------  --------------  -----  \n",
      " 0   year    40 non-null     int64  \n",
      " 1   ch4     40 non-null     float64\n",
      " 2   unc     40 non-null     float64\n",
      "dtypes: float64(2), int64(1)\n",
      "memory usage: 1.2 KB\n"
     ]
    }
   ],
   "source": [
    "noaach4sort.info()"
   ]
  },
  {
   "cell_type": "code",
   "execution_count": null,
   "metadata": {},
   "outputs": [
    {
     "data": {
      "text/html": [
       "<div>\n",
       "<style scoped>\n",
       "    .dataframe tbody tr th:only-of-type {\n",
       "        vertical-align: middle;\n",
       "    }\n",
       "\n",
       "    .dataframe tbody tr th {\n",
       "        vertical-align: top;\n",
       "    }\n",
       "\n",
       "    .dataframe thead th {\n",
       "        text-align: right;\n",
       "    }\n",
       "</style>\n",
       "<table border=\"1\" class=\"dataframe\">\n",
       "  <thead>\n",
       "    <tr style=\"text-align: right;\">\n",
       "      <th></th>\n",
       "      <th>year</th>\n",
       "      <th>ch4</th>\n",
       "      <th>unc</th>\n",
       "    </tr>\n",
       "  </thead>\n",
       "  <tbody>\n",
       "    <tr>\n",
       "      <th>count</th>\n",
       "      <td>40.000000</td>\n",
       "      <td>40.000000</td>\n",
       "      <td>40.000000</td>\n",
       "    </tr>\n",
       "    <tr>\n",
       "      <th>mean</th>\n",
       "      <td>2003.500000</td>\n",
       "      <td>1779.660000</td>\n",
       "      <td>0.620000</td>\n",
       "    </tr>\n",
       "    <tr>\n",
       "      <th>std</th>\n",
       "      <td>11.690452</td>\n",
       "      <td>66.918839</td>\n",
       "      <td>0.095676</td>\n",
       "    </tr>\n",
       "    <tr>\n",
       "      <th>min</th>\n",
       "      <td>1984.000000</td>\n",
       "      <td>1644.680000</td>\n",
       "      <td>0.420000</td>\n",
       "    </tr>\n",
       "    <tr>\n",
       "      <th>25%</th>\n",
       "      <td>1993.750000</td>\n",
       "      <td>1740.675000</td>\n",
       "      <td>0.550000</td>\n",
       "    </tr>\n",
       "    <tr>\n",
       "      <th>50%</th>\n",
       "      <td>2003.500000</td>\n",
       "      <td>1774.555000</td>\n",
       "      <td>0.630000</td>\n",
       "    </tr>\n",
       "    <tr>\n",
       "      <th>75%</th>\n",
       "      <td>2013.250000</td>\n",
       "      <td>1815.700000</td>\n",
       "      <td>0.680000</td>\n",
       "    </tr>\n",
       "    <tr>\n",
       "      <th>max</th>\n",
       "      <td>2023.000000</td>\n",
       "      <td>1922.530000</td>\n",
       "      <td>0.820000</td>\n",
       "    </tr>\n",
       "  </tbody>\n",
       "</table>\n",
       "</div>"
      ],
      "text/plain": [
       "              year          ch4        unc\n",
       "count    40.000000    40.000000  40.000000\n",
       "mean   2003.500000  1779.660000   0.620000\n",
       "std      11.690452    66.918839   0.095676\n",
       "min    1984.000000  1644.680000   0.420000\n",
       "25%    1993.750000  1740.675000   0.550000\n",
       "50%    2003.500000  1774.555000   0.630000\n",
       "75%    2013.250000  1815.700000   0.680000\n",
       "max    2023.000000  1922.530000   0.820000"
      ]
     },
     "execution_count": 24,
     "metadata": {},
     "output_type": "execute_result"
    }
   ],
   "source": [
    "noaach4sort.describe()"
   ]
  },
  {
   "cell_type": "code",
   "execution_count": null,
   "metadata": {},
   "outputs": [
    {
     "data": {
      "text/plain": [
       "Index(['year', 'ch4', 'unc'], dtype='object')"
      ]
     },
     "execution_count": 25,
     "metadata": {},
     "output_type": "execute_result"
    }
   ],
   "source": [
    "noaach4sort.columns"
   ]
  },
  {
   "cell_type": "markdown",
   "metadata": {},
   "source": [
    "##### CH4 DATA 2"
   ]
  },
  {
   "cell_type": "code",
   "execution_count": null,
   "metadata": {},
   "outputs": [
    {
     "data": {
      "text/html": [
       "<div>\n",
       "<style scoped>\n",
       "    .dataframe tbody tr th:only-of-type {\n",
       "        vertical-align: middle;\n",
       "    }\n",
       "\n",
       "    .dataframe tbody tr th {\n",
       "        vertical-align: top;\n",
       "    }\n",
       "\n",
       "    .dataframe thead th {\n",
       "        text-align: right;\n",
       "    }\n",
       "</style>\n",
       "<table border=\"1\" class=\"dataframe\">\n",
       "  <thead>\n",
       "    <tr style=\"text-align: right;\">\n",
       "      <th></th>\n",
       "      <th>year</th>\n",
       "      <th>ch4</th>\n",
       "    </tr>\n",
       "  </thead>\n",
       "  <tbody>\n",
       "    <tr>\n",
       "      <th>0</th>\n",
       "      <td>-797446</td>\n",
       "      <td>399.3</td>\n",
       "    </tr>\n",
       "    <tr>\n",
       "      <th>1</th>\n",
       "      <td>-796467</td>\n",
       "      <td>457.8</td>\n",
       "    </tr>\n",
       "    <tr>\n",
       "      <th>2</th>\n",
       "      <td>-795327</td>\n",
       "      <td>396.1</td>\n",
       "    </tr>\n",
       "    <tr>\n",
       "      <th>3</th>\n",
       "      <td>-794369</td>\n",
       "      <td>418.0</td>\n",
       "    </tr>\n",
       "    <tr>\n",
       "      <th>4</th>\n",
       "      <td>-792988</td>\n",
       "      <td>428.3</td>\n",
       "    </tr>\n",
       "  </tbody>\n",
       "</table>\n",
       "</div>"
      ],
      "text/plain": [
       "     year    ch4\n",
       "0 -797446  399.3\n",
       "1 -796467  457.8\n",
       "2 -795327  396.1\n",
       "3 -794369  418.0\n",
       "4 -792988  428.3"
      ]
     },
     "execution_count": 26,
     "metadata": {},
     "output_type": "execute_result"
    }
   ],
   "source": [
    "ch4data.head()"
   ]
  },
  {
   "cell_type": "code",
   "execution_count": null,
   "metadata": {},
   "outputs": [
    {
     "data": {
      "text/html": [
       "<div>\n",
       "<style scoped>\n",
       "    .dataframe tbody tr th:only-of-type {\n",
       "        vertical-align: middle;\n",
       "    }\n",
       "\n",
       "    .dataframe tbody tr th {\n",
       "        vertical-align: top;\n",
       "    }\n",
       "\n",
       "    .dataframe thead th {\n",
       "        text-align: right;\n",
       "    }\n",
       "</style>\n",
       "<table border=\"1\" class=\"dataframe\">\n",
       "  <thead>\n",
       "    <tr style=\"text-align: right;\">\n",
       "      <th></th>\n",
       "      <th>year</th>\n",
       "      <th>ch4</th>\n",
       "    </tr>\n",
       "  </thead>\n",
       "  <tbody>\n",
       "    <tr>\n",
       "      <th>2203</th>\n",
       "      <td>2011</td>\n",
       "      <td>NaN</td>\n",
       "    </tr>\n",
       "    <tr>\n",
       "      <th>2204</th>\n",
       "      <td>2012</td>\n",
       "      <td>NaN</td>\n",
       "    </tr>\n",
       "    <tr>\n",
       "      <th>2205</th>\n",
       "      <td>2013</td>\n",
       "      <td>NaN</td>\n",
       "    </tr>\n",
       "    <tr>\n",
       "      <th>2206</th>\n",
       "      <td>2014</td>\n",
       "      <td>NaN</td>\n",
       "    </tr>\n",
       "    <tr>\n",
       "      <th>2207</th>\n",
       "      <td>2015</td>\n",
       "      <td>NaN</td>\n",
       "    </tr>\n",
       "  </tbody>\n",
       "</table>\n",
       "</div>"
      ],
      "text/plain": [
       "      year  ch4\n",
       "2203  2011  NaN\n",
       "2204  2012  NaN\n",
       "2205  2013  NaN\n",
       "2206  2014  NaN\n",
       "2207  2015  NaN"
      ]
     },
     "execution_count": 27,
     "metadata": {},
     "output_type": "execute_result"
    }
   ],
   "source": [
    "ch4data.tail()"
   ]
  },
  {
   "cell_type": "code",
   "execution_count": null,
   "metadata": {},
   "outputs": [
    {
     "name": "stdout",
     "output_type": "stream",
     "text": [
      "<class 'pandas.core.frame.DataFrame'>\n",
      "Index: 2207 entries, 0 to 2207\n",
      "Data columns (total 2 columns):\n",
      " #   Column  Non-Null Count  Dtype  \n",
      "---  ------  --------------  -----  \n",
      " 0   year    2207 non-null   int64  \n",
      " 1   ch4     2103 non-null   float64\n",
      "dtypes: float64(1), int64(1)\n",
      "memory usage: 51.7 KB\n"
     ]
    }
   ],
   "source": [
    "ch4data.info()"
   ]
  },
  {
   "cell_type": "code",
   "execution_count": null,
   "metadata": {},
   "outputs": [
    {
     "data": {
      "text/html": [
       "<div>\n",
       "<style scoped>\n",
       "    .dataframe tbody tr th:only-of-type {\n",
       "        vertical-align: middle;\n",
       "    }\n",
       "\n",
       "    .dataframe tbody tr th {\n",
       "        vertical-align: top;\n",
       "    }\n",
       "\n",
       "    .dataframe thead th {\n",
       "        text-align: right;\n",
       "    }\n",
       "</style>\n",
       "<table border=\"1\" class=\"dataframe\">\n",
       "  <thead>\n",
       "    <tr style=\"text-align: right;\">\n",
       "      <th></th>\n",
       "      <th>year</th>\n",
       "      <th>ch4</th>\n",
       "    </tr>\n",
       "  </thead>\n",
       "  <tbody>\n",
       "    <tr>\n",
       "      <th>count</th>\n",
       "      <td>2207.000000</td>\n",
       "      <td>2103.000000</td>\n",
       "    </tr>\n",
       "    <tr>\n",
       "      <th>mean</th>\n",
       "      <td>-256194.044857</td>\n",
       "      <td>519.952278</td>\n",
       "    </tr>\n",
       "    <tr>\n",
       "      <th>std</th>\n",
       "      <td>244220.615987</td>\n",
       "      <td>88.056229</td>\n",
       "    </tr>\n",
       "    <tr>\n",
       "      <th>min</th>\n",
       "      <td>-797446.000000</td>\n",
       "      <td>342.400000</td>\n",
       "    </tr>\n",
       "    <tr>\n",
       "      <th>25%</th>\n",
       "      <td>-417824.500000</td>\n",
       "      <td>449.850000</td>\n",
       "    </tr>\n",
       "    <tr>\n",
       "      <th>50%</th>\n",
       "      <td>-203931.000000</td>\n",
       "      <td>508.666667</td>\n",
       "    </tr>\n",
       "    <tr>\n",
       "      <th>75%</th>\n",
       "      <td>-33459.500000</td>\n",
       "      <td>589.395389</td>\n",
       "    </tr>\n",
       "    <tr>\n",
       "      <th>max</th>\n",
       "      <td>2015.000000</td>\n",
       "      <td>907.000000</td>\n",
       "    </tr>\n",
       "  </tbody>\n",
       "</table>\n",
       "</div>"
      ],
      "text/plain": [
       "                year          ch4\n",
       "count    2207.000000  2103.000000\n",
       "mean  -256194.044857   519.952278\n",
       "std    244220.615987    88.056229\n",
       "min   -797446.000000   342.400000\n",
       "25%   -417824.500000   449.850000\n",
       "50%   -203931.000000   508.666667\n",
       "75%    -33459.500000   589.395389\n",
       "max      2015.000000   907.000000"
      ]
     },
     "execution_count": 29,
     "metadata": {},
     "output_type": "execute_result"
    }
   ],
   "source": [
    "ch4data.describe()"
   ]
  },
  {
   "cell_type": "code",
   "execution_count": null,
   "metadata": {},
   "outputs": [
    {
     "data": {
      "text/plain": [
       "Index(['year', 'ch4'], dtype='object')"
      ]
     },
     "execution_count": 30,
     "metadata": {},
     "output_type": "execute_result"
    }
   ],
   "source": [
    "ch4data.columns"
   ]
  },
  {
   "cell_type": "markdown",
   "metadata": {},
   "source": [
    "---"
   ]
  },
  {
   "cell_type": "markdown",
   "metadata": {},
   "source": [
    "---"
   ]
  },
  {
   "cell_type": "markdown",
   "metadata": {},
   "source": [
    "### Temperature"
   ]
  },
  {
   "cell_type": "markdown",
   "metadata": {},
   "source": [
    "#### Temperature Data 1"
   ]
  },
  {
   "cell_type": "code",
   "execution_count": null,
   "metadata": {},
   "outputs": [],
   "source": [
    "epicadeut = \"https://www.ncei.noaa.gov/pub/data/paleo/icecore/antarctica/epica_domec/edc3deuttemp2007.txt\"\n",
    "\n",
    "response = requests.get(epicadeut)\n",
    "\n",
    "if response.status_code == 200:\n",
    "    text = response.text\n",
    "    epicadeutdf = pd.read_csv(StringIO(text), sep='\\s+', skiprows=89, header=0)\n",
    "    epicadeutdf.rename(columns={\"Age\": \"year\"}, inplace=True)\n",
    "    epicadeutdf.rename(columns={\"Temperature\": \"temp\"}, inplace=True)\n",
    "    epicadeutdf[\"year\"] = epicadeutdf[\"year\"].astype(int)\n",
    "    epicadeutdf[\"year\"] = -1 * epicadeutdf[\"year\"] + 1950\n",
    "    epicadeutdf[\"temp\"] = epicadeutdf[\"temp\"] + (-54.5)\n",
    "    \n",
    "    epicacols = epicadeutdf.iloc[:, [2, 4]]\n",
    "\n",
    "epicacols.to_csv(\"epicadeut.csv\", index=False)"
   ]
  },
  {
   "cell_type": "markdown",
   "metadata": {},
   "source": [
    "#### Temperature Data 2"
   ]
  },
  {
   "cell_type": "code",
   "execution_count": null,
   "metadata": {},
   "outputs": [],
   "source": [
    "noaanames=[\"year\", \"temp\"]\n",
    "noaatemp = pd.read_csv(\"https://www.ncei.noaa.gov/access/monitoring/climate-at-a-glance/global/time-series/antarctic/land_ocean/12/11/1850-2023/data.csv\", skiprows=5, names=noaanames, header=0)\n",
    "noaatemp[\"temp\"] = pd.to_numeric(noaatemp[\"temp\"], errors=\"coerce\")\n",
    "noaatemp[\"temp\"] = noaatemp[\"temp\"] + (-54.5)\n",
    "noaasort = noaatemp.sort_values(by=\"year\", ascending=False)\n",
    "noaasort.to_csv(\"noaatemp.csv\", index=False)"
   ]
  },
  {
   "cell_type": "markdown",
   "metadata": {},
   "source": [
    "##### Initital Analysis"
   ]
  },
  {
   "cell_type": "code",
   "execution_count": null,
   "metadata": {},
   "outputs": [
    {
     "data": {
      "text/html": [
       "<div>\n",
       "<style scoped>\n",
       "    .dataframe tbody tr th:only-of-type {\n",
       "        vertical-align: middle;\n",
       "    }\n",
       "\n",
       "    .dataframe tbody tr th {\n",
       "        vertical-align: top;\n",
       "    }\n",
       "\n",
       "    .dataframe thead th {\n",
       "        text-align: right;\n",
       "    }\n",
       "</style>\n",
       "<table border=\"1\" class=\"dataframe\">\n",
       "  <thead>\n",
       "    <tr style=\"text-align: right;\">\n",
       "      <th></th>\n",
       "      <th>year</th>\n",
       "      <th>temp</th>\n",
       "    </tr>\n",
       "  </thead>\n",
       "  <tbody>\n",
       "    <tr>\n",
       "      <th>0</th>\n",
       "      <td>2000</td>\n",
       "      <td>NaN</td>\n",
       "    </tr>\n",
       "    <tr>\n",
       "      <th>1</th>\n",
       "      <td>1993</td>\n",
       "      <td>NaN</td>\n",
       "    </tr>\n",
       "    <tr>\n",
       "      <th>2</th>\n",
       "      <td>1987</td>\n",
       "      <td>NaN</td>\n",
       "    </tr>\n",
       "    <tr>\n",
       "      <th>3</th>\n",
       "      <td>1981</td>\n",
       "      <td>NaN</td>\n",
       "    </tr>\n",
       "    <tr>\n",
       "      <th>4</th>\n",
       "      <td>1974</td>\n",
       "      <td>NaN</td>\n",
       "    </tr>\n",
       "  </tbody>\n",
       "</table>\n",
       "</div>"
      ],
      "text/plain": [
       "   year  temp\n",
       "0  2000   NaN\n",
       "1  1993   NaN\n",
       "2  1987   NaN\n",
       "3  1981   NaN\n",
       "4  1974   NaN"
      ]
     },
     "execution_count": 33,
     "metadata": {},
     "output_type": "execute_result"
    }
   ],
   "source": [
    "epicacols.head()"
   ]
  },
  {
   "cell_type": "code",
   "execution_count": null,
   "metadata": {},
   "outputs": [
    {
     "data": {
      "text/html": [
       "<div>\n",
       "<style scoped>\n",
       "    .dataframe tbody tr th:only-of-type {\n",
       "        vertical-align: middle;\n",
       "    }\n",
       "\n",
       "    .dataframe tbody tr th {\n",
       "        vertical-align: top;\n",
       "    }\n",
       "\n",
       "    .dataframe thead th {\n",
       "        text-align: right;\n",
       "    }\n",
       "</style>\n",
       "<table border=\"1\" class=\"dataframe\">\n",
       "  <thead>\n",
       "    <tr style=\"text-align: right;\">\n",
       "      <th></th>\n",
       "      <th>year</th>\n",
       "      <th>temp</th>\n",
       "    </tr>\n",
       "  </thead>\n",
       "  <tbody>\n",
       "    <tr>\n",
       "      <th>5795</th>\n",
       "      <td>-795458</td>\n",
       "      <td>-63.23</td>\n",
       "    </tr>\n",
       "    <tr>\n",
       "      <th>5796</th>\n",
       "      <td>-796493</td>\n",
       "      <td>-63.04</td>\n",
       "    </tr>\n",
       "    <tr>\n",
       "      <th>5797</th>\n",
       "      <td>-797551</td>\n",
       "      <td>-63.38</td>\n",
       "    </tr>\n",
       "    <tr>\n",
       "      <th>5798</th>\n",
       "      <td>-798639</td>\n",
       "      <td>-63.42</td>\n",
       "    </tr>\n",
       "    <tr>\n",
       "      <th>5799</th>\n",
       "      <td>-799712</td>\n",
       "      <td>-63.32</td>\n",
       "    </tr>\n",
       "  </tbody>\n",
       "</table>\n",
       "</div>"
      ],
      "text/plain": [
       "        year   temp\n",
       "5795 -795458 -63.23\n",
       "5796 -796493 -63.04\n",
       "5797 -797551 -63.38\n",
       "5798 -798639 -63.42\n",
       "5799 -799712 -63.32"
      ]
     },
     "execution_count": 34,
     "metadata": {},
     "output_type": "execute_result"
    }
   ],
   "source": [
    "epicacols.tail()"
   ]
  },
  {
   "cell_type": "code",
   "execution_count": null,
   "metadata": {},
   "outputs": [
    {
     "name": "stdout",
     "output_type": "stream",
     "text": [
      "<class 'pandas.core.frame.DataFrame'>\n",
      "RangeIndex: 5800 entries, 0 to 5799\n",
      "Data columns (total 2 columns):\n",
      " #   Column  Non-Null Count  Dtype  \n",
      "---  ------  --------------  -----  \n",
      " 0   year    5800 non-null   int64  \n",
      " 1   temp    5785 non-null   float64\n",
      "dtypes: float64(1), int64(1)\n",
      "memory usage: 90.8 KB\n"
     ]
    }
   ],
   "source": [
    "epicacols.info()"
   ]
  },
  {
   "cell_type": "code",
   "execution_count": null,
   "metadata": {},
   "outputs": [
    {
     "data": {
      "text/html": [
       "<div>\n",
       "<style scoped>\n",
       "    .dataframe tbody tr th:only-of-type {\n",
       "        vertical-align: middle;\n",
       "    }\n",
       "\n",
       "    .dataframe tbody tr th {\n",
       "        vertical-align: top;\n",
       "    }\n",
       "\n",
       "    .dataframe thead th {\n",
       "        text-align: right;\n",
       "    }\n",
       "</style>\n",
       "<table border=\"1\" class=\"dataframe\">\n",
       "  <thead>\n",
       "    <tr style=\"text-align: right;\">\n",
       "      <th></th>\n",
       "      <th>year</th>\n",
       "      <th>temp</th>\n",
       "    </tr>\n",
       "  </thead>\n",
       "  <tbody>\n",
       "    <tr>\n",
       "      <th>count</th>\n",
       "      <td>5800.000000</td>\n",
       "      <td>5785.000000</td>\n",
       "    </tr>\n",
       "    <tr>\n",
       "      <th>mean</th>\n",
       "      <td>-188065.971207</td>\n",
       "      <td>-59.080228</td>\n",
       "    </tr>\n",
       "    <tr>\n",
       "      <th>std</th>\n",
       "      <td>192546.358262</td>\n",
       "      <td>3.446971</td>\n",
       "    </tr>\n",
       "    <tr>\n",
       "      <th>min</th>\n",
       "      <td>-799712.000000</td>\n",
       "      <td>-65.080000</td>\n",
       "    </tr>\n",
       "    <tr>\n",
       "      <th>25%</th>\n",
       "      <td>-270506.250000</td>\n",
       "      <td>-61.950000</td>\n",
       "    </tr>\n",
       "    <tr>\n",
       "      <th>50%</th>\n",
       "      <td>-119843.000000</td>\n",
       "      <td>-59.700000</td>\n",
       "    </tr>\n",
       "    <tr>\n",
       "      <th>75%</th>\n",
       "      <td>-44380.000000</td>\n",
       "      <td>-56.320000</td>\n",
       "    </tr>\n",
       "    <tr>\n",
       "      <th>max</th>\n",
       "      <td>2000.000000</td>\n",
       "      <td>-49.040000</td>\n",
       "    </tr>\n",
       "  </tbody>\n",
       "</table>\n",
       "</div>"
      ],
      "text/plain": [
       "                year         temp\n",
       "count    5800.000000  5785.000000\n",
       "mean  -188065.971207   -59.080228\n",
       "std    192546.358262     3.446971\n",
       "min   -799712.000000   -65.080000\n",
       "25%   -270506.250000   -61.950000\n",
       "50%   -119843.000000   -59.700000\n",
       "75%    -44380.000000   -56.320000\n",
       "max      2000.000000   -49.040000"
      ]
     },
     "execution_count": 36,
     "metadata": {},
     "output_type": "execute_result"
    }
   ],
   "source": [
    "epicacols.describe()"
   ]
  },
  {
   "cell_type": "code",
   "execution_count": null,
   "metadata": {},
   "outputs": [
    {
     "data": {
      "text/plain": [
       "Index(['year', 'temp'], dtype='object')"
      ]
     },
     "execution_count": 37,
     "metadata": {},
     "output_type": "execute_result"
    }
   ],
   "source": [
    "epicacols.columns"
   ]
  },
  {
   "cell_type": "markdown",
   "metadata": {},
   "source": [
    "---"
   ]
  },
  {
   "cell_type": "code",
   "execution_count": null,
   "metadata": {},
   "outputs": [
    {
     "data": {
      "text/html": [
       "<div>\n",
       "<style scoped>\n",
       "    .dataframe tbody tr th:only-of-type {\n",
       "        vertical-align: middle;\n",
       "    }\n",
       "\n",
       "    .dataframe tbody tr th {\n",
       "        vertical-align: top;\n",
       "    }\n",
       "\n",
       "    .dataframe thead th {\n",
       "        text-align: right;\n",
       "    }\n",
       "</style>\n",
       "<table border=\"1\" class=\"dataframe\">\n",
       "  <thead>\n",
       "    <tr style=\"text-align: right;\">\n",
       "      <th></th>\n",
       "      <th>year</th>\n",
       "      <th>temp</th>\n",
       "    </tr>\n",
       "  </thead>\n",
       "  <tbody>\n",
       "    <tr>\n",
       "      <th>171</th>\n",
       "      <td>2023</td>\n",
       "      <td>-54.26</td>\n",
       "    </tr>\n",
       "    <tr>\n",
       "      <th>170</th>\n",
       "      <td>2022</td>\n",
       "      <td>-54.11</td>\n",
       "    </tr>\n",
       "    <tr>\n",
       "      <th>169</th>\n",
       "      <td>2021</td>\n",
       "      <td>-54.39</td>\n",
       "    </tr>\n",
       "    <tr>\n",
       "      <th>168</th>\n",
       "      <td>2020</td>\n",
       "      <td>-54.01</td>\n",
       "    </tr>\n",
       "    <tr>\n",
       "      <th>167</th>\n",
       "      <td>2019</td>\n",
       "      <td>-54.19</td>\n",
       "    </tr>\n",
       "  </tbody>\n",
       "</table>\n",
       "</div>"
      ],
      "text/plain": [
       "     year   temp\n",
       "171  2023 -54.26\n",
       "170  2022 -54.11\n",
       "169  2021 -54.39\n",
       "168  2020 -54.01\n",
       "167  2019 -54.19"
      ]
     },
     "execution_count": 38,
     "metadata": {},
     "output_type": "execute_result"
    }
   ],
   "source": [
    "noaasort.head()"
   ]
  },
  {
   "cell_type": "code",
   "execution_count": null,
   "metadata": {},
   "outputs": [
    {
     "data": {
      "text/html": [
       "<div>\n",
       "<style scoped>\n",
       "    .dataframe tbody tr th:only-of-type {\n",
       "        vertical-align: middle;\n",
       "    }\n",
       "\n",
       "    .dataframe tbody tr th {\n",
       "        vertical-align: top;\n",
       "    }\n",
       "\n",
       "    .dataframe thead th {\n",
       "        text-align: right;\n",
       "    }\n",
       "</style>\n",
       "<table border=\"1\" class=\"dataframe\">\n",
       "  <thead>\n",
       "    <tr style=\"text-align: right;\">\n",
       "      <th></th>\n",
       "      <th>year</th>\n",
       "      <th>temp</th>\n",
       "    </tr>\n",
       "  </thead>\n",
       "  <tbody>\n",
       "    <tr>\n",
       "      <th>4</th>\n",
       "      <td>1856</td>\n",
       "      <td>-54.53</td>\n",
       "    </tr>\n",
       "    <tr>\n",
       "      <th>3</th>\n",
       "      <td>1855</td>\n",
       "      <td>-54.48</td>\n",
       "    </tr>\n",
       "    <tr>\n",
       "      <th>2</th>\n",
       "      <td>1854</td>\n",
       "      <td>-54.56</td>\n",
       "    </tr>\n",
       "    <tr>\n",
       "      <th>1</th>\n",
       "      <td>1853</td>\n",
       "      <td>-54.57</td>\n",
       "    </tr>\n",
       "    <tr>\n",
       "      <th>0</th>\n",
       "      <td>1852</td>\n",
       "      <td>-54.57</td>\n",
       "    </tr>\n",
       "  </tbody>\n",
       "</table>\n",
       "</div>"
      ],
      "text/plain": [
       "   year   temp\n",
       "4  1856 -54.53\n",
       "3  1855 -54.48\n",
       "2  1854 -54.56\n",
       "1  1853 -54.57\n",
       "0  1852 -54.57"
      ]
     },
     "execution_count": 39,
     "metadata": {},
     "output_type": "execute_result"
    }
   ],
   "source": [
    "noaasort.tail()"
   ]
  },
  {
   "cell_type": "code",
   "execution_count": null,
   "metadata": {},
   "outputs": [
    {
     "name": "stdout",
     "output_type": "stream",
     "text": [
      "<class 'pandas.core.frame.DataFrame'>\n",
      "Index: 172 entries, 171 to 0\n",
      "Data columns (total 2 columns):\n",
      " #   Column  Non-Null Count  Dtype  \n",
      "---  ------  --------------  -----  \n",
      " 0   year    172 non-null    int64  \n",
      " 1   temp    172 non-null    float64\n",
      "dtypes: float64(1), int64(1)\n",
      "memory usage: 4.0 KB\n"
     ]
    }
   ],
   "source": [
    "noaasort.info()"
   ]
  },
  {
   "cell_type": "code",
   "execution_count": null,
   "metadata": {},
   "outputs": [
    {
     "data": {
      "text/html": [
       "<div>\n",
       "<style scoped>\n",
       "    .dataframe tbody tr th:only-of-type {\n",
       "        vertical-align: middle;\n",
       "    }\n",
       "\n",
       "    .dataframe tbody tr th {\n",
       "        vertical-align: top;\n",
       "    }\n",
       "\n",
       "    .dataframe thead th {\n",
       "        text-align: right;\n",
       "    }\n",
       "</style>\n",
       "<table border=\"1\" class=\"dataframe\">\n",
       "  <thead>\n",
       "    <tr style=\"text-align: right;\">\n",
       "      <th></th>\n",
       "      <th>year</th>\n",
       "      <th>temp</th>\n",
       "    </tr>\n",
       "  </thead>\n",
       "  <tbody>\n",
       "    <tr>\n",
       "      <th>count</th>\n",
       "      <td>172.000000</td>\n",
       "      <td>172.000000</td>\n",
       "    </tr>\n",
       "    <tr>\n",
       "      <th>mean</th>\n",
       "      <td>1937.500000</td>\n",
       "      <td>-54.470988</td>\n",
       "    </tr>\n",
       "    <tr>\n",
       "      <th>std</th>\n",
       "      <td>49.796252</td>\n",
       "      <td>0.209660</td>\n",
       "    </tr>\n",
       "    <tr>\n",
       "      <th>min</th>\n",
       "      <td>1852.000000</td>\n",
       "      <td>-55.010000</td>\n",
       "    </tr>\n",
       "    <tr>\n",
       "      <th>25%</th>\n",
       "      <td>1894.750000</td>\n",
       "      <td>-54.600000</td>\n",
       "    </tr>\n",
       "    <tr>\n",
       "      <th>50%</th>\n",
       "      <td>1937.500000</td>\n",
       "      <td>-54.500000</td>\n",
       "    </tr>\n",
       "    <tr>\n",
       "      <th>75%</th>\n",
       "      <td>1980.250000</td>\n",
       "      <td>-54.370000</td>\n",
       "    </tr>\n",
       "    <tr>\n",
       "      <th>max</th>\n",
       "      <td>2023.000000</td>\n",
       "      <td>-53.820000</td>\n",
       "    </tr>\n",
       "  </tbody>\n",
       "</table>\n",
       "</div>"
      ],
      "text/plain": [
       "              year        temp\n",
       "count   172.000000  172.000000\n",
       "mean   1937.500000  -54.470988\n",
       "std      49.796252    0.209660\n",
       "min    1852.000000  -55.010000\n",
       "25%    1894.750000  -54.600000\n",
       "50%    1937.500000  -54.500000\n",
       "75%    1980.250000  -54.370000\n",
       "max    2023.000000  -53.820000"
      ]
     },
     "execution_count": 41,
     "metadata": {},
     "output_type": "execute_result"
    }
   ],
   "source": [
    "noaasort.describe()"
   ]
  },
  {
   "cell_type": "code",
   "execution_count": null,
   "metadata": {},
   "outputs": [
    {
     "data": {
      "text/plain": [
       "Index(['year', 'temp'], dtype='object')"
      ]
     },
     "execution_count": 42,
     "metadata": {},
     "output_type": "execute_result"
    }
   ],
   "source": [
    "noaasort.columns"
   ]
  },
  {
   "cell_type": "markdown",
   "metadata": {},
   "source": [
    "---"
   ]
  },
  {
   "cell_type": "markdown",
   "metadata": {},
   "source": [
    "---"
   ]
  },
  {
   "cell_type": "markdown",
   "metadata": {},
   "source": [
    "\n",
    "---\n"
   ]
  },
  {
   "cell_type": "markdown",
   "metadata": {},
   "source": [
    "\n",
    "### Initial Data Adjustments"
   ]
  },
  {
   "cell_type": "markdown",
   "metadata": {},
   "source": [
    "#### Data Clean-up"
   ]
  },
  {
   "cell_type": "code",
   "execution_count": null,
   "metadata": {},
   "outputs": [],
   "source": [
    "epica8kyr2[\"year\"] = epica8kyr2[\"year\"].astype(int) #change data within the year column to an integer\n",
    "epica8kyr2 = epica8kyr2.sort_values(by=\"year\", ascending=False)  #sort column by year\n",
    "epica8kyr2.to_csv(\"epica8kyr2.csv\", index=False) #save to csv"
   ]
  },
  {
   "cell_type": "markdown",
   "metadata": {},
   "source": [
    "##### CO2 - Merge Data"
   ]
  },
  {
   "cell_type": "code",
   "execution_count": null,
   "metadata": {},
   "outputs": [],
   "source": [
    "mergeddata = pd.merge(epica8kyr3, epica8kyr2, on=[\"year\", \"co2\", \"unc\"], how=\"outer\")\n",
    "mergeddata = pd.merge(mergeddata, epica8kyr1, on=[\"year\", \"co2\"], how=\"outer\")\n",
    "\n",
    "mergeddata.to_csv(\"mergedco2data.csv\", index=False)\n",
    "mergeddata.columns #check columns merged correctly"
   ]
  },
  {
   "cell_type": "markdown",
   "metadata": {},
   "source": [
    "#### CH4"
   ]
  },
  {
   "cell_type": "markdown",
   "metadata": {},
   "source": [
    "##### CH4 - Merge Data"
   ]
  },
  {
   "cell_type": "code",
   "execution_count": null,
   "metadata": {},
   "outputs": [],
   "source": [
    "mergech4 = pd.merge(ch4data, noaach4sort, on=[\"year\", \"ch4\"], how=\"outer\")\n",
    "mergech4.to_csv(\"mergedch4.csv\", index=False)"
   ]
  },
  {
   "cell_type": "code",
   "execution_count": null,
   "metadata": {},
   "outputs": [],
   "source": [
    "mergech4.columns"
   ]
  },
  {
   "cell_type": "markdown",
   "metadata": {},
   "source": [
    "#### Temperature"
   ]
  },
  {
   "cell_type": "markdown",
   "metadata": {},
   "source": [
    "##### Temperature - Merge Data"
   ]
  },
  {
   "cell_type": "code",
   "execution_count": null,
   "metadata": {},
   "outputs": [],
   "source": [
    "mergetemp = pd.merge(noaasort, epicacols, on=[\"year\", \"temp\"], how=\"outer\")\n",
    "mergetemp.to_csv(\"tempsmerge.csv\", index=False)"
   ]
  },
  {
   "cell_type": "code",
   "execution_count": null,
   "metadata": {},
   "outputs": [],
   "source": [
    "mergetemp.head()"
   ]
  },
  {
   "cell_type": "code",
   "execution_count": null,
   "metadata": {},
   "outputs": [],
   "source": [
    "mergetemp.shape #check the merge went correctly"
   ]
  },
  {
   "cell_type": "markdown",
   "metadata": {},
   "source": [
    "### Statistical Measurement"
   ]
  },
  {
   "cell_type": "markdown",
   "metadata": {},
   "source": [
    "### CO2"
   ]
  },
  {
   "cell_type": "code",
   "execution_count": null,
   "metadata": {},
   "outputs": [],
   "source": [
    "mean_value = mergeddata[\"co2\"].mean()\n",
    "print(f\"CO2 Data Mean Value: {mean_value}\")\n",
    "\n",
    "median_value = mergeddata[\"co2\"].median()\n",
    "print(f\"CO2 Data Median Value: {median_value}\")\n",
    "\n",
    "std_deviation = mergeddata[\"co2\"].std()\n",
    "print(f\"CO2 Data Standard Deviation: {std_deviation}\")\n",
    "\n",
    "correlation = mergeddata[\"co2\"].corr(mergeddata[\"year\"])\n",
    "print(f\"CO2 Data Standard Deviation: {correlation}\")"
   ]
  },
  {
   "cell_type": "markdown",
   "metadata": {},
   "source": [
    "### CH4"
   ]
  },
  {
   "cell_type": "code",
   "execution_count": null,
   "metadata": {},
   "outputs": [],
   "source": [
    "mean_value = mergech4[\"ch4\"].mean()\n",
    "print(f\"CH4 Data Mean Value: {mean_value}\")\n",
    "\n",
    "median_value = mergech4[\"ch4\"].median()\n",
    "print(f\"CH4 Data Median Value: {median_value}\")\n",
    "\n",
    "std_deviation = mergech4[\"ch4\"].std()\n",
    "print(f\"CH4 Data Standard Deviation: {std_deviation}\")\n",
    "\n",
    "correlation = mergech4[\"ch4\"].corr(mergech4[\"year\"])\n",
    "print(f\"CH4 Data Standard Deviation: {correlation}\")"
   ]
  },
  {
   "cell_type": "markdown",
   "metadata": {},
   "source": [
    "### TEMPERATURE"
   ]
  },
  {
   "cell_type": "code",
   "execution_count": null,
   "metadata": {},
   "outputs": [],
   "source": [
    "mean_value = mergetemp[\"temp\"].mean()\n",
    "print(f\"Temp Data Mean Value: {mean_value}\")\n",
    "\n",
    "median_value = mergetemp[\"temp\"].median()\n",
    "print(f\"Temp Data Median Value: {median_value}\")\n",
    "\n",
    "std_deviation = mergetemp[\"temp\"].std()\n",
    "print(f\"Temp Data Standard Deviation: {std_deviation}\")\n",
    "\n",
    "correlation = mergetemp[\"temp\"].corr(mergetemp[\"year\"])\n",
    "print(f\"Temp Data Standard Deviation: {correlation}\")"
   ]
  },
  {
   "cell_type": "markdown",
   "metadata": {},
   "source": [
    "## Irish Context"
   ]
  },
  {
   "cell_type": "code",
   "execution_count": null,
   "metadata": {},
   "outputs": [
    {
     "name": "stderr",
     "output_type": "stream",
     "text": [
      "/var/folders/bn/xqdgg_35477_8nvxrj84pj300000gn/T/ipykernel_46166/853563107.py:5: UserWarning: Could not infer format, so each element will be parsed individually, falling back to `dateutil`. To ensure parsing is consistent and as-expected, please specify a format.\n",
      "  weatherstations[\"open year \"] = pd.to_datetime(weatherstations[\"open year \"], errors='coerce')\n"
     ]
    },
    {
     "data": {
      "text/html": [
       "<div>\n",
       "<style scoped>\n",
       "    .dataframe tbody tr th:only-of-type {\n",
       "        vertical-align: middle;\n",
       "    }\n",
       "\n",
       "    .dataframe tbody tr th {\n",
       "        vertical-align: top;\n",
       "    }\n",
       "\n",
       "    .dataframe thead th {\n",
       "        text-align: right;\n",
       "    }\n",
       "</style>\n",
       "<table border=\"1\" class=\"dataframe\">\n",
       "  <thead>\n",
       "    <tr style=\"text-align: right;\">\n",
       "      <th></th>\n",
       "      <th>county</th>\n",
       "      <th>station name</th>\n",
       "      <th>name</th>\n",
       "      <th>height(m)</th>\n",
       "      <th>easting</th>\n",
       "      <th>northing</th>\n",
       "      <th>latitude</th>\n",
       "      <th>longitude</th>\n",
       "      <th>open year</th>\n",
       "      <th>close year</th>\n",
       "    </tr>\n",
       "  </thead>\n",
       "  <tbody>\n",
       "    <tr>\n",
       "      <th>613</th>\n",
       "      <td>Dublin</td>\n",
       "      <td>1723</td>\n",
       "      <td>DUBLIN (Phoenix Park)</td>\n",
       "      <td>49</td>\n",
       "      <td>310000</td>\n",
       "      <td>236100</td>\n",
       "      <td>53.36389</td>\n",
       "      <td>-6.34722</td>\n",
       "      <td>1829-01-01</td>\n",
       "      <td>2003</td>\n",
       "    </tr>\n",
       "    <tr>\n",
       "      <th>1784</th>\n",
       "      <td>Waterford</td>\n",
       "      <td>1612</td>\n",
       "      <td>PORTLAW (Mayfield)</td>\n",
       "      <td>8</td>\n",
       "      <td>246600</td>\n",
       "      <td>115200</td>\n",
       "      <td>52.28611</td>\n",
       "      <td>-7.31667</td>\n",
       "      <td>1841-01-01</td>\n",
       "      <td>1994</td>\n",
       "    </tr>\n",
       "    <tr>\n",
       "      <th>616</th>\n",
       "      <td>Dublin</td>\n",
       "      <td>1823</td>\n",
       "      <td>DUBLIN (Glasnevin)</td>\n",
       "      <td>21</td>\n",
       "      <td>315175</td>\n",
       "      <td>236910</td>\n",
       "      <td>53.37000</td>\n",
       "      <td>-6.27028</td>\n",
       "      <td>1860-01-01</td>\n",
       "      <td>(null)</td>\n",
       "    </tr>\n",
       "    <tr>\n",
       "      <th>1597</th>\n",
       "      <td>Sligo</td>\n",
       "      <td>636</td>\n",
       "      <td>MARKREE CASTLE</td>\n",
       "      <td>39</td>\n",
       "      <td>170300</td>\n",
       "      <td>325200</td>\n",
       "      <td>54.17500</td>\n",
       "      <td>-8.45556</td>\n",
       "      <td>1860-01-01</td>\n",
       "      <td>1998</td>\n",
       "    </tr>\n",
       "    <tr>\n",
       "      <th>1504</th>\n",
       "      <td>Offaly</td>\n",
       "      <td>119</td>\n",
       "      <td>BIRR CASTLE</td>\n",
       "      <td>56</td>\n",
       "      <td>205000</td>\n",
       "      <td>204900</td>\n",
       "      <td>53.09444</td>\n",
       "      <td>-7.92500</td>\n",
       "      <td>1862-01-01</td>\n",
       "      <td>1939</td>\n",
       "    </tr>\n",
       "    <tr>\n",
       "      <th>277</th>\n",
       "      <td>Cork</td>\n",
       "      <td>904</td>\n",
       "      <td>CORK (UNIV.COLL.)</td>\n",
       "      <td>17</td>\n",
       "      <td>166300</td>\n",
       "      <td>71300</td>\n",
       "      <td>51.89306</td>\n",
       "      <td>-8.49028</td>\n",
       "      <td>1862-01-01</td>\n",
       "      <td>1994</td>\n",
       "    </tr>\n",
       "    <tr>\n",
       "      <th>787</th>\n",
       "      <td>Galway</td>\n",
       "      <td>5927</td>\n",
       "      <td>NUIG</td>\n",
       "      <td>9</td>\n",
       "      <td>129078</td>\n",
       "      <td>225617</td>\n",
       "      <td>53.27639</td>\n",
       "      <td>-9.06389</td>\n",
       "      <td>1864-01-01</td>\n",
       "      <td>1952</td>\n",
       "    </tr>\n",
       "    <tr>\n",
       "      <th>897</th>\n",
       "      <td>Kerry</td>\n",
       "      <td>305</td>\n",
       "      <td>VALENTIA OBSERVATORY (Manual)</td>\n",
       "      <td>24</td>\n",
       "      <td>45799</td>\n",
       "      <td>78549</td>\n",
       "      <td>51.93806</td>\n",
       "      <td>-10.24333</td>\n",
       "      <td>1866-01-01</td>\n",
       "      <td>2012</td>\n",
       "    </tr>\n",
       "    <tr>\n",
       "      <th>1960</th>\n",
       "      <td>Wexford</td>\n",
       "      <td>116</td>\n",
       "      <td>GOREY (Courtown House)</td>\n",
       "      <td>16</td>\n",
       "      <td>319800</td>\n",
       "      <td>157200</td>\n",
       "      <td>52.65278</td>\n",
       "      <td>-6.22917</td>\n",
       "      <td>1866-01-01</td>\n",
       "      <td>1958</td>\n",
       "    </tr>\n",
       "    <tr>\n",
       "      <th>13</th>\n",
       "      <td>Carlow</td>\n",
       "      <td>1414</td>\n",
       "      <td>BAGENALSTOWN (FENAGH HSE.)</td>\n",
       "      <td>106</td>\n",
       "      <td>277400</td>\n",
       "      <td>161300</td>\n",
       "      <td>52.69722</td>\n",
       "      <td>-6.85556</td>\n",
       "      <td>1866-01-01</td>\n",
       "      <td>1986</td>\n",
       "    </tr>\n",
       "    <tr>\n",
       "      <th>12</th>\n",
       "      <td>Carlow</td>\n",
       "      <td>514</td>\n",
       "      <td>CARLOW (BROWNE'S HILL)</td>\n",
       "      <td>55</td>\n",
       "      <td>275400</td>\n",
       "      <td>175800</td>\n",
       "      <td>52.82778</td>\n",
       "      <td>-6.88056</td>\n",
       "      <td>1866-01-01</td>\n",
       "      <td>1959</td>\n",
       "    </tr>\n",
       "    <tr>\n",
       "      <th>394</th>\n",
       "      <td>Cork</td>\n",
       "      <td>8104</td>\n",
       "      <td>QUEENS COLLEGE CORK</td>\n",
       "      <td>20</td>\n",
       "      <td>166297</td>\n",
       "      <td>71231</td>\n",
       "      <td>51.89278</td>\n",
       "      <td>-8.49028</td>\n",
       "      <td>1866-01-01</td>\n",
       "      <td>1907</td>\n",
       "    </tr>\n",
       "    <tr>\n",
       "      <th>1713</th>\n",
       "      <td>Tipperary</td>\n",
       "      <td>319</td>\n",
       "      <td>KILLALOE (BALLINA)</td>\n",
       "      <td>38</td>\n",
       "      <td>170200</td>\n",
       "      <td>173100</td>\n",
       "      <td>52.80833</td>\n",
       "      <td>-8.44167</td>\n",
       "      <td>1866-01-01</td>\n",
       "      <td>1959</td>\n",
       "    </tr>\n",
       "    <tr>\n",
       "      <th>1867</th>\n",
       "      <td>Westmeath</td>\n",
       "      <td>129</td>\n",
       "      <td>ATHLONE (Twyford)</td>\n",
       "      <td>59</td>\n",
       "      <td>210700</td>\n",
       "      <td>243200</td>\n",
       "      <td>53.43889</td>\n",
       "      <td>-7.83889</td>\n",
       "      <td>1870-01-01</td>\n",
       "      <td>1960</td>\n",
       "    </tr>\n",
       "    <tr>\n",
       "      <th>1952</th>\n",
       "      <td>Wexford</td>\n",
       "      <td>6315</td>\n",
       "      <td>ENNISCORTHY (BALLYHIGHLAND)</td>\n",
       "      <td>111</td>\n",
       "      <td>286954</td>\n",
       "      <td>140693</td>\n",
       "      <td>52.51111</td>\n",
       "      <td>-6.72000</td>\n",
       "      <td>1871-01-01</td>\n",
       "      <td>1919</td>\n",
       "    </tr>\n",
       "    <tr>\n",
       "      <th>2031</th>\n",
       "      <td>Wicklow</td>\n",
       "      <td>4224</td>\n",
       "      <td>BRAY (FASSAROE)</td>\n",
       "      <td>76</td>\n",
       "      <td>323688</td>\n",
       "      <td>217754</td>\n",
       "      <td>53.19611</td>\n",
       "      <td>-6.15000</td>\n",
       "      <td>1871-01-01</td>\n",
       "      <td>1916</td>\n",
       "    </tr>\n",
       "    <tr>\n",
       "      <th>906</th>\n",
       "      <td>Kerry</td>\n",
       "      <td>103</td>\n",
       "      <td>DERRYNANE ABBEY</td>\n",
       "      <td>4</td>\n",
       "      <td>52900</td>\n",
       "      <td>58700</td>\n",
       "      <td>51.76111</td>\n",
       "      <td>-10.13056</td>\n",
       "      <td>1871-01-01</td>\n",
       "      <td>1958</td>\n",
       "    </tr>\n",
       "    <tr>\n",
       "      <th>1876</th>\n",
       "      <td>Wexford</td>\n",
       "      <td>108</td>\n",
       "      <td>FOULKESMILL (Longraigue)</td>\n",
       "      <td>71</td>\n",
       "      <td>284185</td>\n",
       "      <td>118335</td>\n",
       "      <td>52.31056</td>\n",
       "      <td>-6.76639</td>\n",
       "      <td>1873-01-01</td>\n",
       "      <td>(null)</td>\n",
       "    </tr>\n",
       "    <tr>\n",
       "      <th>313</th>\n",
       "      <td>Cork</td>\n",
       "      <td>1004</td>\n",
       "      <td>ROCHES POINT</td>\n",
       "      <td>43</td>\n",
       "      <td>183100</td>\n",
       "      <td>60100</td>\n",
       "      <td>51.79306</td>\n",
       "      <td>-8.24444</td>\n",
       "      <td>1873-01-01</td>\n",
       "      <td>2008</td>\n",
       "    </tr>\n",
       "    <tr>\n",
       "      <th>672</th>\n",
       "      <td>Galway</td>\n",
       "      <td>628</td>\n",
       "      <td>AHASCRAGH (CLONBROCK)</td>\n",
       "      <td>58</td>\n",
       "      <td>174500</td>\n",
       "      <td>239200</td>\n",
       "      <td>53.40278</td>\n",
       "      <td>-8.38333</td>\n",
       "      <td>1874-01-01</td>\n",
       "      <td>1993</td>\n",
       "    </tr>\n",
       "    <tr>\n",
       "      <th>1118</th>\n",
       "      <td>Laois</td>\n",
       "      <td>613</td>\n",
       "      <td>ABBEYLEIX (BLANDSFORT)</td>\n",
       "      <td>164</td>\n",
       "      <td>248200</td>\n",
       "      <td>186900</td>\n",
       "      <td>52.93056</td>\n",
       "      <td>-7.28333</td>\n",
       "      <td>1874-01-01</td>\n",
       "      <td>1981</td>\n",
       "    </tr>\n",
       "    <tr>\n",
       "      <th>1392</th>\n",
       "      <td>Mayo</td>\n",
       "      <td>5635</td>\n",
       "      <td>ENNISCOE</td>\n",
       "      <td>23</td>\n",
       "      <td>114178</td>\n",
       "      <td>314154</td>\n",
       "      <td>54.06944</td>\n",
       "      <td>-9.31167</td>\n",
       "      <td>1874-01-01</td>\n",
       "      <td>1923</td>\n",
       "    </tr>\n",
       "    <tr>\n",
       "      <th>884</th>\n",
       "      <td>Kerry</td>\n",
       "      <td>303</td>\n",
       "      <td>KENMARE (DROMORE CASTLE)</td>\n",
       "      <td>27</td>\n",
       "      <td>81500</td>\n",
       "      <td>68400</td>\n",
       "      <td>51.85556</td>\n",
       "      <td>-9.71944</td>\n",
       "      <td>1874-01-01</td>\n",
       "      <td>1958</td>\n",
       "    </tr>\n",
       "    <tr>\n",
       "      <th>1764</th>\n",
       "      <td>Tipperary</td>\n",
       "      <td>219</td>\n",
       "      <td>NENAGH (Castle Lough)</td>\n",
       "      <td>32</td>\n",
       "      <td>173800</td>\n",
       "      <td>182700</td>\n",
       "      <td>52.89444</td>\n",
       "      <td>-8.38889</td>\n",
       "      <td>1875-01-01</td>\n",
       "      <td>1961</td>\n",
       "    </tr>\n",
       "    <tr>\n",
       "      <th>1835</th>\n",
       "      <td>Westmeath</td>\n",
       "      <td>1222</td>\n",
       "      <td>MULLINGAR (BELVEDERE HSE.)</td>\n",
       "      <td>112</td>\n",
       "      <td>242000</td>\n",
       "      <td>247700</td>\n",
       "      <td>53.47778</td>\n",
       "      <td>-7.36667</td>\n",
       "      <td>1875-01-01</td>\n",
       "      <td>1984</td>\n",
       "    </tr>\n",
       "  </tbody>\n",
       "</table>\n",
       "</div>"
      ],
      "text/plain": [
       "      county      station name   name                               \\\n",
       "613   Dublin               1723  DUBLIN (Phoenix Park)               \n",
       "1784  Waterford            1612  PORTLAW (Mayfield)                  \n",
       "616   Dublin               1823  DUBLIN (Glasnevin)                  \n",
       "1597  Sligo                 636  MARKREE CASTLE                      \n",
       "1504  Offaly                119  BIRR CASTLE                         \n",
       "277   Cork                  904  CORK (UNIV.COLL.)                   \n",
       "787   Galway               5927  NUIG                                \n",
       "897   Kerry                 305  VALENTIA OBSERVATORY (Manual)       \n",
       "1960  Wexford               116  GOREY (Courtown House)              \n",
       "13    Carlow               1414  BAGENALSTOWN (FENAGH HSE.)          \n",
       "12    Carlow                514  CARLOW (BROWNE'S HILL)              \n",
       "394   Cork                 8104  QUEENS COLLEGE CORK                 \n",
       "1713  Tipperary             319  KILLALOE (BALLINA)                  \n",
       "1867  Westmeath             129  ATHLONE (Twyford)                   \n",
       "1952  Wexford              6315  ENNISCORTHY (BALLYHIGHLAND)         \n",
       "2031  Wicklow              4224  BRAY (FASSAROE)                     \n",
       "906   Kerry                 103  DERRYNANE ABBEY                     \n",
       "1876  Wexford               108  FOULKESMILL (Longraigue)            \n",
       "313   Cork                 1004  ROCHES POINT                        \n",
       "672   Galway                628  AHASCRAGH (CLONBROCK)               \n",
       "1118  Laois                 613  ABBEYLEIX (BLANDSFORT)              \n",
       "1392  Mayo                 5635  ENNISCOE                            \n",
       "884   Kerry                 303  KENMARE (DROMORE CASTLE)            \n",
       "1764  Tipperary             219  NENAGH (Castle Lough)               \n",
       "1835  Westmeath            1222  MULLINGAR (BELVEDERE HSE.)          \n",
       "\n",
       "      height(m)   easting   northing   latitude    longitude   open year   \\\n",
       "613           49    310000     236100    53.36389     -6.34722 1829-01-01   \n",
       "1784           8    246600     115200    52.28611     -7.31667 1841-01-01   \n",
       "616           21    315175     236910    53.37000     -6.27028 1860-01-01   \n",
       "1597          39    170300     325200    54.17500     -8.45556 1860-01-01   \n",
       "1504          56    205000     204900    53.09444     -7.92500 1862-01-01   \n",
       "277           17    166300      71300    51.89306     -8.49028 1862-01-01   \n",
       "787            9    129078     225617    53.27639     -9.06389 1864-01-01   \n",
       "897           24     45799      78549    51.93806    -10.24333 1866-01-01   \n",
       "1960          16    319800     157200    52.65278     -6.22917 1866-01-01   \n",
       "13           106    277400     161300    52.69722     -6.85556 1866-01-01   \n",
       "12            55    275400     175800    52.82778     -6.88056 1866-01-01   \n",
       "394           20    166297      71231    51.89278     -8.49028 1866-01-01   \n",
       "1713          38    170200     173100    52.80833     -8.44167 1866-01-01   \n",
       "1867          59    210700     243200    53.43889     -7.83889 1870-01-01   \n",
       "1952         111    286954     140693    52.51111     -6.72000 1871-01-01   \n",
       "2031          76    323688     217754    53.19611     -6.15000 1871-01-01   \n",
       "906            4     52900      58700    51.76111    -10.13056 1871-01-01   \n",
       "1876          71    284185     118335    52.31056     -6.76639 1873-01-01   \n",
       "313           43    183100      60100    51.79306     -8.24444 1873-01-01   \n",
       "672           58    174500     239200    53.40278     -8.38333 1874-01-01   \n",
       "1118         164    248200     186900    52.93056     -7.28333 1874-01-01   \n",
       "1392          23    114178     314154    54.06944     -9.31167 1874-01-01   \n",
       "884           27     81500      68400    51.85556     -9.71944 1874-01-01   \n",
       "1764          32    173800     182700    52.89444     -8.38889 1875-01-01   \n",
       "1835         112    242000     247700    53.47778     -7.36667 1875-01-01   \n",
       "\n",
       "     close year  \n",
       "613        2003  \n",
       "1784       1994  \n",
       "616      (null)  \n",
       "1597       1998  \n",
       "1504       1939  \n",
       "277        1994  \n",
       "787        1952  \n",
       "897        2012  \n",
       "1960       1958  \n",
       "13         1986  \n",
       "12         1959  \n",
       "394        1907  \n",
       "1713       1959  \n",
       "1867       1960  \n",
       "1952       1919  \n",
       "2031       1916  \n",
       "906        1958  \n",
       "1876     (null)  \n",
       "313        2008  \n",
       "672        1993  \n",
       "1118       1981  \n",
       "1392       1923  \n",
       "884        1958  \n",
       "1764       1961  \n",
       "1835       1984  "
      ]
     },
     "execution_count": 19,
     "metadata": {},
     "output_type": "execute_result"
    }
   ],
   "source": []
  },
  {
   "cell_type": "code",
   "execution_count": null,
   "metadata": {},
   "outputs": [
    {
     "data": {
      "text/html": [
       "<div>\n",
       "<style scoped>\n",
       "    .dataframe tbody tr th:only-of-type {\n",
       "        vertical-align: middle;\n",
       "    }\n",
       "\n",
       "    .dataframe tbody tr th {\n",
       "        vertical-align: top;\n",
       "    }\n",
       "\n",
       "    .dataframe thead th {\n",
       "        text-align: right;\n",
       "    }\n",
       "</style>\n",
       "<table border=\"1\" class=\"dataframe\">\n",
       "  <thead>\n",
       "    <tr style=\"text-align: right;\">\n",
       "      <th></th>\n",
       "      <th>year</th>\n",
       "      <th>month</th>\n",
       "      <th>ind</th>\n",
       "      <th>rain</th>\n",
       "      <th>gdf</th>\n",
       "      <th>rd</th>\n",
       "      <th>wd</th>\n",
       "    </tr>\n",
       "  </thead>\n",
       "  <tbody>\n",
       "    <tr>\n",
       "      <th>0</th>\n",
       "      <td>1941</td>\n",
       "      <td>1</td>\n",
       "      <td>0</td>\n",
       "      <td>161.6</td>\n",
       "      <td>27.4</td>\n",
       "      <td>17</td>\n",
       "      <td>15</td>\n",
       "    </tr>\n",
       "    <tr>\n",
       "      <th>1</th>\n",
       "      <td>1941</td>\n",
       "      <td>2</td>\n",
       "      <td>0</td>\n",
       "      <td>120.9</td>\n",
       "      <td>22.6</td>\n",
       "      <td>21</td>\n",
       "      <td>16</td>\n",
       "    </tr>\n",
       "    <tr>\n",
       "      <th>2</th>\n",
       "      <td>1941</td>\n",
       "      <td>3</td>\n",
       "      <td>0</td>\n",
       "      <td>81.2</td>\n",
       "      <td>27.2</td>\n",
       "      <td>17</td>\n",
       "      <td>13</td>\n",
       "    </tr>\n",
       "    <tr>\n",
       "      <th>3</th>\n",
       "      <td>1941</td>\n",
       "      <td>4</td>\n",
       "      <td>0</td>\n",
       "      <td>33.4</td>\n",
       "      <td>7.9</td>\n",
       "      <td>11</td>\n",
       "      <td>9</td>\n",
       "    </tr>\n",
       "    <tr>\n",
       "      <th>4</th>\n",
       "      <td>1941</td>\n",
       "      <td>5</td>\n",
       "      <td>0</td>\n",
       "      <td>68.9</td>\n",
       "      <td>15.2</td>\n",
       "      <td>14</td>\n",
       "      <td>12</td>\n",
       "    </tr>\n",
       "    <tr>\n",
       "      <th>5</th>\n",
       "      <td>1941</td>\n",
       "      <td>6</td>\n",
       "      <td>0</td>\n",
       "      <td>15.1</td>\n",
       "      <td>4.1</td>\n",
       "      <td>8</td>\n",
       "      <td>5</td>\n",
       "    </tr>\n",
       "    <tr>\n",
       "      <th>6</th>\n",
       "      <td>1941</td>\n",
       "      <td>7</td>\n",
       "      <td>0</td>\n",
       "      <td>71.3</td>\n",
       "      <td>19.1</td>\n",
       "      <td>16</td>\n",
       "      <td>10</td>\n",
       "    </tr>\n",
       "    <tr>\n",
       "      <th>7</th>\n",
       "      <td>1941</td>\n",
       "      <td>8</td>\n",
       "      <td>0</td>\n",
       "      <td>57.2</td>\n",
       "      <td>9.1</td>\n",
       "      <td>18</td>\n",
       "      <td>16</td>\n",
       "    </tr>\n",
       "    <tr>\n",
       "      <th>8</th>\n",
       "      <td>1941</td>\n",
       "      <td>9</td>\n",
       "      <td>0</td>\n",
       "      <td>19.5</td>\n",
       "      <td>8.1</td>\n",
       "      <td>7</td>\n",
       "      <td>5</td>\n",
       "    </tr>\n",
       "    <tr>\n",
       "      <th>9</th>\n",
       "      <td>1941</td>\n",
       "      <td>10</td>\n",
       "      <td>0</td>\n",
       "      <td>90.7</td>\n",
       "      <td>21.3</td>\n",
       "      <td>17</td>\n",
       "      <td>11</td>\n",
       "    </tr>\n",
       "    <tr>\n",
       "      <th>10</th>\n",
       "      <td>1941</td>\n",
       "      <td>11</td>\n",
       "      <td>0</td>\n",
       "      <td>213.6</td>\n",
       "      <td>44.5</td>\n",
       "      <td>26</td>\n",
       "      <td>21</td>\n",
       "    </tr>\n",
       "    <tr>\n",
       "      <th>11</th>\n",
       "      <td>1941</td>\n",
       "      <td>12</td>\n",
       "      <td>0</td>\n",
       "      <td>36.1</td>\n",
       "      <td>11.2</td>\n",
       "      <td>12</td>\n",
       "      <td>9</td>\n",
       "    </tr>\n",
       "    <tr>\n",
       "      <th>12</th>\n",
       "      <td>1942</td>\n",
       "      <td>1</td>\n",
       "      <td>0</td>\n",
       "      <td>154.0</td>\n",
       "      <td>21.8</td>\n",
       "      <td>22</td>\n",
       "      <td>21</td>\n",
       "    </tr>\n",
       "    <tr>\n",
       "      <th>13</th>\n",
       "      <td>1942</td>\n",
       "      <td>2</td>\n",
       "      <td>0</td>\n",
       "      <td>28.0</td>\n",
       "      <td>14.5</td>\n",
       "      <td>9</td>\n",
       "      <td>4</td>\n",
       "    </tr>\n",
       "  </tbody>\n",
       "</table>\n",
       "</div>"
      ],
      "text/plain": [
       "    year  month  ind   rain   gdf  rd  wd\n",
       "0   1941      1    0  161.6  27.4  17  15\n",
       "1   1941      2    0  120.9  22.6  21  16\n",
       "2   1941      3    0   81.2  27.2  17  13\n",
       "3   1941      4    0   33.4   7.9  11   9\n",
       "4   1941      5    0   68.9  15.2  14  12\n",
       "5   1941      6    0   15.1   4.1   8   5\n",
       "6   1941      7    0   71.3  19.1  16  10\n",
       "7   1941      8    0   57.2   9.1  18  16\n",
       "8   1941      9    0   19.5   8.1   7   5\n",
       "9   1941     10    0   90.7  21.3  17  11\n",
       "10  1941     11    0  213.6  44.5  26  21\n",
       "11  1941     12    0   36.1  11.2  12   9\n",
       "12  1942      1    0  154.0  21.8  22  21\n",
       "13  1942      2    0   28.0  14.5   9   4"
      ]
     },
     "execution_count": 32,
     "metadata": {},
     "output_type": "execute_result"
    }
   ],
   "source": []
  },
  {
   "cell_type": "code",
   "execution_count": null,
   "metadata": {},
   "outputs": [
    {
     "data": {
      "text/html": [
       "<div>\n",
       "<style scoped>\n",
       "    .dataframe tbody tr th:only-of-type {\n",
       "        vertical-align: middle;\n",
       "    }\n",
       "\n",
       "    .dataframe tbody tr th {\n",
       "        vertical-align: top;\n",
       "    }\n",
       "\n",
       "    .dataframe thead th {\n",
       "        text-align: right;\n",
       "    }\n",
       "</style>\n",
       "<table border=\"1\" class=\"dataframe\">\n",
       "  <thead>\n",
       "    <tr style=\"text-align: right;\">\n",
       "      <th></th>\n",
       "      <th>year</th>\n",
       "      <th>rain</th>\n",
       "    </tr>\n",
       "  </thead>\n",
       "  <tbody>\n",
       "    <tr>\n",
       "      <th>0</th>\n",
       "      <td>1941</td>\n",
       "      <td>969.5</td>\n",
       "    </tr>\n",
       "    <tr>\n",
       "      <th>1</th>\n",
       "      <td>1942</td>\n",
       "      <td>942.8</td>\n",
       "    </tr>\n",
       "    <tr>\n",
       "      <th>2</th>\n",
       "      <td>1943</td>\n",
       "      <td>1032.4</td>\n",
       "    </tr>\n",
       "    <tr>\n",
       "      <th>3</th>\n",
       "      <td>1944</td>\n",
       "      <td>974.4</td>\n",
       "    </tr>\n",
       "    <tr>\n",
       "      <th>4</th>\n",
       "      <td>1945</td>\n",
       "      <td>1023.8</td>\n",
       "    </tr>\n",
       "    <tr>\n",
       "      <th>5</th>\n",
       "      <td>1946</td>\n",
       "      <td>1193.1</td>\n",
       "    </tr>\n",
       "    <tr>\n",
       "      <th>6</th>\n",
       "      <td>1947</td>\n",
       "      <td>1266.1</td>\n",
       "    </tr>\n",
       "    <tr>\n",
       "      <th>7</th>\n",
       "      <td>1948</td>\n",
       "      <td>1157.5</td>\n",
       "    </tr>\n",
       "    <tr>\n",
       "      <th>8</th>\n",
       "      <td>1949</td>\n",
       "      <td>752.6</td>\n",
       "    </tr>\n",
       "    <tr>\n",
       "      <th>9</th>\n",
       "      <td>1950</td>\n",
       "      <td>1054.7</td>\n",
       "    </tr>\n",
       "    <tr>\n",
       "      <th>10</th>\n",
       "      <td>1951</td>\n",
       "      <td>1142.0</td>\n",
       "    </tr>\n",
       "    <tr>\n",
       "      <th>11</th>\n",
       "      <td>1952</td>\n",
       "      <td>851.8</td>\n",
       "    </tr>\n",
       "    <tr>\n",
       "      <th>12</th>\n",
       "      <td>1953</td>\n",
       "      <td>843.3</td>\n",
       "    </tr>\n",
       "    <tr>\n",
       "      <th>13</th>\n",
       "      <td>1954</td>\n",
       "      <td>1036.7</td>\n",
       "    </tr>\n",
       "  </tbody>\n",
       "</table>\n",
       "</div>"
      ],
      "text/plain": [
       "    year    rain\n",
       "0   1941   969.5\n",
       "1   1942   942.8\n",
       "2   1943  1032.4\n",
       "3   1944   974.4\n",
       "4   1945  1023.8\n",
       "5   1946  1193.1\n",
       "6   1947  1266.1\n",
       "7   1948  1157.5\n",
       "8   1949   752.6\n",
       "9   1950  1054.7\n",
       "10  1951  1142.0\n",
       "11  1952   851.8\n",
       "12  1953   843.3\n",
       "13  1954  1036.7"
      ]
     },
     "execution_count": 31,
     "metadata": {},
     "output_type": "execute_result"
    }
   ],
   "source": []
  },
  {
   "cell_type": "markdown",
   "metadata": {},
   "source": [
    "### Temperature"
   ]
  },
  {
   "cell_type": "code",
   "execution_count": 65,
   "metadata": {},
   "outputs": [
    {
     "ename": "ParserError",
     "evalue": "Error tokenizing data. C error: Expected 1 fields in line 3, saw 2\n",
     "output_type": "error",
     "traceback": [
      "\u001b[0;31m---------------------------------------------------------------------------\u001b[0m",
      "\u001b[0;31mParserError\u001b[0m                               Traceback (most recent call last)",
      "Cell \u001b[0;32mIn[65], line 1\u001b[0m\n\u001b[0;32m----> 1\u001b[0m sherkintemp \u001b[38;5;241m=\u001b[39m pd\u001b[38;5;241m.\u001b[39mread_csv(\u001b[38;5;124m\"\u001b[39m\u001b[38;5;124mDATA Files/mly775.csv\u001b[39m\u001b[38;5;124m\"\u001b[39m)\n",
      "File \u001b[0;32m~/anaconda3/lib/python3.11/site-packages/pandas/io/parsers/readers.py:948\u001b[0m, in \u001b[0;36mread_csv\u001b[0;34m(filepath_or_buffer, sep, delimiter, header, names, index_col, usecols, dtype, engine, converters, true_values, false_values, skipinitialspace, skiprows, skipfooter, nrows, na_values, keep_default_na, na_filter, verbose, skip_blank_lines, parse_dates, infer_datetime_format, keep_date_col, date_parser, date_format, dayfirst, cache_dates, iterator, chunksize, compression, thousands, decimal, lineterminator, quotechar, quoting, doublequote, escapechar, comment, encoding, encoding_errors, dialect, on_bad_lines, delim_whitespace, low_memory, memory_map, float_precision, storage_options, dtype_backend)\u001b[0m\n\u001b[1;32m    935\u001b[0m kwds_defaults \u001b[38;5;241m=\u001b[39m _refine_defaults_read(\n\u001b[1;32m    936\u001b[0m     dialect,\n\u001b[1;32m    937\u001b[0m     delimiter,\n\u001b[0;32m   (...)\u001b[0m\n\u001b[1;32m    944\u001b[0m     dtype_backend\u001b[38;5;241m=\u001b[39mdtype_backend,\n\u001b[1;32m    945\u001b[0m )\n\u001b[1;32m    946\u001b[0m kwds\u001b[38;5;241m.\u001b[39mupdate(kwds_defaults)\n\u001b[0;32m--> 948\u001b[0m \u001b[38;5;28;01mreturn\u001b[39;00m _read(filepath_or_buffer, kwds)\n",
      "File \u001b[0;32m~/anaconda3/lib/python3.11/site-packages/pandas/io/parsers/readers.py:617\u001b[0m, in \u001b[0;36m_read\u001b[0;34m(filepath_or_buffer, kwds)\u001b[0m\n\u001b[1;32m    614\u001b[0m     \u001b[38;5;28;01mreturn\u001b[39;00m parser\n\u001b[1;32m    616\u001b[0m \u001b[38;5;28;01mwith\u001b[39;00m parser:\n\u001b[0;32m--> 617\u001b[0m     \u001b[38;5;28;01mreturn\u001b[39;00m parser\u001b[38;5;241m.\u001b[39mread(nrows)\n",
      "File \u001b[0;32m~/anaconda3/lib/python3.11/site-packages/pandas/io/parsers/readers.py:1748\u001b[0m, in \u001b[0;36mTextFileReader.read\u001b[0;34m(self, nrows)\u001b[0m\n\u001b[1;32m   1741\u001b[0m nrows \u001b[38;5;241m=\u001b[39m validate_integer(\u001b[38;5;124m\"\u001b[39m\u001b[38;5;124mnrows\u001b[39m\u001b[38;5;124m\"\u001b[39m, nrows)\n\u001b[1;32m   1742\u001b[0m \u001b[38;5;28;01mtry\u001b[39;00m:\n\u001b[1;32m   1743\u001b[0m     \u001b[38;5;66;03m# error: \"ParserBase\" has no attribute \"read\"\u001b[39;00m\n\u001b[1;32m   1744\u001b[0m     (\n\u001b[1;32m   1745\u001b[0m         index,\n\u001b[1;32m   1746\u001b[0m         columns,\n\u001b[1;32m   1747\u001b[0m         col_dict,\n\u001b[0;32m-> 1748\u001b[0m     ) \u001b[38;5;241m=\u001b[39m \u001b[38;5;28mself\u001b[39m\u001b[38;5;241m.\u001b[39m_engine\u001b[38;5;241m.\u001b[39mread(  \u001b[38;5;66;03m# type: ignore[attr-defined]\u001b[39;00m\n\u001b[1;32m   1749\u001b[0m         nrows\n\u001b[1;32m   1750\u001b[0m     )\n\u001b[1;32m   1751\u001b[0m \u001b[38;5;28;01mexcept\u001b[39;00m \u001b[38;5;167;01mException\u001b[39;00m:\n\u001b[1;32m   1752\u001b[0m     \u001b[38;5;28mself\u001b[39m\u001b[38;5;241m.\u001b[39mclose()\n",
      "File \u001b[0;32m~/anaconda3/lib/python3.11/site-packages/pandas/io/parsers/c_parser_wrapper.py:234\u001b[0m, in \u001b[0;36mCParserWrapper.read\u001b[0;34m(self, nrows)\u001b[0m\n\u001b[1;32m    232\u001b[0m \u001b[38;5;28;01mtry\u001b[39;00m:\n\u001b[1;32m    233\u001b[0m     \u001b[38;5;28;01mif\u001b[39;00m \u001b[38;5;28mself\u001b[39m\u001b[38;5;241m.\u001b[39mlow_memory:\n\u001b[0;32m--> 234\u001b[0m         chunks \u001b[38;5;241m=\u001b[39m \u001b[38;5;28mself\u001b[39m\u001b[38;5;241m.\u001b[39m_reader\u001b[38;5;241m.\u001b[39mread_low_memory(nrows)\n\u001b[1;32m    235\u001b[0m         \u001b[38;5;66;03m# destructive to chunks\u001b[39;00m\n\u001b[1;32m    236\u001b[0m         data \u001b[38;5;241m=\u001b[39m _concatenate_chunks(chunks)\n",
      "File \u001b[0;32mparsers.pyx:843\u001b[0m, in \u001b[0;36mpandas._libs.parsers.TextReader.read_low_memory\u001b[0;34m()\u001b[0m\n",
      "File \u001b[0;32mparsers.pyx:904\u001b[0m, in \u001b[0;36mpandas._libs.parsers.TextReader._read_rows\u001b[0;34m()\u001b[0m\n",
      "File \u001b[0;32mparsers.pyx:879\u001b[0m, in \u001b[0;36mpandas._libs.parsers.TextReader._tokenize_rows\u001b[0;34m()\u001b[0m\n",
      "File \u001b[0;32mparsers.pyx:890\u001b[0m, in \u001b[0;36mpandas._libs.parsers.TextReader._check_tokenize_status\u001b[0;34m()\u001b[0m\n",
      "File \u001b[0;32mparsers.pyx:2058\u001b[0m, in \u001b[0;36mpandas._libs.parsers.raise_parser_error\u001b[0;34m()\u001b[0m\n",
      "\u001b[0;31mParserError\u001b[0m: Error tokenizing data. C error: Expected 1 fields in line 3, saw 2\n"
     ]
    }
   ],
   "source": [
    "sherkintemp = pd.read_csv(\"DATA Files/mly775.csv\")"
   ]
  },
  {
   "cell_type": "markdown",
   "metadata": {},
   "source": [
    "### Rainfall"
   ]
  },
  {
   "cell_type": "code",
   "execution_count": null,
   "metadata": {},
   "outputs": [],
   "source": [
    "weatherstations = pd.read_csv(\"DATA Files/weatherstationdata.csv\")\n",
    "\n",
    "weatherstations.columns\n",
    "#to find the oldest weather station in the country that is still open to get a larger set of data\n",
    "weatherstations[\"open year \"] = pd.to_datetime(weatherstations[\"open year \"], errors='coerce')\n",
    "\n",
    "weatherstationsoldest = weatherstations.sort_values(by=\"open year \")\n",
    "weatherstationsoldest.head(25)\n",
    "\n",
    "# I will use Foukesmill Station 108 for this as the records start in 1943 to present "
   ]
  },
  {
   "cell_type": "code",
   "execution_count": null,
   "metadata": {},
   "outputs": [],
   "source": [
    "station108 = pd.read_csv(\"DATA Files/mly108-foulkesmill1873.csv\")\n",
    "\n",
    "station108.head(14)\n",
    "# testing the csv was read correctly"
   ]
  },
  {
   "cell_type": "code",
   "execution_count": null,
   "metadata": {},
   "outputs": [],
   "source": [
    "yearlyrainfall = station108.groupby('year')['rain'].sum().reset_index()\n",
    "\n",
    "yearlyrainfall.head(14) #testing groubed by worked for each year/month"
   ]
  },
  {
   "cell_type": "markdown",
   "metadata": {},
   "source": [
    "\n",
    "\n",
    "---\n",
    "\n",
    "## Analysis\n",
    "\n"
   ]
  },
  {
   "cell_type": "markdown",
   "metadata": {},
   "source": [
    "### Plot Overview"
   ]
  },
  {
   "cell_type": "code",
   "execution_count": null,
   "metadata": {},
   "outputs": [],
   "source": [
    "years = mergeddata[\"year\"]\n",
    "co2values = mergeddata[\"co2\"]\n",
    "ch4values = mergech4[\"ch4\"]\n",
    "tempvalues = mergetemp[\"temp\"]\n",
    "\n",
    "fig, (ax1, ax2) = plt.subplots(2, 1, figsize=(10, 8), sharex=True)\n",
    "\n",
    "sns.lineplot(x=years, y=tempvalues, ax=ax1, label=\"Temp\")\n",
    "sns.lineplot(x=years, y=co2values, ax=ax2, label=\"CO2\")\n",
    "sns.lineplot(x=years, y=ch4values, ax=ax2, label=\"CH4\")\n",
    "\n",
    "fig.suptitle(\"CO2 and CH4 Over Years\")\n",
    "ax1.set_xlabel(\"Year\")\n",
    "\n",
    "ax1.set_ylabel(\"Temp\")\n",
    "ax2.set_ylabel(\"CO2\")\n",
    "ax2.set_ylabel(\"CH4\")\n",
    "\n",
    "ax1.legend()\n",
    "ax2.legend()\n",
    "\n",
    "plt.tight_layout()\n",
    "\n",
    "plt.show()\n"
   ]
  },
  {
   "cell_type": "markdown",
   "metadata": {},
   "source": [
    "### CO2 - Plots"
   ]
  },
  {
   "cell_type": "code",
   "execution_count": null,
   "metadata": {},
   "outputs": [],
   "source": [
    "plt.figure(figsize=(18, 16))\n",
    "plt.plot(mergeddata[\"year\"], mergeddata[\"co2\"], color=\"blue\")\n",
    "plt.xlabel(\"YEAR\", fontsize=20)\n",
    "plt.ylabel(\"CO2\", fontsize=20)\n",
    "plt.xticks(fontsize=20)\n",
    "plt.yticks(fontsize=20)\n",
    "plt.title(\"CO2 V Time\", fontsize=20)\n",
    "plt.tight_layout()\n",
    "plt.savefig(\"lineplot1.png\")\n",
    "#### Plot\n",
    "#SNS Lineplot\n",
    "#style\n",
    "sns.set_style(\"whitegrid\")\n",
    "sns.set_context(\"paper\") "
   ]
  },
  {
   "cell_type": "code",
   "execution_count": null,
   "metadata": {},
   "outputs": [],
   "source": [
    "plt.figure(figsize=(16, 12))\n",
    "\n",
    "#lineplot\n",
    "sns.lineplot(data=mergeddata, x=\"year\", y=\"co2\", color=\"green\")\n",
    "\n",
    "#labels\n",
    "plt.xlabel(\"Year\", fontsize=14)\n",
    "plt.ylabel(\"CO2 Levels\", fontsize=14)\n",
    "plt.title(\"CO2 Levels Over Time\", fontsize=14)\n",
    "plt.xticks(rotation=45, fontsize=20)\n",
    "plt.yticks(fontsize=20)\n",
    "\n",
    "\n",
    "plt.tight_layout()  #additional spacing\n",
    "plt.savefig(\"snslineplotnew.png\")"
   ]
  },
  {
   "cell_type": "markdown",
   "metadata": {},
   "source": [
    "### CH4 - Plots"
   ]
  },
  {
   "cell_type": "code",
   "execution_count": null,
   "metadata": {},
   "outputs": [],
   "source": [
    "#style\n",
    "sns.set_style(\"whitegrid\")\n",
    "sns.set_context(\"paper\")\n",
    "\n",
    "#size\n",
    "plt.figure(figsize=(16, 12))\n",
    "\n",
    "#lineplot\n",
    "sns.lineplot(data=mergech4, x=\"year\", y=\"ch4\", color=\"blue\")\n",
    "\n",
    "#labels\n",
    "plt.xlabel(\"Year\", fontsize=12)\n",
    "plt.ylabel(\"CH4\", fontsize=12)\n",
    "plt.title(\"CH4 Levels\", fontsize=14)\n",
    "plt.xticks(rotation=45)\n",
    "\n",
    "#ticks spacing\n",
    "plt.xticks(fontsize=10)\n",
    "plt.yticks(fontsize=10)\n",
    "\n",
    "\n",
    "plt.tight_layout()  #additional spacing\n",
    "plt.savefig(\"ch4levels2.png\")"
   ]
  },
  {
   "cell_type": "code",
   "execution_count": null,
   "metadata": {},
   "outputs": [],
   "source": [
    "plt.figure(figsize=(16, 12))\n",
    "#lineplot\n",
    "sns.lineplot(data=mergech4, x=\"year\", y=\"ch4\", color=\"blue\")\n",
    "\n",
    "#labels\n",
    "plt.xlabel(\"Year\", fontsize=12)\n",
    "plt.ylabel(\"CH4\", fontsize=12)\n",
    "plt.title(\"CH4 Levels\", fontsize=14)\n",
    "plt.xticks(rotation=45)\n",
    "\n",
    "#ticks spacing\n",
    "plt.xticks(fontsize=10)\n",
    "plt.yticks(fontsize=10)\n",
    "\n",
    "\n",
    "plt.tight_layout()  #additional spacing\n",
    "plt.savefig(\"ch4levels2.png\")"
   ]
  },
  {
   "cell_type": "code",
   "execution_count": null,
   "metadata": {},
   "outputs": [],
   "source": [
    "plt.figure(figsize=(16, 12))\n",
    "#selection of data for demonstration\n",
    "\n",
    "sns.set_style(\"whitegrid\")\n",
    "sns.set_context(\"notebook\")\n",
    "\n",
    "sns.lineplot(data=mergeddata, x=\"year\", y=\"co2\", label=\"CO2\")\n",
    "sns.lineplot(data=ch4data, x=\"year\", y=\"ch4\", label=\"Mean CH4\")\n",
    "\n",
    "plt.title(\"CO2 and Mean CH4 from 8kyr before present\")\n",
    "plt.xlabel(\"Year\")\n",
    "plt.ylabel(\"Value\")\n",
    "\n",
    "plt.legend()\n",
    "\n",
    "plt.show()"
   ]
  },
  {
   "cell_type": "markdown",
   "metadata": {},
   "source": [
    "### Temperature - Plots"
   ]
  },
  {
   "cell_type": "code",
   "execution_count": null,
   "metadata": {},
   "outputs": [],
   "source": [
    "plt.figure(figsize=(16, 12))\n",
    "#selection of data for demonstration\n",
    "\n",
    "sns.set_style(\"whitegrid\")\n",
    "sns.set_context(\"notebook\")\n",
    "\n",
    "sns.lineplot(data=mergeddata, x=\"year\", y=\"co2\", label=\"CO2\")\n",
    "\n",
    "plt.title(\"CO2\")\n",
    "plt.xlabel(\"Year\")\n",
    "plt.ylabel(\"Value\")\n",
    "\n",
    "plt.legend()\n",
    "\n",
    "plt.show()"
   ]
  },
  {
   "cell_type": "code",
   "execution_count": null,
   "metadata": {},
   "outputs": [],
   "source": [
    "plt.figure(figsize=(16, 12))\n",
    "#selection of data for demonstration\n",
    "\n",
    "sns.set_style(\"whitegrid\")\n",
    "sns.set_context(\"notebook\")\n",
    "\n",
    "sns.lineplot(data=mergetemp, x=\"year\", y=\"temp\", label=\"Temp\")\n",
    "\n",
    "plt.title(\"Temperature\")\n",
    "plt.xlabel(\"Year\")\n",
    "plt.ylabel(\"Value\")\n",
    "\n",
    "plt.legend()\n",
    "\n",
    "plt.show()"
   ]
  },
  {
   "cell_type": "markdown",
   "metadata": {},
   "source": [
    "### Rainfall - Plots"
   ]
  },
  {
   "cell_type": "code",
   "execution_count": null,
   "metadata": {},
   "outputs": [
    {
     "data": {
      "text/plain": [
       "<matplotlib.legend.Legend at 0x1751cdc50>"
      ]
     },
     "execution_count": 57,
     "metadata": {},
     "output_type": "execute_result"
    },
    {
     "data": {
      "image/png": "[encoded data removed]",
      "text/plain": [
       "<Figure size 1600x800 with 1 Axes>"
      ]
     },
     "metadata": {},
     "output_type": "display_data"
    }
   ],
   "source": [
    "plt.figure(figsize=(16, 8))\n",
    "\n",
    "plt.plot(yearlyrainfall[\"year\"], yearlyrainfall[\"rain\"], label=\"Irish Rainfall 1941-2024\", color=\"blue\", linewidth=1)\n",
    "plt.scatter(yearlyrainfall[\"year\"], yearlyrainfall[\"rain\"], color=\"red\", edgecolor=\"red\", s=50, marker='o')\n",
    "\n",
    "plt.xticks(yearlyrainfall[\"year\"], rotation=45, fontsize=8)\n",
    "\n",
    "plt.xlabel(\"Year\")\n",
    "plt.ylabel(\"Rainfall (mm)\")\n",
    "plt.title(\"Irish Rainfall 1941-2024\")\n",
    "plt.grid(axis='x', linestyle='--', color='gray', alpha=0.7)\n",
    "\n",
    "plt.legend()"
   ]
  },
  {
   "cell_type": "markdown",
   "metadata": {},
   "source": [
    "### Trends"
   ]
  },
  {
   "cell_type": "markdown",
   "metadata": {},
   "source": [
    "\n",
    "### Relationships"
   ]
  },
  {
   "cell_type": "markdown",
   "metadata": {},
   "source": [
    "\n",
    "\n",
    "---\n",
    "\n",
    "<a id=\"03i\">\n",
    "\n",
    "## Predictions\n",
    "\n",
    "</a>"
   ]
  },
  {
   "cell_type": "markdown",
   "metadata": {},
   "source": [
    "### Synthetic Data"
   ]
  },
  {
   "cell_type": "markdown",
   "metadata": {},
   "source": [
    "\n",
    "### Comparisons with Published Climate Models"
   ]
  },
  {
   "cell_type": "code",
   "execution_count": null,
   "metadata": {},
   "outputs": [],
   "source": [
    "#SECTION 3 - PYTHON CELL"
   ]
  },
  {
   "cell_type": "markdown",
   "metadata": {},
   "source": [
    "\n",
    "\n",
    "---\n",
    "\n",
    "<a id=\"07i\">\n",
    "\n",
    "## REFERENCES\n",
    "\n",
    "</a>\n",
    "\n",
    "\n",
    "---"
   ]
  }
 ],
 "metadata": {
  "kernelspec": {
   "display_name": "base",
   "language": "python",
   "name": "python3"
  },
  "language_info": {
   "codemirror_mode": {
    "name": "ipython",
    "version": 3
   },
   "file_extension": ".py",
   "mimetype": "text/x-python",
   "name": "python",
   "nbconvert_exporter": "python",
   "pygments_lexer": "ipython3",
   "version": "3.11.5"
  }
 },
 "nbformat": 4,
 "nbformat_minor": 2
}
