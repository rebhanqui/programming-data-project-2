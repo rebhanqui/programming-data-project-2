{
 "cells": [
  {
   "cell_type": "markdown",
   "metadata": {},
   "source": [
    "# An Analysis of Paleo to present Climate Change Data\n",
    "\n",
    "<details>\n",
    "\n",
    "<summary> Student Details </summary>\n",
    "\n",
    "| Student| Details |\n",
    "| -------- | -------- |\n",
    "| Course: | KDATG_L08_Y1 |\n",
    "| Author: | Rebecca Hannah Quinn |\n",
    "| Student Number: | G00425671 |\n",
    "\n",
    "</details>\n",
    "\n",
    "---\n",
    "\n",
    "## Project Goals\n",
    "\n",
    "To Analyse CO2 vs Temperature Anomaly for the past 800,000 years to the present day.\n",
    "To examine the change in the polar-ice coverage alongside this.\n",
    "To examine the changes in Ireland and Irish climate change signals.\n",
    "\n",
    "In gathering this information and data I will fuse and analyse the data using pandas dataframes and export the results to csv and json formats.\n",
    "\n",
    "I will be anaylising the data, the trends, the relationships between them including but not limited to: temporal leads, lags, and frequencies. I will also use synthesised data to predict global temperature anomoly over the next few decades and compare to published models of the same to see if atmospherice CO2 trends continue and comment on the accelerated warming based on the latest features with temperatures polar-ice coverage and ocean and sea levels.\n"
   ]
  },
  {
   "cell_type": "markdown",
   "metadata": {},
   "source": [
    "TABLE OF CONTENTS DOES NOT LINK CORRECTLY - CHECK AT END\n",
    "<details>\n",
    "\n",
    "<summary> Table of Contents </summary>\n",
    "\n",
    "[Introduction](#introduction)\n",
    "\n",
    "[Pre-processing](#pre-processing)\n",
    "\n",
    "[Data](#data)\n",
    "\n",
    "[Adjustments](#adjustments)\n",
    "\n",
    "[Analysis](#analysis)\n",
    "\n",
    "[Predictions](#predictions)\n",
    "\n",
    "[References] (#references)\n",
    "\n",
    "</details>\n",
    "\n",
    "---\n"
   ]
  },
  {
   "cell_type": "markdown",
   "metadata": {},
   "source": [
    "## Introduction\n",
    "\n",
    "There have been studies on the Earth\"s climate that have resulted in data as far back as 800,000 years by extracting core samples from deep beneath the ice sheets of Greenland and Antarctica. These samples contain detailed information on air temperature and CO2 levels that are trapped within them. Current polar records demonstrate a close association between atmospheric carbon dioxide and temperature in the natural world. In essence, when one increases, the other one follows.\n",
    "\n",
    "However, there is still some uncertainty about which occurred first - a spike in temperature or CO2. Until now, the most extensive records to date on a significant change in Earth\"s climate came from the EPICA Dome C ice core on the Antarctic Plateau. The data, which covered the end of the last ice age, between 20,000 and 10,000 years ago, indicated that CO2 levels could have lagged behind rising global temperatures by as much as 1,400 years.\n",
    "[1]: https://www.scientificamerican.com/article/ice-core-data-help-solve/#:~:text=Scientists%20use%20air%20trapped%20in,than%20the%20ice%20surrounding%20them."
   ]
  },
  {
   "cell_type": "markdown",
   "metadata": {},
   "source": [
    "\n",
    "## Pre-processing\n",
    "\n",
    "---\n"
   ]
  },
  {
   "cell_type": "markdown",
   "metadata": {},
   "source": [
    "### Import Packages"
   ]
  },
  {
   "cell_type": "code",
   "execution_count": null,
   "metadata": {},
   "outputs": [],
   "source": [
    "#importing packages required for analysis and visualization\n",
    "import requests\n",
    "from io import StringIO\n",
    "from IPython.display import display\n",
    "import pandas as pd\n",
    "import numpy as np\n",
    "import matplotlib.pyplot as plt\n",
    "import seaborn as sns"
   ]
  },
  {
   "cell_type": "markdown",
   "metadata": {},
   "source": [
    "## Reading in the Data - Global Readings"
   ]
  },
  {
   "cell_type": "markdown",
   "metadata": {},
   "source": [
    "### CO2\n",
    "\n",
    "---\n"
   ]
  },
  {
   "cell_type": "markdown",
   "metadata": {},
   "source": [
    "#### CO2 Data 1 - NCEI 1855 - 1960"
   ]
  },
  {
   "cell_type": "code",
   "execution_count": null,
   "metadata": {},
   "outputs": [],
   "source": [
    "epica1col = [\"year\", \"co2\", \"sigma\"]\n",
    "epica8kyr1 = pd.read_excel(\"https://www.ncei.noaa.gov/pub/data/paleo/icecore/antarctica/antarctica2015co2.xls\", sheet_name=\"CO2 Composite\", skiprows=59, names=epica1col)\n",
    "epica8kyr1[\"year\"] = epica8kyr1[\"year\"].astype(int)\n",
    "\n",
    "# The code below flips the sign of the \"year\" values and adds 1950 to them. \n",
    "# This is for converting the \"year\" values to a specific reference point: the year 1950. \n",
    "\n",
    "epica8kyr1[\"year\"] = -1 * epica8kyr1[\"year\"] + 1950\n",
    "epica8kyr1 = epica8kyr1.sort_values(by=\"year\", ascending=False)\n",
    "epica8kyr1.to_csv(\"epica8kyr1.csv\", index=False)"
   ]
  },
  {
   "cell_type": "markdown",
   "metadata": {},
   "source": [
    "#### CO2 Data 2 - Global Monitoring Laboratory - 1959 - 2023"
   ]
  },
  {
   "cell_type": "code",
   "execution_count": null,
   "metadata": {},
   "outputs": [],
   "source": [
    "epica2col = [\"year\", \"co2\", \"unc\"]\n",
    "epica8kyr2 = pd.read_csv(\"https://gml.noaa.gov/webdata/ccgg/trends/co2/co2_annmean_mlo.csv\", skiprows=44, sep=\",\", names=epica2col)"
   ]
  },
  {
   "cell_type": "markdown",
   "metadata": {},
   "source": [
    "#### CO2 Data 3 - Mauna Lon Observeratory - 1984 - 2023"
   ]
  },
  {
   "cell_type": "code",
   "execution_count": null,
   "metadata": {},
   "outputs": [],
   "source": [
    "epica3col = [\"year\", \"co2\", \"unc\"]\n",
    "url3 = \"https://gml.noaa.gov/webdata/ccgg/trends/ch4/ch4_annmean_gl.txt\"\n",
    "response = requests.get(url3)\n",
    "if response.status_code == 200:\n",
    "    text = response.text\n",
    "    epica8kyr3 = pd.read_fwf(StringIO(text), names=epica3col, skiprows=45, header=0)\n",
    "    epica8kyr3 = epica8kyr3.sort_values(by=\"year\", ascending=False)  #corrected\n",
    "    epica8kyr3.to_csv(\"epica8kyr3.csv\", index=False)"
   ]
  },
  {
   "cell_type": "markdown",
   "metadata": {},
   "source": [
    "##### Initial Analysis"
   ]
  },
  {
   "cell_type": "markdown",
   "metadata": {},
   "source": [
    "###### Epica CO2 Data 1"
   ]
  },
  {
   "cell_type": "code",
   "execution_count": null,
   "metadata": {},
   "outputs": [],
   "source": [
    "epica8kyr1.head() # head function to check first data lines"
   ]
  },
  {
   "cell_type": "code",
   "execution_count": null,
   "metadata": {},
   "outputs": [],
   "source": [
    "epica8kyr1.tail()"
   ]
  },
  {
   "cell_type": "code",
   "execution_count": null,
   "metadata": {},
   "outputs": [],
   "source": [
    "epica8kyr1.columns # info and columns for merging"
   ]
  },
  {
   "cell_type": "code",
   "execution_count": null,
   "metadata": {},
   "outputs": [],
   "source": [
    "epica8kyr1.info()"
   ]
  },
  {
   "cell_type": "markdown",
   "metadata": {},
   "source": [
    "---"
   ]
  },
  {
   "cell_type": "markdown",
   "metadata": {},
   "source": [
    "###### Epica CO2 Data 2"
   ]
  },
  {
   "cell_type": "code",
   "execution_count": null,
   "metadata": {},
   "outputs": [],
   "source": [
    "epica8kyr2.head()"
   ]
  },
  {
   "cell_type": "code",
   "execution_count": null,
   "metadata": {},
   "outputs": [],
   "source": [
    "epica8kyr2.tail()"
   ]
  },
  {
   "cell_type": "code",
   "execution_count": null,
   "metadata": {},
   "outputs": [],
   "source": [
    "epica8kyr2.columns"
   ]
  },
  {
   "cell_type": "code",
   "execution_count": null,
   "metadata": {},
   "outputs": [],
   "source": [
    "epica8kyr2.info()"
   ]
  },
  {
   "cell_type": "markdown",
   "metadata": {},
   "source": [
    "---"
   ]
  },
  {
   "cell_type": "markdown",
   "metadata": {},
   "source": [
    "###### Epica CO2 Data 3"
   ]
  },
  {
   "cell_type": "code",
   "execution_count": null,
   "metadata": {},
   "outputs": [],
   "source": [
    "epica8kyr3.head()"
   ]
  },
  {
   "cell_type": "code",
   "execution_count": null,
   "metadata": {},
   "outputs": [],
   "source": [
    "epica8kyr3.tail()"
   ]
  },
  {
   "cell_type": "code",
   "execution_count": null,
   "metadata": {},
   "outputs": [],
   "source": [
    "epica8kyr3.columns"
   ]
  },
  {
   "cell_type": "code",
   "execution_count": null,
   "metadata": {},
   "outputs": [],
   "source": [
    "epica8kyr3.info()"
   ]
  },
  {
   "cell_type": "markdown",
   "metadata": {},
   "source": [
    "### CH4\n",
    "\n",
    "---\n"
   ]
  },
  {
   "cell_type": "markdown",
   "metadata": {},
   "source": [
    "#### CH4 Data 1"
   ]
  },
  {
   "cell_type": "code",
   "execution_count": 458,
   "metadata": {},
   "outputs": [
    {
     "name": "stdout",
     "output_type": "stream",
     "text": [
      "<class 'pandas.core.frame.DataFrame'>\n",
      "Index: 40 entries, 39 to 0\n",
      "Data columns (total 3 columns):\n",
      " #   Column  Non-Null Count  Dtype  \n",
      "---  ------  --------------  -----  \n",
      " 0   year    40 non-null     int64  \n",
      " 1   ch4     40 non-null     float64\n",
      " 2   unc     40 non-null     float64\n",
      "dtypes: float64(2), int64(1)\n",
      "memory usage: 1.2 KB\n"
     ]
    }
   ],
   "source": [
    "colnames = [\"year\", \"ch4\", \"unc\"]\n",
    "noaach4 = \"https://gml.noaa.gov/webdata/ccgg/trends/ch4/ch4_annmean_gl.txt\"\n",
    "\n",
    "response = requests.get(noaach4)\n",
    "\n",
    "if response.status_code == 200:\n",
    "    text = response.text\n",
    "    noaach4df = pd.read_fwf(StringIO(response.text), names=colnames, widths=[6, 12, 8], skiprows=44, header=0)\n",
    "    noaach4sort = noaach4df.sort_index(ascending=False)\n",
    "    noaach4sort.to_csv(\"noaach4new.csv\", index=False)\n",
    "    \n",
    "noaach4sort.info()"
   ]
  },
  {
   "cell_type": "markdown",
   "metadata": {},
   "source": [
    "#### CH4 Data 2"
   ]
  },
  {
   "cell_type": "code",
   "execution_count": 459,
   "metadata": {},
   "outputs": [
    {
     "name": "stdout",
     "output_type": "stream",
     "text": [
      "<class 'pandas.core.frame.DataFrame'>\n",
      "Index: 2207 entries, 0 to 2207\n",
      "Data columns (total 2 columns):\n",
      " #   Column  Non-Null Count  Dtype  \n",
      "---  ------  --------------  -----  \n",
      " 0   year    2207 non-null   int64  \n",
      " 1   ch4     2103 non-null   float64\n",
      "dtypes: float64(1), int64(1)\n",
      "memory usage: 51.7 KB\n"
     ]
    }
   ],
   "source": [
    "ch4names = [\"year\", \"ch4\"]\n",
    "ch4data = pd.read_csv(\"https://climatechange.chicago.gov/sites/production/files/2016-08/ghg-concentrations_fig-2.csv\", usecols=[0, 1], skiprows=7, header=0, names=ch4names)\n",
    "ch4data[\"year\"] = pd.to_numeric(ch4data[\"year\"], errors=\"coerce\")\n",
    "ch4data = ch4data.dropna(subset=[\"year\"])\n",
    "ch4data[\"year\"] = ch4data[\"year\"].astype(int)\n",
    "ch4data.to_csv(\"ch4data.csv\")\n",
    "\n",
    "ch4data.info()"
   ]
  },
  {
   "cell_type": "markdown",
   "metadata": {},
   "source": [
    "##### Initial Analysis"
   ]
  },
  {
   "cell_type": "markdown",
   "metadata": {},
   "source": [
    "##### CH4 DATA 1"
   ]
  },
  {
   "cell_type": "code",
   "execution_count": null,
   "metadata": {},
   "outputs": [],
   "source": [
    "noaach4sort.head()"
   ]
  },
  {
   "cell_type": "code",
   "execution_count": null,
   "metadata": {},
   "outputs": [],
   "source": [
    "noaach4sort.tail()"
   ]
  },
  {
   "cell_type": "code",
   "execution_count": null,
   "metadata": {},
   "outputs": [],
   "source": [
    "noaach4sort.describe()"
   ]
  },
  {
   "cell_type": "code",
   "execution_count": null,
   "metadata": {},
   "outputs": [],
   "source": [
    "noaach4sort.columns"
   ]
  },
  {
   "cell_type": "markdown",
   "metadata": {},
   "source": [
    "##### CH4 DATA 2"
   ]
  },
  {
   "cell_type": "code",
   "execution_count": null,
   "metadata": {},
   "outputs": [],
   "source": [
    "ch4data.head()"
   ]
  },
  {
   "cell_type": "code",
   "execution_count": null,
   "metadata": {},
   "outputs": [],
   "source": [
    "ch4data.tail()"
   ]
  },
  {
   "cell_type": "code",
   "execution_count": null,
   "metadata": {},
   "outputs": [],
   "source": [
    "ch4data.describe()"
   ]
  },
  {
   "cell_type": "code",
   "execution_count": null,
   "metadata": {},
   "outputs": [],
   "source": [
    "ch4data.columns"
   ]
  },
  {
   "cell_type": "markdown",
   "metadata": {},
   "source": [
    "### Temperature\n",
    "\n",
    "---\n"
   ]
  },
  {
   "cell_type": "markdown",
   "metadata": {},
   "source": [
    "#### Temperature Data 1"
   ]
  },
  {
   "cell_type": "code",
   "execution_count": null,
   "metadata": {},
   "outputs": [],
   "source": [
    "epicadeut = \"https://www.ncei.noaa.gov/pub/data/paleo/icecore/antarctica/epica_domec/edc3deuttemp2007.txt\"\n",
    "\n",
    "response = requests.get(epicadeut)\n",
    "\n",
    "if response.status_code == 200:\n",
    "    text = response.text\n",
    "    epicadeutdf = pd.read_csv(StringIO(text), sep=\"\\s+\", skiprows=89, header=0)\n",
    "    epicadeutdf.rename(columns={\"Age\": \"year\"}, inplace=True)\n",
    "    epicadeutdf.rename(columns={\"Temperature\": \"temp\"}, inplace=True)\n",
    "    epicadeutdf[\"year\"] = epicadeutdf[\"year\"].astype(int)\n",
    "    epicadeutdf[\"year\"] = -1 * epicadeutdf[\"year\"] + 1950\n",
    "    epicadeutdf[\"temp\"] = epicadeutdf[\"temp\"] + (-54.5)\n",
    "    \n",
    "    epicacols = epicadeutdf.iloc[:, [2, 4]]\n",
    "\n",
    "epicacols.to_csv(\"epicadeut.csv\", index=False)"
   ]
  },
  {
   "cell_type": "markdown",
   "metadata": {},
   "source": [
    "#### Temperature Data 2"
   ]
  },
  {
   "cell_type": "code",
   "execution_count": null,
   "metadata": {},
   "outputs": [],
   "source": [
    "noaanames=[\"year\", \"temp\"]\n",
    "noaatemp = pd.read_csv(\"https://www.ncei.noaa.gov/access/monitoring/climate-at-a-glance/global/time-series/antarctic/land_ocean/12/11/1850-2023/data.csv\", skiprows=5, names=noaanames, header=0)\n",
    "noaatemp[\"temp\"] = pd.to_numeric(noaatemp[\"temp\"], errors=\"coerce\")\n",
    "noaatemp[\"temp\"] = noaatemp[\"temp\"] + (-54.5)\n",
    "noaasort = noaatemp.sort_values(by=\"year\", ascending=False)\n",
    "noaasort.to_csv(\"noaatemp.csv\", index=False)"
   ]
  },
  {
   "cell_type": "markdown",
   "metadata": {},
   "source": [
    "##### Initital Analysis"
   ]
  },
  {
   "cell_type": "code",
   "execution_count": null,
   "metadata": {},
   "outputs": [],
   "source": [
    "epicacols.head()"
   ]
  },
  {
   "cell_type": "code",
   "execution_count": null,
   "metadata": {},
   "outputs": [],
   "source": [
    "epicacols.tail()"
   ]
  },
  {
   "cell_type": "code",
   "execution_count": null,
   "metadata": {},
   "outputs": [],
   "source": [
    "epicacols.info()"
   ]
  },
  {
   "cell_type": "code",
   "execution_count": null,
   "metadata": {},
   "outputs": [],
   "source": [
    "epicacols.describe()"
   ]
  },
  {
   "cell_type": "code",
   "execution_count": null,
   "metadata": {},
   "outputs": [],
   "source": [
    "epicacols.columns"
   ]
  },
  {
   "cell_type": "markdown",
   "metadata": {},
   "source": [
    "---"
   ]
  },
  {
   "cell_type": "code",
   "execution_count": null,
   "metadata": {},
   "outputs": [],
   "source": [
    "noaasort.head()"
   ]
  },
  {
   "cell_type": "code",
   "execution_count": null,
   "metadata": {},
   "outputs": [],
   "source": [
    "noaasort.tail()"
   ]
  },
  {
   "cell_type": "code",
   "execution_count": null,
   "metadata": {},
   "outputs": [],
   "source": [
    "noaasort.info()"
   ]
  },
  {
   "cell_type": "code",
   "execution_count": null,
   "metadata": {},
   "outputs": [],
   "source": [
    "noaasort.describe()"
   ]
  },
  {
   "cell_type": "code",
   "execution_count": null,
   "metadata": {},
   "outputs": [],
   "source": [
    "noaasort.columns"
   ]
  },
  {
   "cell_type": "markdown",
   "metadata": {},
   "source": [
    "### Initial Data Adjustments\n",
    "\n",
    "---"
   ]
  },
  {
   "cell_type": "markdown",
   "metadata": {},
   "source": [
    "#### Data Clean-up"
   ]
  },
  {
   "cell_type": "code",
   "execution_count": null,
   "metadata": {},
   "outputs": [],
   "source": [
    "epica8kyr2[\"year\"] = epica8kyr2[\"year\"].astype(int) # change data within the year column to an integer\n",
    "epica8kyr2 = epica8kyr2.sort_values(by=\"year\", ascending=False)  # sort column by year\n",
    "epica8kyr2.to_csv(\"epica8kyr2.csv\", index=False) #s ave to csv"
   ]
  },
  {
   "cell_type": "markdown",
   "metadata": {},
   "source": [
    "##### CO2 - Merge Data"
   ]
  },
  {
   "cell_type": "code",
   "execution_count": null,
   "metadata": {},
   "outputs": [],
   "source": [
    "mergeddata = pd.merge(epica8kyr3, epica8kyr2, on=[\"year\", \"co2\", \"unc\"], how=\"outer\")\n",
    "mergeddata = pd.merge(mergeddata, epica8kyr1, on=[\"year\", \"co2\"], how=\"outer\")\n",
    "\n",
    "mergeddata.to_csv(\"mergedco2data.csv\", index=False)\n",
    "mergeddata.columns # check columns merged correctly"
   ]
  },
  {
   "cell_type": "code",
   "execution_count": 460,
   "metadata": {},
   "outputs": [
    {
     "name": "stdout",
     "output_type": "stream",
     "text": [
      "<class 'pandas.core.frame.DataFrame'>\n",
      "RangeIndex: 1961 entries, 0 to 1960\n",
      "Data columns (total 4 columns):\n",
      " #   Column  Non-Null Count  Dtype  \n",
      "---  ------  --------------  -----  \n",
      " 0   year    1961 non-null   int64  \n",
      " 1   co2     1961 non-null   float64\n",
      " 2   unc     105 non-null    float64\n",
      " 3   sigma   1856 non-null   float64\n",
      "dtypes: float64(3), int64(1)\n",
      "memory usage: 61.4 KB\n"
     ]
    }
   ],
   "source": [
    "mergeddata.head() # remove nan items leave only co2\n",
    "mergeddata.info()"
   ]
  },
  {
   "cell_type": "markdown",
   "metadata": {},
   "source": [
    "##### CH4 - Merge Data"
   ]
  },
  {
   "cell_type": "code",
   "execution_count": null,
   "metadata": {},
   "outputs": [],
   "source": [
    "mergech4 = pd.merge(ch4data, noaach4sort, on=[\"year\", \"ch4\"], how=\"outer\")\n",
    "mergech4.to_csv(\"mergedch4.csv\", index=False)"
   ]
  },
  {
   "cell_type": "code",
   "execution_count": null,
   "metadata": {},
   "outputs": [],
   "source": [
    "mergech4.columns"
   ]
  },
  {
   "cell_type": "code",
   "execution_count": 461,
   "metadata": {},
   "outputs": [
    {
     "name": "stdout",
     "output_type": "stream",
     "text": [
      "<class 'pandas.core.frame.DataFrame'>\n",
      "RangeIndex: 2247 entries, 0 to 2246\n",
      "Data columns (total 3 columns):\n",
      " #   Column  Non-Null Count  Dtype  \n",
      "---  ------  --------------  -----  \n",
      " 0   year    2247 non-null   int64  \n",
      " 1   ch4     2143 non-null   float64\n",
      " 2   unc     40 non-null     float64\n",
      "dtypes: float64(2), int64(1)\n",
      "memory usage: 52.8 KB\n"
     ]
    }
   ],
   "source": [
    "mergech4.head()\n",
    "mergech4.info()"
   ]
  },
  {
   "cell_type": "markdown",
   "metadata": {},
   "source": [
    "#### Temperature"
   ]
  },
  {
   "cell_type": "markdown",
   "metadata": {},
   "source": [
    "##### Temperature - Merge Data"
   ]
  },
  {
   "cell_type": "code",
   "execution_count": null,
   "metadata": {},
   "outputs": [],
   "source": [
    "mergetemp = pd.merge(noaasort, epicacols, on=[\"year\", \"temp\"], how=\"outer\")\n",
    "mergetemp.to_csv(\"tempsmerge.csv\", index=False)"
   ]
  },
  {
   "cell_type": "code",
   "execution_count": null,
   "metadata": {},
   "outputs": [],
   "source": [
    "mergetemp.head()"
   ]
  },
  {
   "cell_type": "code",
   "execution_count": 463,
   "metadata": {},
   "outputs": [
    {
     "name": "stdout",
     "output_type": "stream",
     "text": [
      "<class 'pandas.core.frame.DataFrame'>\n",
      "RangeIndex: 5971 entries, 0 to 5970\n",
      "Data columns (total 2 columns):\n",
      " #   Column  Non-Null Count  Dtype  \n",
      "---  ------  --------------  -----  \n",
      " 0   year    5971 non-null   int64  \n",
      " 1   temp    5956 non-null   float64\n",
      "dtypes: float64(1), int64(1)\n",
      "memory usage: 93.4 KB\n"
     ]
    }
   ],
   "source": [
    "mergetemp.shape # check the merge went correctly\n",
    "mergetemp.info()"
   ]
  },
  {
   "cell_type": "markdown",
   "metadata": {},
   "source": [
    "### Statistical Measurement\n",
    "\n",
    "---"
   ]
  },
  {
   "cell_type": "markdown",
   "metadata": {},
   "source": [
    "### CO2"
   ]
  },
  {
   "cell_type": "code",
   "execution_count": null,
   "metadata": {},
   "outputs": [],
   "source": [
    "mean_value = mergeddata[\"co2\"].mean()\n",
    "print(f\"CO2 Data Mean Value: {mean_value}\")\n",
    "\n",
    "median_value = mergeddata[\"co2\"].median()\n",
    "print(f\"CO2 Data Median Value: {median_value}\")\n",
    "\n",
    "std_deviation = mergeddata[\"co2\"].std()\n",
    "print(f\"CO2 Data Standard Deviation: {std_deviation}\")\n",
    "\n",
    "correlation = mergeddata[\"co2\"].corr(mergeddata[\"year\"])\n",
    "print(f\"CO2 Data Standard Deviation: {correlation}\")"
   ]
  },
  {
   "cell_type": "markdown",
   "metadata": {},
   "source": [
    "### CH4"
   ]
  },
  {
   "cell_type": "code",
   "execution_count": null,
   "metadata": {},
   "outputs": [],
   "source": [
    "mean_value = mergech4[\"ch4\"].mean()\n",
    "print(f\"CH4 Data Mean Value: {mean_value}\")\n",
    "\n",
    "median_value = mergech4[\"ch4\"].median()\n",
    "print(f\"CH4 Data Median Value: {median_value}\")\n",
    "\n",
    "std_deviation = mergech4[\"ch4\"].std()\n",
    "print(f\"CH4 Data Standard Deviation: {std_deviation}\")\n",
    "\n",
    "correlation = mergech4[\"ch4\"].corr(mergech4[\"year\"])\n",
    "print(f\"CH4 Data Standard Deviation: {correlation}\")"
   ]
  },
  {
   "cell_type": "markdown",
   "metadata": {},
   "source": [
    "### TEMPERATURE"
   ]
  },
  {
   "cell_type": "code",
   "execution_count": null,
   "metadata": {},
   "outputs": [],
   "source": [
    "mean_value = mergetemp[\"temp\"].mean()\n",
    "print(f\"Temp Data Mean Value: {mean_value}\")\n",
    "\n",
    "median_value = mergetemp[\"temp\"].median()\n",
    "print(f\"Temp Data Median Value: {median_value}\")\n",
    "\n",
    "std_deviation = mergetemp[\"temp\"].std()\n",
    "print(f\"Temp Data Standard Deviation: {std_deviation}\")\n",
    "\n",
    "correlation = mergetemp[\"temp\"].corr(mergetemp[\"year\"])\n",
    "print(f\"Temp Data Standard Deviation: {correlation}\")"
   ]
  },
  {
   "cell_type": "markdown",
   "metadata": {},
   "source": [
    "## Irish Context\n",
    "\n",
    "---\n"
   ]
  },
  {
   "cell_type": "markdown",
   "metadata": {},
   "source": [
    "### Temperature"
   ]
  },
  {
   "cell_type": "code",
   "execution_count": null,
   "metadata": {},
   "outputs": [],
   "source": [
    "#yearly averages temp ireland\n",
    "# Step 1: Load the CSV file\n",
    "glasnevin1823 = pd.read_csv(\"DATA Files/dly1823.csv\", delimiter=\",\", header=10, skiprows=list(range(17, 7320)))\n",
    "\n",
    "# Step 2: Convert the \"date\" column to datetime format and extract the year\n",
    "glasnevin1823[\"date\"] = pd.to_datetime(glasnevin1823[\"date\"], errors=\"coerce\")\n",
    "glasnevin1823[\"year\"] = glasnevin1823[\"date\"].dt.year\n",
    "\n",
    "# Ensure \"maxt\" and \"mint\" columns are numeric\n",
    "glasnevin1823[\"maxt\"] = pd.to_numeric(glasnevin1823[\"maxt\"], errors=\"coerce\")\n",
    "glasnevin1823[\"mint\"] = pd.to_numeric(glasnevin1823[\"mint\"], errors=\"coerce\")\n",
    "\n",
    "# Step 3: Group by \"year\" and calculate the mean of \"maxt\" and \"mint\" for each year\n",
    "yearly_avg1 = glasnevin1823.groupby(\"year\").agg({\n",
    "    \"maxt\": \"mean\",\n",
    "    \"mint\": \"mean\"\n",
    "}).reset_index()\n",
    "\n",
    "# Drop any rows with missing data if necessary\n",
    "yearly_avg1.dropna(inplace=True)\n",
    "\n",
    "yearly_avg1.head()"
   ]
  },
  {
   "cell_type": "code",
   "execution_count": null,
   "metadata": {},
   "outputs": [],
   "source": [
    "# decade averages\n",
    "\n",
    "# Step 1: Load the CSV file\n",
    "glasnevin1823 = pd.read_csv(\"DATA Files/dly1823.csv\", delimiter=\",\", header=10, skiprows=list(range(17, 7320)))\n",
    "\n",
    "# Step 2: Convert the \"date\" column to datetime format and extract the year\n",
    "glasnevin1823[\"date\"] = pd.to_datetime(glasnevin1823[\"date\"], errors=\"coerce\")\n",
    "glasnevin1823[\"year\"] = glasnevin1823[\"date\"].dt.year\n",
    "\n",
    "# Ensure \"maxt\" and \"mint\" columns are numeric\n",
    "glasnevin1823[\"maxt\"] = pd.to_numeric(glasnevin1823[\"maxt\"], errors=\"coerce\")\n",
    "glasnevin1823[\"mint\"] = pd.to_numeric(glasnevin1823[\"mint\"], errors=\"coerce\")\n",
    "\n",
    "# Step 3: Group by \"year\" and calculate the mean of \"maxt\" and \"mint\" for each year\n",
    "yearly_avg2 = glasnevin1823.groupby(\"year\").agg({\n",
    "    \"maxt\": \"mean\",\n",
    "    \"mint\": \"mean\"\n",
    "}).reset_index()\n",
    "\n",
    "# Drop any rows with missing data if necessary\n",
    "yearly_avg2.dropna(inplace=True)\n",
    "\n",
    "# Step 4: Calculate decade averages\n",
    "yearly_avg2[\"decade\"] = (yearly_avg2[\"year\"] // 10) * 10\n",
    "decade_avg = yearly_avg2.groupby(\"decade\").agg({\n",
    "    \"maxt\": \"mean\",\n",
    "    \"mint\": \"mean\"\n",
    "}).reset_index()\n",
    "\n",
    "decade_avg.head()"
   ]
  },
  {
   "cell_type": "markdown",
   "metadata": {},
   "source": [
    "### Rainfall"
   ]
  },
  {
   "cell_type": "code",
   "execution_count": null,
   "metadata": {},
   "outputs": [],
   "source": [
    "station108 = pd.read_csv(\"DATA Files/mly108-foulkesmill1873.csv\", delimiter=\",\")\n",
    "station108cols = station108[[\"year\", \"rain\"]] # shows only required columns\n",
    "station108cols.head()\n",
    "# testing the csv was read correctly"
   ]
  },
  {
   "cell_type": "code",
   "execution_count": null,
   "metadata": {},
   "outputs": [],
   "source": [
    "station1603 = pd.read_csv(\"DATA Files/mly1603.csv\", header=0, delimiter=\",\", skiprows=13)"
   ]
  },
  {
   "cell_type": "code",
   "execution_count": null,
   "metadata": {},
   "outputs": [],
   "source": [
    "station1603 = station1603.drop(index=range(5)).reset_index(drop=True)"
   ]
  },
  {
   "cell_type": "code",
   "execution_count": null,
   "metadata": {},
   "outputs": [],
   "source": [
    "station1823 = pd.read_csv(\"DATA Files/mly1823.csv\", delimiter=\",\", skiprows=13)\n",
    "\n",
    "station1823cols = station1823[[\"year\", \"rain\"]]\n",
    "station1823cols.head()"
   ]
  },
  {
   "cell_type": "code",
   "execution_count": null,
   "metadata": {},
   "outputs": [],
   "source": [
    "station1823.describe() # checking info for errors with rows and delimiter"
   ]
  },
  {
   "cell_type": "code",
   "execution_count": null,
   "metadata": {},
   "outputs": [],
   "source": [
    "yearlyrainfall = station108.groupby(\"year\")[\"rain\"].sum().reset_index()\n",
    "\n",
    "yearlyrainfall.head(14) #testing groubed by worked for each year/month"
   ]
  },
  {
   "cell_type": "markdown",
   "metadata": {},
   "source": [
    "\n",
    "## Analysis\n",
    "\n"
   ]
  },
  {
   "cell_type": "markdown",
   "metadata": {},
   "source": [
    "### Plot Overview"
   ]
  },
  {
   "cell_type": "code",
   "execution_count": null,
   "metadata": {},
   "outputs": [],
   "source": [
    "years = mergeddata[\"year\"]\n",
    "co2values = mergeddata[\"co2\"]\n",
    "ch4values = mergech4[\"ch4\"]\n",
    "tempvalues = mergetemp[\"temp\"]\n",
    "\n",
    "globaldata_overview = pd.DataFrame({\n",
    "    \"years\": years,\n",
    "    \"tempvalues\": tempvalues,\n",
    "    \"co2values\": co2values,\n",
    "    \"ch4values\": ch4values\n",
    "})\n",
    "\n",
    "# drop NaN\n",
    "globaldata_cleaned = globaldata_overview.dropna() \n",
    "\n",
    "# create fig/plots\n",
    "fig, (ax1, ax2) = plt.subplots(2, 1, figsize=(10, 8), sharex=True)\n",
    "\n",
    "# temp plot on ax1\n",
    "sns.lineplot(x=\"years\", y=\"tempvalues\", data=globaldata_cleaned, ax=ax1, label=\"Temp\")\n",
    "ax1.set_ylabel(\"Temperature Anomalies\")\n",
    "ax1.legend()\n",
    "\n",
    "# CO2/CH4 on ax2\n",
    "sns.lineplot(x=\"years\", y=\"co2values\", data=globaldata_cleaned, ax=ax2, label=\"CO2\", color=\"r\")\n",
    "sns.lineplot(x=\"years\", y=\"ch4values\", data=globaldata_cleaned, ax=ax2, label=\"CH4\", color=\"g\")\n",
    "ax2.set_ylabel(\"Concentrations\")\n",
    "ax2.legend()\n",
    "\n",
    "# title\n",
    "fig.suptitle(\"CO2 and CH4 Over Years\", fontsize=16)\n",
    "ax2.set_xlabel(\"Year\")\n",
    "\n",
    "# layout\n",
    "plt.tight_layout(rect=[0, 0, 1, 0.95])  # Adjust for the suptitle\n",
    "\n",
    "# show/save fig plot\n",
    "\n",
    "plt.savefig(\"ch4co2_overview.jpg\")\n",
    "plt.show()"
   ]
  },
  {
   "cell_type": "markdown",
   "metadata": {},
   "source": [
    "### CO2 - Plots"
   ]
  },
  {
   "cell_type": "code",
   "execution_count": null,
   "metadata": {},
   "outputs": [],
   "source": [
    "plt.figure(figsize=(18, 16))\n",
    "plt.plot(mergeddata[\"year\"], mergeddata[\"co2\"], color=\"blue\")\n",
    "plt.xlabel(\"YEAR\", fontsize=20)\n",
    "plt.ylabel(\"CO2\", fontsize=20)\n",
    "plt.xticks(fontsize=20)\n",
    "plt.yticks(fontsize=20)\n",
    "plt.title(\"CO2 V Time\", fontsize=20)\n",
    "plt.tight_layout()\n",
    "plt.savefig(\"lineplot1.png\")\n",
    "\n",
    "# styles\n",
    "sns.set_style(\"whitegrid\")\n",
    "sns.set_context(\"paper\") "
   ]
  },
  {
   "cell_type": "code",
   "execution_count": null,
   "metadata": {},
   "outputs": [],
   "source": [
    "plt.figure(figsize=(16, 12))\n",
    "\n",
    "# lineplot\n",
    "sns.lineplot(data=mergeddata, x=\"year\", y=\"co2\", color=\"green\")\n",
    "\n",
    "# labels\n",
    "plt.xlabel(\"Year\", fontsize=14)\n",
    "plt.ylabel(\"CO2 Levels\", fontsize=14)\n",
    "plt.title(\"CO2 Levels Over Time\", fontsize=14)\n",
    "plt.xticks(rotation=45, fontsize=20)\n",
    "plt.yticks(fontsize=20)\n",
    "\n",
    "\n",
    "plt.tight_layout()  # spacing\n",
    "plt.savefig(\"snslineplotnew.png\")"
   ]
  },
  {
   "cell_type": "markdown",
   "metadata": {},
   "source": [
    "### CH4 - Plots"
   ]
  },
  {
   "cell_type": "code",
   "execution_count": null,
   "metadata": {},
   "outputs": [],
   "source": [
    "# style\n",
    "sns.set_style(\"whitegrid\")\n",
    "sns.set_context(\"paper\")\n",
    "\n",
    "# size\n",
    "plt.figure(figsize=(16, 12))\n",
    "\n",
    "# lineplot\n",
    "sns.lineplot(data=mergech4, x=\"year\", y=\"ch4\", color=\"blue\")\n",
    "\n",
    "# labels\n",
    "plt.xlabel(\"Year\", fontsize=12)\n",
    "plt.ylabel(\"CH4\", fontsize=12)\n",
    "plt.title(\"CH4 Levels\", fontsize=14)\n",
    "plt.xticks(rotation=45)\n",
    "\n",
    "# ticks spacing\n",
    "plt.xticks(fontsize=10)\n",
    "plt.yticks(fontsize=10)\n",
    "\n",
    "\n",
    "plt.tight_layout()  # additional spacing\n",
    "plt.savefig(\"ch4levels2.png\")"
   ]
  },
  {
   "cell_type": "code",
   "execution_count": null,
   "metadata": {},
   "outputs": [],
   "source": [
    "plt.figure(figsize=(16, 12))\n",
    "# lineplot\n",
    "sns.lineplot(data=mergech4, x=\"year\", y=\"ch4\", color=\"blue\")\n",
    "\n",
    "# labels\n",
    "plt.xlabel(\"Year\", fontsize=12)\n",
    "plt.ylabel(\"CH4\", fontsize=12)\n",
    "plt.title(\"CH4 Levels\", fontsize=14)\n",
    "plt.xticks(rotation=45)\n",
    "\n",
    "# ticks spacing\n",
    "plt.xticks(fontsize=10)\n",
    "plt.yticks(fontsize=10)\n",
    "\n",
    "\n",
    "plt.tight_layout()  # additional spacing\n",
    "plt.savefig(\"ch4levels2.png\")"
   ]
  },
  {
   "cell_type": "code",
   "execution_count": null,
   "metadata": {},
   "outputs": [],
   "source": [
    "plt.figure(figsize=(16, 12))\n",
    "# selection of data for demonstration\n",
    "\n",
    "sns.set_style(\"whitegrid\")\n",
    "sns.set_context(\"notebook\")\n",
    "\n",
    "sns.lineplot(data=mergeddata, x=\"year\", y=\"co2\", label=\"CO2\")\n",
    "sns.lineplot(data=ch4data, x=\"year\", y=\"ch4\", label=\"Mean CH4\")\n",
    "\n",
    "plt.title(\"CO2 and Mean CH4 from 8kyr before present\")\n",
    "plt.xlabel(\"Year\")\n",
    "plt.ylabel(\"Value\")\n",
    "\n",
    "plt.legend()\n",
    "\n",
    "plt.savefig(\"CO2CH4mean8kyr.jpg\")\n",
    "plt.show()"
   ]
  },
  {
   "cell_type": "markdown",
   "metadata": {},
   "source": [
    "### Temperature - Plots"
   ]
  },
  {
   "cell_type": "code",
   "execution_count": null,
   "metadata": {},
   "outputs": [],
   "source": [
    "# yearly average\n",
    "plt.figure(figsize=(10, 6))\n",
    "plt.plot(yearly_avg1[\"year\"], yearly_avg1[\"maxt\"], label=\"Avg Max Temp by Year\", color=\"r\", marker=\"o\", linewidth=2)\n",
    "plt.plot(yearly_avg1[\"year\"], yearly_avg1[\"mint\"], label=\"Avg Min Temp by Year\", color=\"b\", marker=\"o\", linewidth=2)\n",
    "\n",
    "# adding labels, title, and grid\n",
    "plt.xlabel(\"Year\")\n",
    "plt.ylabel(\"Temperature (°C)\")\n",
    "plt.title(\"Average Max and Min Temperatures by Year\")\n",
    "plt.legend()\n",
    "plt.grid(True)\n",
    "\n",
    "# show/save the plot\n",
    "plt.savefig(\"irishtemperatures_yearly_avg.jpg\")\n",
    "plt.show()"
   ]
  },
  {
   "cell_type": "code",
   "execution_count": null,
   "metadata": {},
   "outputs": [],
   "source": [
    "plt.figure(figsize=(10, 6))\n",
    "plt.plot(decade_avg[\"decade\"], decade_avg[\"maxt\"], label=\"Avg Max Temp by Decade\", color=\"r\", marker=\"o\", linewidth=2)\n",
    "plt.plot(decade_avg[\"decade\"], decade_avg[\"mint\"], label=\"Avg Min Temp by Decade\", color=\"b\", marker=\"o\", linewidth=2)\n",
    "\n",
    "# labels, title, and grid\n",
    "plt.xlabel(\"Decade\")\n",
    "plt.ylabel(\"Temperature (°C)\")\n",
    "plt.title(\"Average Max and Min Temperatures by Decade\")\n",
    "plt.legend()\n",
    "plt.grid(True)\n",
    "\n",
    "# show/save plot\n",
    "plt.savefig(\"irishtemperatures_decade_avg.jpg\")\n",
    "plt.show()"
   ]
  },
  {
   "cell_type": "markdown",
   "metadata": {},
   "source": [
    "### Rainfall - Plots"
   ]
  },
  {
   "cell_type": "code",
   "execution_count": null,
   "metadata": {},
   "outputs": [],
   "source": [
    "plt.figure(figsize=(16, 8))\n",
    "\n",
    "plt.plot(yearlyrainfall[\"year\"], yearlyrainfall[\"rain\"], label=\"Irish Rainfall 1941-2024\", color=\"blue\", linewidth=1)\n",
    "plt.scatter(yearlyrainfall[\"year\"], yearlyrainfall[\"rain\"], color=\"red\", edgecolor=\"red\", s=50, marker=\"o\")\n",
    "\n",
    "plt.xticks(yearlyrainfall[\"year\"], rotation=45, fontsize=8)\n",
    "\n",
    "plt.xlabel(\"Year\")\n",
    "plt.ylabel(\"Rainfall (mm)\")\n",
    "plt.title(\"Irish Rainfall 1941-2024\")\n",
    "plt.grid(axis=\"x\", linestyle=\"--\", color=\"gray\", alpha=0.7)\n",
    "\n",
    "plt.legend()"
   ]
  },
  {
   "cell_type": "code",
   "execution_count": null,
   "metadata": {},
   "outputs": [],
   "source": [
    "# Step 1: Filter years for every decade (years ending in 0) for rainfall\n",
    "decade_ticks = np.arange(yearlyrainfall[\"year\"].min(), yearlyrainfall[\"year\"].max() + 1, 10)\n",
    "\n",
    "# Step 2: Create subplots\n",
    "fig, ax1 = plt.subplots(2, 1, figsize=(16, 12))\n",
    "\n",
    "# Plot 1: Rainfall data\n",
    "ax1[0].plot(yearlyrainfall[\"year\"], yearlyrainfall[\"rain\"], label=\"Irish Rainfall 1941-2024\", color=\"blue\", linewidth=1)\n",
    "ax1[0].scatter(yearlyrainfall[\"year\"], yearlyrainfall[\"rain\"], color=\"red\", edgecolor=\"red\", s=50, marker=\"o\")\n",
    "ax1[0].set_xticks(decade_ticks)\n",
    "ax1[0].set_xticklabels(decade_ticks, rotation=45, fontsize=8)\n",
    "ax1[0].set_xlabel(\"Year\")\n",
    "ax1[0].set_ylabel(\"Rainfall (mm)\")\n",
    "ax1[0].set_title(\"Irish Rainfall 1941-2024\")\n",
    "ax1[0].grid(axis=\"x\", linestyle=\"--\", color=\"gray\", alpha=0.7)\n",
    "ax1[0].legend()\n",
    "\n",
    "# Plot 2: Temperature data\n",
    "ax1[1].plot(yearly_avg1[\"year\"], yearly_avg1[\"maxt\"], label=\"Avg Max Temp by Year\", color=\"r\", marker=\"o\", linewidth=1)\n",
    "ax1[1].plot(yearly_avg1[\"year\"], yearly_avg1[\"mint\"], label=\"Avg Min Temp by Year\", color=\"b\", marker=\"o\", linewidth=1)\n",
    "ax1[1].set_xticks(decade_ticks)\n",
    "ax1[1].set_xticklabels(decade_ticks, rotation=45, fontsize=8)\n",
    "ax1[1].set_xlabel(\"Year\")\n",
    "ax1[1].set_ylabel(\"Temperature (°C)\")\n",
    "ax1[1].set_title(\"Average Max and Min Temperatures by Year\")\n",
    "ax1[1].grid(axis=\"x\", linestyle=\"--\", color=\"gray\", alpha=0.7)\n",
    "ax1[1].legend()\n",
    "\n",
    "# Adjust layout for better spacing\n",
    "plt.tight_layout()\n",
    "\n",
    "# Save the combined plot as an image file\n",
    "plt.savefig(\"combined_irish_rainfall_temperature_plot.jpg\")\n",
    "\n",
    "# show/save plot\n",
    "\n",
    "plt.savefig(\"irishrainfall_v_temp_1961-2024.jpg\")\n",
    "plt.show()"
   ]
  },
  {
   "cell_type": "code",
   "execution_count": null,
   "metadata": {},
   "outputs": [],
   "source": []
  },
  {
   "cell_type": "markdown",
   "metadata": {},
   "source": [
    "### Trends"
   ]
  },
  {
   "cell_type": "code",
   "execution_count": null,
   "metadata": {},
   "outputs": [],
   "source": [
    "# moving averages and trends\n",
    "\n",
    "# calculate moving averages - 100year blocks\n",
    "window_size = 100\n",
    "globaldata_cleaned.loc[:, \"temp_ma\"] = globaldata_cleaned[\"tempvalues\"].rolling(window=window_size).mean()\n",
    "globaldata_cleaned.loc[:, \"co2_ma\"] = globaldata_cleaned[\"co2values\"].rolling(window=window_size).mean()\n",
    "globaldata_cleaned.loc[:, \"ch4_ma\"] = globaldata_cleaned[\"ch4values\"].rolling(window=window_size).mean()\n",
    "\n",
    "\n",
    "fig, ax1 = plt.subplots(figsize=(20, 10))\n",
    "\n",
    "# moving average\n",
    "sns.lineplot(x=\"years\", y=\"tempvalues\", data=globaldata_cleaned, ax=ax1, label=\"Temperature\", color=\"#7F76FF\", alpha=0.75, linewidth=0.5,)\n",
    "sns.lineplot(x=\"years\", y=\"temp_ma\", data=globaldata_cleaned, ax=ax1, label=f\"Temperature MA ({window_size} years)\", color=\"#00046C\", linestyle=\"dashdot\")\n",
    "\n",
    "# CO2 and CH4 with moving averages on twin axis plots\n",
    "ax2 = ax1.twinx()\n",
    "sns.lineplot(x=\"years\", y=\"co2values\", data=globaldata_cleaned, ax=ax2, label=\"CO2\", color=\"#F7596E\", alpha=0.5)\n",
    "sns.lineplot(x=\"years\", y=\"co2_ma\", data=globaldata_cleaned, ax=ax2, label=f\"CO2 MA ({window_size} years)\", color=\"#AE00BA\", linestyle=\"dashdot\")\n",
    "sns.lineplot(x=\"years\", y=\"ch4values\", data=globaldata_cleaned, ax=ax2, label=\"CH4\", color=\"#006C32\", alpha=0.5)\n",
    "sns.lineplot(x=\"years\", y=\"ch4_ma\", data=globaldata_cleaned, ax=ax2, label=f\"CH4 MA ({window_size} years)\", color=\"#C18E00\", linestyle=\"dashdot\")\n",
    "\n",
    "# setting labels and titles\n",
    "ax1.set_xlabel(\"Year\")\n",
    "ax1.set_ylabel(\"Temperature Anomalies\", color=\"b\")\n",
    "ax1.tick_params(axis=\"y\", labelcolor=\"b\")\n",
    "ax2.set_ylabel(\"Concentrations\", color=\"k\")\n",
    "ax2.tick_params(axis=\"y\", labelcolor=\"k\")\n",
    "fig.suptitle(\"Temperature, CO2, and CH4 with Moving Averages\")\n",
    "\n",
    "# adding legends\n",
    "lines, labels = ax1.get_legend_handles_labels()\n",
    "lines2, labels2 = ax2.get_legend_handles_labels()\n",
    "ax1.legend(lines, labels, loc=\"upper left\")\n",
    "ax2.legend(lines2, labels2, loc=\"upper right\")\n",
    "\n",
    "# layout\n",
    "fig.tight_layout(rect=[0, 0, 1, 0.95])  # Adjust for the suptitle\n",
    "\n",
    "# show/save figure\n",
    "plt.savefig(\"temperature_co2_ch4_moving_averages.jpg\")\n",
    "plt.show()"
   ]
  },
  {
   "cell_type": "markdown",
   "metadata": {},
   "source": [
    "\n",
    "### Relationships"
   ]
  },
  {
   "cell_type": "markdown",
   "metadata": {},
   "source": [
    "\n",
    "\n",
    "---\n",
    "\n",
    "<a id=\"03i\">\n",
    "\n",
    "## Predictions\n",
    "\n",
    "</a>"
   ]
  },
  {
   "cell_type": "markdown",
   "metadata": {},
   "source": [
    "### Synthetic Data"
   ]
  },
  {
   "cell_type": "markdown",
   "metadata": {},
   "source": [
    "\n",
    "### Comparisons with Published Climate Models"
   ]
  },
  {
   "cell_type": "code",
   "execution_count": null,
   "metadata": {},
   "outputs": [],
   "source": [
    "#SECTION 3 - PYTHON CELL"
   ]
  },
  {
   "cell_type": "markdown",
   "metadata": {},
   "source": [
    "\n",
    "\n",
    "---\n",
    "\n",
    "<a id=\"07i\">\n",
    "\n",
    "## REFERENCES\n",
    "\n",
    "</a>\n",
    "\n",
    "\n",
    "---"
   ]
  }
 ],
 "metadata": {
  "kernelspec": {
   "display_name": "base",
   "language": "python",
   "name": "python3"
  },
  "language_info": {
   "codemirror_mode": {
    "name": "ipython",
    "version": 3
   },
   "file_extension": ".py",
   "mimetype": "text/x-python",
   "name": "python",
   "nbconvert_exporter": "python",
   "pygments_lexer": "ipython3",
   "version": "3.11.5"
  }
 },
 "nbformat": 4,
 "nbformat_minor": 2
}
