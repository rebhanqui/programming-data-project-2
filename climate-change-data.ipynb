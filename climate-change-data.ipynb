{
 "cells": [
  {
   "cell_type": "markdown",
   "metadata": {},
   "source": [
    "# An Analysis of Paleo to present Climate Change Data\n",
    "\n",
    "<details>\n",
    "\n",
    "<summary> Student Details </summary>\n",
    "\n",
    "| Student| Details |\n",
    "| -------- | -------- |\n",
    "| Course: | KDATG_L08_Y1 |\n",
    "| Author: | Rebecca Hannah Quinn |\n",
    "| Student Number: | G00425671 |\n",
    "\n",
    "</details>\n",
    "\n",
    "---\n",
    "\n",
    "## Project Goals\n",
    "\n",
    "To Analyse CO2 vs Temperature Anomaly for the past 800,000 years to the present day.\n",
    "To examine the change in the polar-ice coverage alongside this.\n",
    "To examine the changes in Ireland and Irish climate change signals.\n",
    "\n",
    "In gathering this information and data I will fuse and analyse the data using pandas dataframes and export the results to csv and json formats.\n",
    "\n",
    "I will be anaylising the data, the trends, the relationships between them including but not limited to: temporal leads, lags, and frequencies. I will also use synthesised data to predict global temperature anomoly over the next few decades and compare to published models of the same to see if atmospherice CO2 trends continue and comment on the accelerated warming based on the latest features with temperatures polar-ice coverage and ocean and sea levels.\n"
   ]
  },
  {
   "cell_type": "markdown",
   "metadata": {},
   "source": [
    "TABLE OF CONTENTS DOES NOT LINK CORRECTLY - CHECK AT END\n",
    "\n",
    "<details>\n",
    "\n",
    "<summary> Table of Contents </summary>\n",
    "\n",
    "[INTRODUCTION](#01)\n",
    "\n",
    "[PRE-PROCESSING](#02)\n",
    "\n",
    "[ANALYSIS](#03)\n",
    "\n",
    "[PREDICITONS](#04)\n",
    "\n",
    "[FURTHER COMMENT](#05)\n",
    "\n",
    "[PLOTS](#06)\n",
    "\n",
    "</details>\n",
    "\n",
    "---\n"
   ]
  },
  {
   "cell_type": "markdown",
   "metadata": {},
   "source": [
    "## Introduction\n",
    "\n",
    "\n",
    "There have been studies on the Earth\"s climate that have resulted in data as far back as 800,000 years by extracting core samples from deep beneath the ice sheets of Greenland and Antarctica. These samples contain detailed information on air temperature and CO2 levels that are trapped within them. Current polar records demonstrate a close association between atmospheric carbon dioxide and temperature in the natural world. In essence, when one increases, the other one follows.\n",
    "\n",
    "However, there is still some uncertainty about which occurred first - a spike in temperature or CO2. Until now, the most extensive records to date on a significant change in Earth\"s climate came from the EPICA Dome C ice core on the Antarctic Plateau. The data, which covered the end of the last ice age, between 20,000 and 10,000 years ago, indicated that CO2 levels could have lagged behind rising global temperatures by as much as 1,400 years.\n",
    "[1]: https://www.scientificamerican.com/article/ice-core-data-help-solve/#:~:text=Scientists%20use%20air%20trapped%20in,than%20the%20ice%20surrounding%20them."
   ]
  },
  {
   "cell_type": "markdown",
   "metadata": {},
   "source": [
    "\n",
    "<a id=\"01i\">\n",
    "\n",
    "## Pre-processing\n",
    "\n",
    "</a>\n",
    "\n",
    "---\n"
   ]
  },
  {
   "cell_type": "markdown",
   "metadata": {},
   "source": [
    "### Import Packages"
   ]
  },
  {
   "cell_type": "code",
   "execution_count": 54,
   "metadata": {},
   "outputs": [],
   "source": [
    "#importing packages required for analysis and visualization\n",
    "import requests\n",
    "from io import StringIO\n",
    "from IPython.display import display\n",
    "import pandas as pd\n",
    "import numpy as np\n",
    "import matplotlib.pyplot as plt\n",
    "import seaborn as sns"
   ]
  },
  {
   "cell_type": "markdown",
   "metadata": {},
   "source": [
    "## Reading in the Data"
   ]
  },
  {
   "cell_type": "markdown",
   "metadata": {},
   "source": [
    "### CO2\n",
    "\n",
    "---\n"
   ]
  },
  {
   "cell_type": "markdown",
   "metadata": {},
   "source": [
    "#### CO2 Data 1 - NCEI 1855 - 1960"
   ]
  },
  {
   "cell_type": "code",
   "execution_count": 55,
   "metadata": {},
   "outputs": [],
   "source": [
    "epica1col = [\"year\", \"co2\", \"sigma\"]\n",
    "epica8kyr1 = pd.read_excel(\"https://www.ncei.noaa.gov/pub/data/paleo/icecore/antarctica/antarctica2015co2.xls\", sheet_name=\"CO2 Composite\", skiprows=59, names=epica1col)\n",
    "epica8kyr1[\"year\"] = epica8kyr1[\"year\"].astype(int)\n",
    "\n",
    "# The code below flips the sign of the \"year\" values and adds 1950 to them. This is useful for converting the \"year\" values to a specific reference point year 1950. \n",
    "# Clarify why the year transformation is done.\n",
    "# Make sure the data type conversions are necessary.\n",
    "\n",
    "epica8kyr1[\"year\"] = -1 * epica8kyr1[\"year\"] + 1950\n",
    "epica8kyr1 = epica8kyr1.sort_values(by=\"year\", ascending=False)\n",
    "epica8kyr1.to_csv(\"epica8kyr1.csv\", index=False)"
   ]
  },
  {
   "cell_type": "markdown",
   "metadata": {},
   "source": [
    "#### CO2 Data 2 - Global Monitoring Laboratory - 1959 - 2023"
   ]
  },
  {
   "cell_type": "code",
   "execution_count": 56,
   "metadata": {},
   "outputs": [],
   "source": [
    "epica2col = [\"year\", \"co2\", \"unc\"]\n",
    "epica8kyr2 = pd.read_csv(\"https://gml.noaa.gov/webdata/ccgg/trends/co2/co2_annmean_mlo.csv\", skiprows=44, sep=\",\", names=epica2col)"
   ]
  },
  {
   "cell_type": "markdown",
   "metadata": {},
   "source": [
    "#### CO2 Data 3 - Mauna Lon Observeratory - 1984 - 2023"
   ]
  },
  {
   "cell_type": "code",
   "execution_count": 57,
   "metadata": {},
   "outputs": [],
   "source": [
    "epica3col = [\"year\", \"co2\", \"unc\"]\n",
    "url3 = \"https://gml.noaa.gov/webdata/ccgg/trends/ch4/ch4_annmean_gl.txt\"\n",
    "response = requests.get(url3)\n",
    "if response.status_code == 200:\n",
    "    text = response.text\n",
    "    epica8kyr3 = pd.read_fwf(StringIO(text), names=epica3col, skiprows=45, header=0)\n",
    "    epica8kyr3 = epica8kyr3.sort_values(by=\"year\", ascending=False)  #corrected\n",
    "    epica8kyr3.to_csv(\"epica8kyr3.csv\", index=False)"
   ]
  },
  {
   "cell_type": "markdown",
   "metadata": {},
   "source": [
    "##### Initial Analysis"
   ]
  },
  {
   "cell_type": "markdown",
   "metadata": {},
   "source": [
    "###### Epica CO2 Data 1"
   ]
  },
  {
   "cell_type": "code",
   "execution_count": 58,
   "metadata": {},
   "outputs": [
    {
     "name": "stderr",
     "output_type": "stream",
     "text": [
      "UsageError: Line magic function `%display` not found.\n"
     ]
    }
   ],
   "source": [
    "%display epica8kyr1.head() #head function to check first data lines"
   ]
  },
  {
   "cell_type": "code",
   "execution_count": null,
   "metadata": {},
   "outputs": [],
   "source": [
    "epica8kyr1.tail()"
   ]
  },
  {
   "cell_type": "code",
   "execution_count": null,
   "metadata": {},
   "outputs": [],
   "source": [
    "epica8kyr1.columns #info and columns for merging"
   ]
  },
  {
   "cell_type": "code",
   "execution_count": null,
   "metadata": {},
   "outputs": [],
   "source": [
    "epica8kyr1.info()"
   ]
  },
  {
   "cell_type": "markdown",
   "metadata": {},
   "source": [
    "---"
   ]
  },
  {
   "cell_type": "markdown",
   "metadata": {},
   "source": [
    "###### Epica CO2 Data 2"
   ]
  },
  {
   "cell_type": "code",
   "execution_count": null,
   "metadata": {},
   "outputs": [],
   "source": [
    "epica8kyr2.head()"
   ]
  },
  {
   "cell_type": "code",
   "execution_count": null,
   "metadata": {},
   "outputs": [],
   "source": [
    "epica8kyr2.tail()"
   ]
  },
  {
   "cell_type": "code",
   "execution_count": null,
   "metadata": {},
   "outputs": [],
   "source": [
    "epica8kyr2.columns"
   ]
  },
  {
   "cell_type": "code",
   "execution_count": null,
   "metadata": {},
   "outputs": [],
   "source": [
    "epica8kyr2.info()"
   ]
  },
  {
   "cell_type": "markdown",
   "metadata": {},
   "source": [
    "---"
   ]
  },
  {
   "cell_type": "markdown",
   "metadata": {},
   "source": [
    "###### Epica CO2 Data 3"
   ]
  },
  {
   "cell_type": "code",
   "execution_count": null,
   "metadata": {},
   "outputs": [],
   "source": [
    "epica8kyr3.head()"
   ]
  },
  {
   "cell_type": "code",
   "execution_count": null,
   "metadata": {},
   "outputs": [],
   "source": [
    "epica8kyr3.tail()"
   ]
  },
  {
   "cell_type": "code",
   "execution_count": null,
   "metadata": {},
   "outputs": [],
   "source": [
    "epica8kyr3.columns"
   ]
  },
  {
   "cell_type": "code",
   "execution_count": null,
   "metadata": {},
   "outputs": [],
   "source": [
    "epica8kyr3.info()"
   ]
  },
  {
   "cell_type": "markdown",
   "metadata": {},
   "source": [
    "---"
   ]
  },
  {
   "cell_type": "markdown",
   "metadata": {},
   "source": [
    "---"
   ]
  },
  {
   "cell_type": "markdown",
   "metadata": {},
   "source": [
    "### CH4\n",
    "\n",
    "---\n"
   ]
  },
  {
   "cell_type": "markdown",
   "metadata": {},
   "source": [
    "#### CH4 Data 1"
   ]
  },
  {
   "cell_type": "code",
   "execution_count": null,
   "metadata": {},
   "outputs": [],
   "source": [
    "colnames = [\"year\", \"ch4\", \"unc\"]\n",
    "noaach4 = \"https://gml.noaa.gov/webdata/ccgg/trends/ch4/ch4_annmean_gl.txt\"\n",
    "\n",
    "response = requests.get(noaach4)\n",
    "\n",
    "if response.status_code == 200:\n",
    "    text = response.text\n",
    "    noaach4df = pd.read_fwf(StringIO(response.text), names=colnames, widths=[6, 12, 8], skiprows=44, header=0)\n",
    "    noaach4sort = noaach4df.sort_index(ascending=False)\n",
    "    noaach4sort.to_csv(\"noaach4new.csv\", index=False)"
   ]
  },
  {
   "cell_type": "markdown",
   "metadata": {},
   "source": [
    "#### CH4 Data 2"
   ]
  },
  {
   "cell_type": "code",
   "execution_count": null,
   "metadata": {},
   "outputs": [],
   "source": [
    "ch4names = [\"year\", \"ch4\"]\n",
    "ch4data = pd.read_csv(\"https://climatechange.chicago.gov/sites/production/files/2016-08/ghg-concentrations_fig-2.csv\", usecols=[0, 1], skiprows=7, header=0, names=ch4names)\n",
    "ch4data[\"year\"] = pd.to_numeric(ch4data[\"year\"], errors=\"coerce\")\n",
    "ch4data = ch4data.dropna(subset=[\"year\"])\n",
    "ch4data[\"year\"] = ch4data[\"year\"].astype(int)\n",
    "ch4data.to_csv(\"ch4data.csv\")"
   ]
  },
  {
   "cell_type": "markdown",
   "metadata": {},
   "source": [
    "##### Initial Analysis"
   ]
  },
  {
   "cell_type": "markdown",
   "metadata": {},
   "source": [
    "##### CH4 DATA 1"
   ]
  },
  {
   "cell_type": "code",
   "execution_count": null,
   "metadata": {},
   "outputs": [],
   "source": [
    "noaach4sort.head()"
   ]
  },
  {
   "cell_type": "code",
   "execution_count": null,
   "metadata": {},
   "outputs": [],
   "source": [
    "noaach4sort.tail()"
   ]
  },
  {
   "cell_type": "code",
   "execution_count": null,
   "metadata": {},
   "outputs": [],
   "source": [
    "noaach4sort.info()"
   ]
  },
  {
   "cell_type": "code",
   "execution_count": null,
   "metadata": {},
   "outputs": [],
   "source": [
    "noaach4sort.describe()"
   ]
  },
  {
   "cell_type": "code",
   "execution_count": null,
   "metadata": {},
   "outputs": [],
   "source": [
    "noaach4sort.columns"
   ]
  },
  {
   "cell_type": "markdown",
   "metadata": {},
   "source": [
    "##### CH4 DATA 2"
   ]
  },
  {
   "cell_type": "code",
   "execution_count": null,
   "metadata": {},
   "outputs": [],
   "source": [
    "ch4data.head()"
   ]
  },
  {
   "cell_type": "code",
   "execution_count": null,
   "metadata": {},
   "outputs": [],
   "source": [
    "ch4data.tail()"
   ]
  },
  {
   "cell_type": "code",
   "execution_count": null,
   "metadata": {},
   "outputs": [],
   "source": [
    "ch4data.info()"
   ]
  },
  {
   "cell_type": "code",
   "execution_count": null,
   "metadata": {},
   "outputs": [],
   "source": [
    "ch4data.describe()"
   ]
  },
  {
   "cell_type": "code",
   "execution_count": null,
   "metadata": {},
   "outputs": [],
   "source": [
    "ch4data.columns"
   ]
  },
  {
   "cell_type": "markdown",
   "metadata": {},
   "source": [
    "### Temperature\n",
    "\n",
    "---\n"
   ]
  },
  {
   "cell_type": "markdown",
   "metadata": {},
   "source": [
    "#### Temperature Data 1"
   ]
  },
  {
   "cell_type": "code",
   "execution_count": null,
   "metadata": {},
   "outputs": [],
   "source": [
    "epicadeut = \"https://www.ncei.noaa.gov/pub/data/paleo/icecore/antarctica/epica_domec/edc3deuttemp2007.txt\"\n",
    "\n",
    "response = requests.get(epicadeut)\n",
    "\n",
    "if response.status_code == 200:\n",
    "    text = response.text\n",
    "    epicadeutdf = pd.read_csv(StringIO(text), sep=\"\\s+\", skiprows=89, header=0)\n",
    "    epicadeutdf.rename(columns={\"Age\": \"year\"}, inplace=True)\n",
    "    epicadeutdf.rename(columns={\"Temperature\": \"temp\"}, inplace=True)\n",
    "    epicadeutdf[\"year\"] = epicadeutdf[\"year\"].astype(int)\n",
    "    epicadeutdf[\"year\"] = -1 * epicadeutdf[\"year\"] + 1950\n",
    "    epicadeutdf[\"temp\"] = epicadeutdf[\"temp\"] + (-54.5)\n",
    "    \n",
    "    epicacols = epicadeutdf.iloc[:, [2, 4]]\n",
    "\n",
    "epicacols.to_csv(\"epicadeut.csv\", index=False)"
   ]
  },
  {
   "cell_type": "markdown",
   "metadata": {},
   "source": [
    "#### Temperature Data 2"
   ]
  },
  {
   "cell_type": "code",
   "execution_count": null,
   "metadata": {},
   "outputs": [],
   "source": [
    "noaanames=[\"year\", \"temp\"]\n",
    "noaatemp = pd.read_csv(\"https://www.ncei.noaa.gov/access/monitoring/climate-at-a-glance/global/time-series/antarctic/land_ocean/12/11/1850-2023/data.csv\", skiprows=5, names=noaanames, header=0)\n",
    "noaatemp[\"temp\"] = pd.to_numeric(noaatemp[\"temp\"], errors=\"coerce\")\n",
    "noaatemp[\"temp\"] = noaatemp[\"temp\"] + (-54.5)\n",
    "noaasort = noaatemp.sort_values(by=\"year\", ascending=False)\n",
    "noaasort.to_csv(\"noaatemp.csv\", index=False)"
   ]
  },
  {
   "cell_type": "markdown",
   "metadata": {},
   "source": [
    "##### Initital Analysis"
   ]
  },
  {
   "cell_type": "code",
   "execution_count": null,
   "metadata": {},
   "outputs": [],
   "source": [
    "epicacols.head()"
   ]
  },
  {
   "cell_type": "code",
   "execution_count": null,
   "metadata": {},
   "outputs": [],
   "source": [
    "epicacols.tail()"
   ]
  },
  {
   "cell_type": "code",
   "execution_count": null,
   "metadata": {},
   "outputs": [],
   "source": [
    "epicacols.info()"
   ]
  },
  {
   "cell_type": "code",
   "execution_count": null,
   "metadata": {},
   "outputs": [],
   "source": [
    "epicacols.describe()"
   ]
  },
  {
   "cell_type": "code",
   "execution_count": null,
   "metadata": {},
   "outputs": [],
   "source": [
    "epicacols.columns"
   ]
  },
  {
   "cell_type": "markdown",
   "metadata": {},
   "source": [
    "---"
   ]
  },
  {
   "cell_type": "code",
   "execution_count": null,
   "metadata": {},
   "outputs": [],
   "source": [
    "noaasort.head()"
   ]
  },
  {
   "cell_type": "code",
   "execution_count": null,
   "metadata": {},
   "outputs": [],
   "source": [
    "noaasort.tail()"
   ]
  },
  {
   "cell_type": "code",
   "execution_count": null,
   "metadata": {},
   "outputs": [],
   "source": [
    "noaasort.info()"
   ]
  },
  {
   "cell_type": "code",
   "execution_count": null,
   "metadata": {},
   "outputs": [],
   "source": [
    "noaasort.describe()"
   ]
  },
  {
   "cell_type": "code",
   "execution_count": null,
   "metadata": {},
   "outputs": [],
   "source": [
    "noaasort.columns"
   ]
  },
  {
   "cell_type": "markdown",
   "metadata": {},
   "source": [
    "## Initial Data Adjustments\n",
    "\n",
    "---"
   ]
  },
  {
   "cell_type": "markdown",
   "metadata": {},
   "source": [
    "#### Data Clean-up"
   ]
  },
  {
   "cell_type": "code",
   "execution_count": null,
   "metadata": {},
   "outputs": [],
   "source": [
    "epica8kyr2[\"year\"] = epica8kyr2[\"year\"].astype(int) #change data within the year column to an integer\n",
    "epica8kyr2 = epica8kyr2.sort_values(by=\"year\", ascending=False)  #sort column by year\n",
    "epica8kyr2.to_csv(\"epica8kyr2.csv\", index=False) #save to csv"
   ]
  },
  {
   "cell_type": "markdown",
   "metadata": {},
   "source": [
    "##### CO2 - Merge Data"
   ]
  },
  {
   "cell_type": "code",
   "execution_count": null,
   "metadata": {},
   "outputs": [],
   "source": [
    "mergeddata = pd.merge(epica8kyr3, epica8kyr2, on=[\"year\", \"co2\", \"unc\"], how=\"outer\")\n",
    "mergeddata = pd.merge(mergeddata, epica8kyr1, on=[\"year\", \"co2\"], how=\"outer\")\n",
    "\n",
    "mergeddata.to_csv(\"mergedco2data.csv\", index=False)\n",
    "mergeddata.columns #check columns merged correctly"
   ]
  },
  {
   "cell_type": "markdown",
   "metadata": {},
   "source": [
    "##### CH4 - Merge Data"
   ]
  },
  {
   "cell_type": "code",
   "execution_count": null,
   "metadata": {},
   "outputs": [],
   "source": [
    "mergech4 = pd.merge(ch4data, noaach4sort, on=[\"year\", \"ch4\"], how=\"outer\")\n",
    "mergech4.to_csv(\"mergedch4.csv\", index=False)"
   ]
  },
  {
   "cell_type": "code",
   "execution_count": null,
   "metadata": {},
   "outputs": [],
   "source": [
    "mergech4.columns"
   ]
  },
  {
   "cell_type": "markdown",
   "metadata": {},
   "source": [
    "#### Temperature"
   ]
  },
  {
   "cell_type": "markdown",
   "metadata": {},
   "source": [
    "##### Temperature - Merge Data"
   ]
  },
  {
   "cell_type": "code",
   "execution_count": null,
   "metadata": {},
   "outputs": [],
   "source": [
    "mergetemp = pd.merge(noaasort, epicacols, on=[\"year\", \"temp\"], how=\"outer\")\n",
    "mergetemp.to_csv(\"tempsmerge.csv\", index=False)"
   ]
  },
  {
   "cell_type": "code",
   "execution_count": null,
   "metadata": {},
   "outputs": [],
   "source": [
    "mergetemp.head()"
   ]
  },
  {
   "cell_type": "code",
   "execution_count": null,
   "metadata": {},
   "outputs": [],
   "source": [
    "mergetemp.shape #check the merge went correctly"
   ]
  },
  {
   "cell_type": "markdown",
   "metadata": {},
   "source": [
    "### Statistical Measurement\n",
    "\n",
    "---"
   ]
  },
  {
   "cell_type": "markdown",
   "metadata": {},
   "source": [
    "### CO2"
   ]
  },
  {
   "cell_type": "code",
   "execution_count": null,
   "metadata": {},
   "outputs": [],
   "source": [
    "mean_value = mergeddata[\"co2\"].mean()\n",
    "print(f\"CO2 Data Mean Value: {mean_value}\")\n",
    "\n",
    "median_value = mergeddata[\"co2\"].median()\n",
    "print(f\"CO2 Data Median Value: {median_value}\")\n",
    "\n",
    "std_deviation = mergeddata[\"co2\"].std()\n",
    "print(f\"CO2 Data Standard Deviation: {std_deviation}\")\n",
    "\n",
    "correlation = mergeddata[\"co2\"].corr(mergeddata[\"year\"])\n",
    "print(f\"CO2 Data Standard Deviation: {correlation}\")"
   ]
  },
  {
   "cell_type": "markdown",
   "metadata": {},
   "source": [
    "### CH4"
   ]
  },
  {
   "cell_type": "code",
   "execution_count": null,
   "metadata": {},
   "outputs": [],
   "source": [
    "mean_value = mergech4[\"ch4\"].mean()\n",
    "print(f\"CH4 Data Mean Value: {mean_value}\")\n",
    "\n",
    "median_value = mergech4[\"ch4\"].median()\n",
    "print(f\"CH4 Data Median Value: {median_value}\")\n",
    "\n",
    "std_deviation = mergech4[\"ch4\"].std()\n",
    "print(f\"CH4 Data Standard Deviation: {std_deviation}\")\n",
    "\n",
    "correlation = mergech4[\"ch4\"].corr(mergech4[\"year\"])\n",
    "print(f\"CH4 Data Standard Deviation: {correlation}\")"
   ]
  },
  {
   "cell_type": "markdown",
   "metadata": {},
   "source": [
    "### TEMPERATURE"
   ]
  },
  {
   "cell_type": "code",
   "execution_count": null,
   "metadata": {},
   "outputs": [],
   "source": [
    "mean_value = mergetemp[\"temp\"].mean()\n",
    "print(f\"Temp Data Mean Value: {mean_value}\")\n",
    "\n",
    "median_value = mergetemp[\"temp\"].median()\n",
    "print(f\"Temp Data Median Value: {median_value}\")\n",
    "\n",
    "std_deviation = mergetemp[\"temp\"].std()\n",
    "print(f\"Temp Data Standard Deviation: {std_deviation}\")\n",
    "\n",
    "correlation = mergetemp[\"temp\"].corr(mergetemp[\"year\"])\n",
    "print(f\"Temp Data Standard Deviation: {correlation}\")"
   ]
  },
  {
   "cell_type": "markdown",
   "metadata": {},
   "source": [
    "### Irish Context\n",
    "\n",
    "---\n"
   ]
  },
  {
   "cell_type": "markdown",
   "metadata": {},
   "source": [
    "### Temperature"
   ]
  },
  {
   "cell_type": "code",
   "execution_count": null,
   "metadata": {},
   "outputs": [
    {
     "data": {
      "text/html": [
       "<div>\n",
       "<style scoped>\n",
       "    .dataframe tbody tr th:only-of-type {\n",
       "        vertical-align: middle;\n",
       "    }\n",
       "\n",
       "    .dataframe tbody tr th {\n",
       "        vertical-align: top;\n",
       "    }\n",
       "\n",
       "    .dataframe thead th {\n",
       "        text-align: right;\n",
       "    }\n",
       "</style>\n",
       "<table border=\"1\" class=\"dataframe\">\n",
       "  <thead>\n",
       "    <tr style=\"text-align: right;\">\n",
       "      <th></th>\n",
       "      <th>year</th>\n",
       "      <th>month</th>\n",
       "      <th>meant</th>\n",
       "      <th>maxtp</th>\n",
       "      <th>mintp</th>\n",
       "      <th>mnmax</th>\n",
       "      <th>mnmin</th>\n",
       "      <th>rain</th>\n",
       "      <th>gmin</th>\n",
       "      <th>wdsp</th>\n",
       "      <th>maxgt</th>\n",
       "      <th>sun</th>\n",
       "    </tr>\n",
       "  </thead>\n",
       "  <tbody>\n",
       "    <tr>\n",
       "      <th>0</th>\n",
       "      <td>2004</td>\n",
       "      <td>5</td>\n",
       "      <td>11.6</td>\n",
       "      <td>17.6</td>\n",
       "      <td>5.3</td>\n",
       "      <td>14.4</td>\n",
       "      <td>8.8</td>\n",
       "      <td>37.1</td>\n",
       "      <td>2.4</td>\n",
       "      <td>9.7</td>\n",
       "      <td>57</td>\n",
       "      <td></td>\n",
       "    </tr>\n",
       "    <tr>\n",
       "      <th>1</th>\n",
       "      <td>2004</td>\n",
       "      <td>6</td>\n",
       "      <td>14.2</td>\n",
       "      <td>20.0</td>\n",
       "      <td>7.2</td>\n",
       "      <td>16.7</td>\n",
       "      <td>11.8</td>\n",
       "      <td></td>\n",
       "      <td>2.8</td>\n",
       "      <td>10.9</td>\n",
       "      <td>36</td>\n",
       "      <td></td>\n",
       "    </tr>\n",
       "    <tr>\n",
       "      <th>2</th>\n",
       "      <td>2004</td>\n",
       "      <td>8</td>\n",
       "      <td>15.7</td>\n",
       "      <td>20.7</td>\n",
       "      <td>8.4</td>\n",
       "      <td>18.3</td>\n",
       "      <td>13.1</td>\n",
       "      <td>110.9</td>\n",
       "      <td>4.2</td>\n",
       "      <td>10.5</td>\n",
       "      <td>41</td>\n",
       "      <td></td>\n",
       "    </tr>\n",
       "    <tr>\n",
       "      <th>3</th>\n",
       "      <td>2004</td>\n",
       "      <td>9</td>\n",
       "      <td>14.4</td>\n",
       "      <td>21.3</td>\n",
       "      <td>7.3</td>\n",
       "      <td>16.2</td>\n",
       "      <td>12.6</td>\n",
       "      <td>94.0</td>\n",
       "      <td>3.6</td>\n",
       "      <td>13.5</td>\n",
       "      <td>51</td>\n",
       "      <td></td>\n",
       "    </tr>\n",
       "    <tr>\n",
       "      <th>4</th>\n",
       "      <td>2004</td>\n",
       "      <td>10</td>\n",
       "      <td>10.7</td>\n",
       "      <td>14.8</td>\n",
       "      <td>2.8</td>\n",
       "      <td>13.0</td>\n",
       "      <td>8.4</td>\n",
       "      <td>141.5</td>\n",
       "      <td>0.1</td>\n",
       "      <td>14.0</td>\n",
       "      <td>55</td>\n",
       "      <td></td>\n",
       "    </tr>\n",
       "  </tbody>\n",
       "</table>\n",
       "</div>"
      ],
      "text/plain": [
       "   year  month meant maxtp mintp mnmax mnmin   rain gmin  wdsp maxgt sun\n",
       "0  2004      5  11.6  17.6   5.3  14.4   8.8   37.1  2.4   9.7    57    \n",
       "1  2004      6  14.2  20.0   7.2  16.7  11.8         2.8  10.9    36    \n",
       "2  2004      8  15.7  20.7   8.4  18.3  13.1  110.9  4.2  10.5    41    \n",
       "3  2004      9  14.4  21.3   7.3  16.2  12.6   94.0  3.6  13.5    51    \n",
       "4  2004     10  10.7  14.8   2.8  13.0   8.4  141.5  0.1  14.0    55    "
      ]
     },
     "execution_count": 37,
     "metadata": {},
     "output_type": "execute_result"
    }
   ],
   "source": [
    "sherkintemp = pd.read_csv(\"DATA Files/mly775.csv\", skiprows=19, delimiter=\",\")\n",
    "\n",
    "sherkintemp.head()"
   ]
  },
  {
   "cell_type": "code",
   "execution_count": null,
   "metadata": {},
   "outputs": [
    {
     "data": {
      "text/plain": [
       "Index(['year', 'month', 'meant', 'maxtp', 'mintp', 'mnmax', 'mnmin', 'rain',\n",
       "       'gmin', 'wdsp', 'maxgt', 'sun'],\n",
       "      dtype='object')"
      ]
     },
     "execution_count": 39,
     "metadata": {},
     "output_type": "execute_result"
    }
   ],
   "source": [
    "sherkintemp.columns"
   ]
  },
  {
   "cell_type": "code",
   "execution_count": null,
   "metadata": {},
   "outputs": [
    {
     "name": "stdout",
     "output_type": "stream",
     "text": [
      "    year  maxtp  mintp  meant\n",
      "0   2004  121.5   36.1   86.1\n",
      "1   2005  179.8   44.9  123.7\n",
      "2   2006  194.7   53.0  135.5\n",
      "3   2007  199.4   54.2  138.2\n",
      "4   2008  171.3   49.9  121.7\n",
      "5   2009  192.0   48.5  129.2\n",
      "6   2010  190.0   29.5  120.6\n",
      "7   2011  189.3   56.3  130.2\n",
      "8   2012  195.2   51.9  132.0\n",
      "9   2013  192.1   49.6  130.8\n",
      "10  2014  195.1   57.7  138.1\n",
      "11  2015  189.2   56.4  131.0\n",
      "12  2016  193.5   59.2  131.6\n",
      "13  2017  196.5   59.7  134.6\n",
      "14  2018  201.4   38.7  133.3\n",
      "15  2019  196.8   49.1  135.3\n",
      "16  2020  195.8   50.2  133.2\n",
      "17  2021  204.6   61.0  136.0\n",
      "18  2022  209.0   55.5  140.3\n",
      "19  2023  197.9   59.9  141.8\n",
      "20  2024  115.4   31.2   76.5\n"
     ]
    },
    {
     "data": {
      "text/plain": [
       "Index(['year', 'maxtp', 'mintp', 'meant'], dtype='object')"
      ]
     },
     "execution_count": 51,
     "metadata": {},
     "output_type": "execute_result"
    }
   ],
   "source": [
    "colconvert = [\"meant\", \"maxtp\", \"mintp\"]\n",
    "sherkintemp[colconvert] = sherkintemp[colconvert].apply(pd.to_numeric, errors='coerce') # code converts specific columns to numeric data types\n",
    "# add more error handling through out project\n",
    "# group monthly data by year and sum each month to get the yearly total to make plots clearer\n",
    "irishyearlytemp = sherkintemp.groupby(\"year\").agg({\n",
    "    \"maxtp\": \"sum\",  \n",
    "    \"mintp\": \"sum\",  \n",
    "    \"meant\": \"sum\"   \n",
    "}).reset_index()"
   ]
  },
  {
   "cell_type": "code",
   "execution_count": null,
   "metadata": {},
   "outputs": [],
   "source": [
    "# test code\n",
    "print(irishyearlytemp)"
   ]
  },
  {
   "cell_type": "code",
   "execution_count": 59,
   "metadata": {},
   "outputs": [
    {
     "data": {
      "image/png": "[encoded data removed]",
      "text/plain": [
       "<Figure size 1400x700 with 1 Axes>"
      ]
     },
     "metadata": {},
     "output_type": "display_data"
    }
   ],
   "source": [
    "# Plotting irish temperature\n",
    "plt.figure(figsize=(14, 7))\n",
    "\n",
    "# maxtp, mintp, and meant\n",
    "plt.plot(irishyearlytemp[\"year\"], irishyearlytemp[\"maxtp\"], color=\"green\", label=\"Max Temperature\")\n",
    "plt.plot(irishyearlytemp[\"year\"], irishyearlytemp[\"mintp\"], color=\"blue\", label=\"Min Temperature\")\n",
    "plt.plot(irishyearlytemp[\"year\"], irishyearlytemp[\"meant\"], color=\"red\", label=\"Mean Temperature\", linestyle=\"--\")\n",
    "\n",
    "# labels and title\n",
    "plt.xlabel(\"Year\")\n",
    "plt.ylabel(\"Temperature (°C)\")\n",
    "plt.title(\"Yearly Temperature Data Ireland\")\n",
    "plt.legend()\n",
    "\n",
    "# show and save image of plot\n",
    "plt.grid(True)\n",
    "plt.tight_layout()\n",
    "#plt.show()\n",
    "plt.savefig(\"irishyearlytemp04-24.jpg\")"
   ]
  },
  {
   "cell_type": "markdown",
   "metadata": {},
   "source": [
    "### Rainfall"
   ]
  },
  {
   "cell_type": "code",
   "execution_count": null,
   "metadata": {},
   "outputs": [],
   "source": [
    "weatherstations = pd.read_csv(\"DATA Files/weatherstationdata.csv\")\n",
    "\n",
    "weatherstations.columns\n",
    "#to find the oldest weather station in the country that is still open to get a larger set of data\n",
    "weatherstations[\"open year \"] = pd.to_datetime(weatherstations[\"open year \"], errors=\"coerce\")\n",
    "\n",
    "weatherstationsoldest = weatherstations.sort_values(by=\"open year \")\n",
    "weatherstationsoldest.head(25)\n",
    "\n",
    "# I will use Foukesmill Station 108 for this as the records start in 1943 to present "
   ]
  },
  {
   "cell_type": "code",
   "execution_count": null,
   "metadata": {},
   "outputs": [],
   "source": [
    "station108 = pd.read_csv(\"DATA Files/mly108-foulkesmill1873.csv\")\n",
    "\n",
    "station108.head(14)\n",
    "# testing the csv was read correctly\n"
   ]
  },
  {
   "cell_type": "code",
   "execution_count": null,
   "metadata": {},
   "outputs": [],
   "source": [
    "yearlyrainfall = station108.groupby(\"year\")[\"rain\"].sum().reset_index()\n",
    "\n",
    "yearlyrainfall.head(14) #testing groubed by worked for each year/month"
   ]
  },
  {
   "cell_type": "markdown",
   "metadata": {},
   "source": [
    "\n",
    "## Analysis\n",
    "\n"
   ]
  },
  {
   "cell_type": "markdown",
   "metadata": {},
   "source": [
    "### Plot Overview"
   ]
  },
  {
   "cell_type": "code",
   "execution_count": null,
   "metadata": {},
   "outputs": [],
   "source": [
    "years = mergeddata[\"year\"]\n",
    "co2values = mergeddata[\"co2\"]\n",
    "ch4values = mergech4[\"ch4\"]\n",
    "tempvalues = mergetemp[\"temp\"]\n",
    "\n",
    "fig, (ax1, ax2) = plt.subplots(2, 1, figsize=(10, 8), sharex=True)\n",
    "\n",
    "sns.lineplot(x=years, y=tempvalues, ax=ax1, label=\"Temp\")\n",
    "sns.lineplot(x=years, y=co2values, ax=ax2, label=\"CO2\")\n",
    "sns.lineplot(x=years, y=ch4values, ax=ax2, label=\"CH4\")\n",
    "\n",
    "fig.suptitle(\"CO2 and CH4 Over Years\")\n",
    "ax1.set_xlabel(\"Year\")\n",
    "\n",
    "ax1.set_ylabel(\"Temp\")\n",
    "ax2.set_ylabel(\"CO2\")\n",
    "ax2.set_ylabel(\"CH4\")\n",
    "\n",
    "ax1.legend()\n",
    "ax2.legend()\n",
    "\n",
    "plt.tight_layout()\n",
    "\n",
    "plt.show()\n"
   ]
  },
  {
   "cell_type": "markdown",
   "metadata": {},
   "source": [
    "### CO2 - Plots"
   ]
  },
  {
   "cell_type": "code",
   "execution_count": null,
   "metadata": {},
   "outputs": [],
   "source": [
    "plt.figure(figsize=(18, 16))\n",
    "plt.plot(mergeddata[\"year\"], mergeddata[\"co2\"], color=\"blue\")\n",
    "plt.xlabel(\"YEAR\", fontsize=20)\n",
    "plt.ylabel(\"CO2\", fontsize=20)\n",
    "plt.xticks(fontsize=20)\n",
    "plt.yticks(fontsize=20)\n",
    "plt.title(\"CO2 V Time\", fontsize=20)\n",
    "plt.tight_layout()\n",
    "plt.savefig(\"lineplot1.png\")\n",
    "#### Plot\n",
    "#SNS Lineplot\n",
    "#style\n",
    "sns.set_style(\"whitegrid\")\n",
    "sns.set_context(\"paper\") "
   ]
  },
  {
   "cell_type": "code",
   "execution_count": null,
   "metadata": {},
   "outputs": [],
   "source": [
    "plt.figure(figsize=(16, 12))\n",
    "\n",
    "#lineplot\n",
    "sns.lineplot(data=mergeddata, x=\"year\", y=\"co2\", color=\"green\")\n",
    "\n",
    "#labels\n",
    "plt.xlabel(\"Year\", fontsize=14)\n",
    "plt.ylabel(\"CO2 Levels\", fontsize=14)\n",
    "plt.title(\"CO2 Levels Over Time\", fontsize=14)\n",
    "plt.xticks(rotation=45, fontsize=20)\n",
    "plt.yticks(fontsize=20)\n",
    "\n",
    "\n",
    "plt.tight_layout()  #additional spacing\n",
    "plt.savefig(\"snslineplotnew.png\")"
   ]
  },
  {
   "cell_type": "markdown",
   "metadata": {},
   "source": [
    "### CH4 - Plots"
   ]
  },
  {
   "cell_type": "code",
   "execution_count": null,
   "metadata": {},
   "outputs": [],
   "source": [
    "#style\n",
    "sns.set_style(\"whitegrid\")\n",
    "sns.set_context(\"paper\")\n",
    "\n",
    "#size\n",
    "plt.figure(figsize=(16, 12))\n",
    "\n",
    "#lineplot\n",
    "sns.lineplot(data=mergech4, x=\"year\", y=\"ch4\", color=\"blue\")\n",
    "\n",
    "#labels\n",
    "plt.xlabel(\"Year\", fontsize=12)\n",
    "plt.ylabel(\"CH4\", fontsize=12)\n",
    "plt.title(\"CH4 Levels\", fontsize=14)\n",
    "plt.xticks(rotation=45)\n",
    "\n",
    "#ticks spacing\n",
    "plt.xticks(fontsize=10)\n",
    "plt.yticks(fontsize=10)\n",
    "\n",
    "\n",
    "plt.tight_layout()  #additional spacing\n",
    "plt.savefig(\"ch4levels2.png\")"
   ]
  },
  {
   "cell_type": "code",
   "execution_count": null,
   "metadata": {},
   "outputs": [],
   "source": [
    "plt.figure(figsize=(16, 12))\n",
    "#lineplot\n",
    "sns.lineplot(data=mergech4, x=\"year\", y=\"ch4\", color=\"blue\")\n",
    "\n",
    "#labels\n",
    "plt.xlabel(\"Year\", fontsize=12)\n",
    "plt.ylabel(\"CH4\", fontsize=12)\n",
    "plt.title(\"CH4 Levels\", fontsize=14)\n",
    "plt.xticks(rotation=45)\n",
    "\n",
    "#ticks spacing\n",
    "plt.xticks(fontsize=10)\n",
    "plt.yticks(fontsize=10)\n",
    "\n",
    "\n",
    "plt.tight_layout()  #additional spacing\n",
    "plt.savefig(\"ch4levels2.png\")"
   ]
  },
  {
   "cell_type": "code",
   "execution_count": null,
   "metadata": {},
   "outputs": [],
   "source": [
    "plt.figure(figsize=(16, 12))\n",
    "#selection of data for demonstration\n",
    "\n",
    "sns.set_style(\"whitegrid\")\n",
    "sns.set_context(\"notebook\")\n",
    "\n",
    "sns.lineplot(data=mergeddata, x=\"year\", y=\"co2\", label=\"CO2\")\n",
    "sns.lineplot(data=ch4data, x=\"year\", y=\"ch4\", label=\"Mean CH4\")\n",
    "\n",
    "plt.title(\"CO2 and Mean CH4 from 8kyr before present\")\n",
    "plt.xlabel(\"Year\")\n",
    "plt.ylabel(\"Value\")\n",
    "\n",
    "plt.legend()\n",
    "\n",
    "plt.show()"
   ]
  },
  {
   "cell_type": "markdown",
   "metadata": {},
   "source": [
    "### Temperature - Plots"
   ]
  },
  {
   "cell_type": "code",
   "execution_count": null,
   "metadata": {},
   "outputs": [],
   "source": [
    "plt.figure(figsize=(16, 12))\n",
    "#selection of data for demonstration\n",
    "\n",
    "sns.set_style(\"whitegrid\")\n",
    "sns.set_context(\"notebook\")\n",
    "\n",
    "sns.lineplot(data=mergeddata, x=\"year\", y=\"co2\", label=\"CO2\")\n",
    "\n",
    "plt.title(\"CO2\")\n",
    "plt.xlabel(\"Year\")\n",
    "plt.ylabel(\"Value\")\n",
    "\n",
    "plt.legend()\n",
    "\n",
    "plt.show()"
   ]
  },
  {
   "cell_type": "code",
   "execution_count": null,
   "metadata": {},
   "outputs": [],
   "source": [
    "plt.figure(figsize=(16, 12))\n",
    "#selection of data for demonstration\n",
    "\n",
    "sns.set_style(\"whitegrid\")\n",
    "sns.set_context(\"notebook\")\n",
    "\n",
    "sns.lineplot(data=mergetemp, x=\"year\", y=\"temp\", label=\"Temp\")\n",
    "\n",
    "plt.title(\"Temperature\")\n",
    "plt.xlabel(\"Year\")\n",
    "plt.ylabel(\"Value\")\n",
    "\n",
    "plt.legend()\n",
    "\n",
    "plt.show()"
   ]
  },
  {
   "cell_type": "markdown",
   "metadata": {},
   "source": [
    "### Rainfall - Plots"
   ]
  },
  {
   "cell_type": "code",
   "execution_count": null,
   "metadata": {},
   "outputs": [],
   "source": [
    "plt.figure(figsize=(16, 8))\n",
    "\n",
    "plt.plot(yearlyrainfall[\"year\"], yearlyrainfall[\"rain\"], label=\"Irish Rainfall 1941-2024\", color=\"blue\", linewidth=1)\n",
    "plt.scatter(yearlyrainfall[\"year\"], yearlyrainfall[\"rain\"], color=\"red\", edgecolor=\"red\", s=50, marker=\"o\")\n",
    "\n",
    "plt.xticks(yearlyrainfall[\"year\"], rotation=45, fontsize=8)\n",
    "\n",
    "plt.xlabel(\"Year\")\n",
    "plt.ylabel(\"Rainfall (mm)\")\n",
    "plt.title(\"Irish Rainfall 1941-2024\")\n",
    "plt.grid(axis=\"x\", linestyle=\"--\", color=\"gray\", alpha=0.7)\n",
    "\n",
    "plt.legend()"
   ]
  },
  {
   "cell_type": "markdown",
   "metadata": {},
   "source": [
    "### Trends"
   ]
  },
  {
   "cell_type": "markdown",
   "metadata": {},
   "source": [
    "\n",
    "### Relationships"
   ]
  },
  {
   "cell_type": "markdown",
   "metadata": {},
   "source": [
    "\n",
    "\n",
    "---\n",
    "\n",
    "<a id=\"03i\">\n",
    "\n",
    "## Predictions\n",
    "\n",
    "</a>"
   ]
  },
  {
   "cell_type": "markdown",
   "metadata": {},
   "source": [
    "### Synthetic Data"
   ]
  },
  {
   "cell_type": "markdown",
   "metadata": {},
   "source": [
    "\n",
    "### Comparisons with Published Climate Models"
   ]
  },
  {
   "cell_type": "code",
   "execution_count": null,
   "metadata": {},
   "outputs": [],
   "source": [
    "#SECTION 3 - PYTHON CELL"
   ]
  },
  {
   "cell_type": "markdown",
   "metadata": {},
   "source": [
    "\n",
    "\n",
    "---\n",
    "\n",
    "<a id=\"07i\">\n",
    "\n",
    "## REFERENCES\n",
    "\n",
    "</a>\n",
    "\n",
    "\n",
    "---"
   ]
  }
 ],
 "metadata": {
  "kernelspec": {
   "display_name": "base",
   "language": "python",
   "name": "python3"
  },
  "language_info": {
   "codemirror_mode": {
    "name": "ipython",
    "version": 3
   },
   "file_extension": ".py",
   "mimetype": "text/x-python",
   "name": "python",
   "nbconvert_exporter": "python",
   "pygments_lexer": "ipython3",
   "version": "3.11.5"
  }
 },
 "nbformat": 4,
 "nbformat_minor": 2
}
