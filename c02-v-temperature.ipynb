{
 "cells": [
  {
   "cell_type": "markdown",
   "metadata": {},
   "source": [
    "# An Analysis of Paleo to present Climate Change Data\n",
    "\n",
    "<details>\n",
    "\n",
    "<summary> Student Details </summary>\n",
    "\n",
    "| Student| Details |\n",
    "| -------- | -------- |\n",
    "| Course: | KDATG_L08_Y1 |\n",
    "| Author: | Rebecca Hannah Quinn |\n",
    "| Student Number: | G00425671 |\n",
    "\n",
    "</details>\n",
    "\n",
    "---\n",
    "\n",
    "## Project Goals\n",
    "\n",
    "To Analyse CO2 vs Temperature Anomaly for the past 800,000 years to the present day.\n",
    "To examine the change in the polar-ice coverage alongside this.\n",
    "To examine the changes in Ireland and Irish climate change signals.\n",
    "\n",
    "In gathering this information and data I will fuse and analyse the data using pandas dataframes and export the results to csv and json formats.\n",
    "\n",
    "I will be anaylising the data, the trends, the relationships between them including but not limited to: temporal leads, lags, and frequencies. I will also use synthesised data to predict global temperature anomoly over the next few decades and compare to published models of the same to see if atmospherice CO2 trends continue and comment on the accelerated warming based on the latest features with temperatures polar-ice coverage and ocean and sea levels.\n"
   ]
  },
  {
   "cell_type": "markdown",
   "metadata": {},
   "source": [
    "\n",
    "\n",
    "<details>\n",
    "\n",
    "<summary> Table of Contents </summary>\n",
    "\n",
    "[INTRODUCTION](#01)\n",
    "\n",
    "[PRE-PROCESSING](#02)\n",
    "\n",
    "[ANALYSIS](#03)\n",
    "\n",
    "[PREDICITONS](#04)\n",
    "\n",
    "[FURTHER COMMENT](#05)\n",
    "\n",
    "[PLOTS](#06)\n",
    "\n",
    "</details>\n",
    "\n",
    "---\n"
   ]
  },
  {
   "cell_type": "markdown",
   "metadata": {},
   "source": [
    "## Introduction\n",
    "\n",
    "\n",
    "There have been studies on the Earth\"s climate that have resulted in data as far back as 800,000 years by extracting core samples from deep beneath the ice sheets of Greenland and Antarctica. These samples contain detailed information on air temperature and CO2 levels that are trapped within them. Current polar records demonstrate a close association between atmospheric carbon dioxide and temperature in the natural world. In essence, when one increases, the other one follows.\n",
    "\n",
    "However, there is still some uncertainty about which occurred first - a spike in temperature or CO2. Until now, the most extensive records to date on a significant change in Earth\"s climate came from the EPICA Dome C ice core on the Antarctic Plateau. The data, which covered the end of the last ice age, between 20,000 and 10,000 years ago, indicated that CO2 levels could have lagged behind rising global temperatures by as much as 1,400 years.\n",
    "[1]: https://www.scientificamerican.com/article/ice-core-data-help-solve/#:~:text=Scientists%20use%20air%20trapped%20in,than%20the%20ice%20surrounding%20them."
   ]
  },
  {
   "cell_type": "markdown",
   "metadata": {},
   "source": [
    "\n",
    "<a id=\"01i\">\n",
    "\n",
    "## Pre-processing\n",
    "\n",
    "</a>\n",
    "\n",
    "\n",
    "\n"
   ]
  },
  {
   "cell_type": "markdown",
   "metadata": {},
   "source": [
    "### Import Packages"
   ]
  },
  {
   "cell_type": "code",
   "execution_count": null,
   "metadata": {},
   "outputs": [],
   "source": [
    "#importing packages required for analysis and visualization\n",
    "import requests\n",
    "from io import StringIO\n",
    "from IPython.display import display\n",
    "import pandas as pd\n",
    "import numpy as np\n",
    "import matplotlib.pyplot as plt\n",
    "import seaborn as sns"
   ]
  },
  {
   "cell_type": "markdown",
   "metadata": {},
   "source": [
    "### Initial Adjustments"
   ]
  },
  {
   "cell_type": "markdown",
   "metadata": {},
   "source": [
    "#### C02 Levels Data"
   ]
  },
  {
   "cell_type": "markdown",
   "metadata": {},
   "source": [
    "##### Data Collection and Reading in the Data"
   ]
  },
  {
   "cell_type": "markdown",
   "metadata": {},
   "source": [
    "The first database used `epica8kyr1`  is an updated version of the atmospheric CO2 composite data obtained from the revised EPICA Dome C and Antarctic ice cores. The previous version of Luthi et al. (2008) contained analytical bias and lower quality data, which has been improved in this new version. The age unit is in years before present (yr BP), where present refers to 1950 AD. This has been changed later from negetive integers to the actual year, starting with year 0, in order to merge and clear the data up for use in later plots."
   ]
  },
  {
   "cell_type": "code",
   "execution_count": null,
   "metadata": {},
   "outputs": [],
   "source": [
    "epica1col = [\"year\", \"co2\", \"sigma\"]\n",
    "epica8kyr1 = pd.read_excel(\"https://www.ncei.noaa.gov/pub/data/paleo/icecore/antarctica/antarctica2015co2.xls\", sheet_name=\"CO2 Composite\", skiprows=59, names=epica1col)\n",
    "\n",
    "epica8kyr1[\"year\"] = epica8kyr1[\"year\"].astype(int)\n",
    "epica8kyr1[\"year\"] = -1 * epica8kyr1[\"year\"] + 1950\n",
    "\n",
    "epica8kyr1.to_csv(\"epica8kyr1.csv\", index=False)"
   ]
  },
  {
   "cell_type": "code",
   "execution_count": null,
   "metadata": {},
   "outputs": [],
   "source": [
    "epica2col = [\"year\", \"co2\", \"unc\"]\n",
    "epica8kyr2 = pd.read_csv(\"https://gml.noaa.gov/webdata/ccgg/trends/co2/co2_annmean_mlo.csv\", skiprows=44, sep=\",\", names=epica2col)\n",
    "\n",
    "epica8kyr2.to_csv(\"epica8kyr2.csv\")"
   ]
  },
  {
   "cell_type": "markdown",
   "metadata": {},
   "source": [
    "##### Mauna Lon Observeratory, 1960 to Present.\n",
    "\n",
    "Additional CO2 Data"
   ]
  },
  {
   "cell_type": "code",
   "execution_count": 381,
   "metadata": {},
   "outputs": [],
   "source": [
    "epica3col = [\"year\", \"co2\", \"unc\"]\n",
    "epica8kyr3 = \"https://gml.noaa.gov/webdata/ccgg/trends/ch4/ch4_annmean_gl.txt\"\n",
    "\n",
    "response = requests.get(epica8kyr3)\n",
    "\n",
    "if response.status_code == 200:\n",
    "    text = response.text\n",
    "    epica8kyr3 = pd.read_fwf(StringIO(response.text), names=epica3col, skiprows=45, header=0)\n",
    "    epica8kyr3.to_csv(\"epica8kyr3.csv\", index=False)\n",
    "\n"
   ]
  },
  {
   "cell_type": "code",
   "execution_count": 382,
   "metadata": {},
   "outputs": [
    {
     "data": {
      "text/html": [
       "<div>\n",
       "<style scoped>\n",
       "    .dataframe tbody tr th:only-of-type {\n",
       "        vertical-align: middle;\n",
       "    }\n",
       "\n",
       "    .dataframe tbody tr th {\n",
       "        vertical-align: top;\n",
       "    }\n",
       "\n",
       "    .dataframe thead th {\n",
       "        text-align: right;\n",
       "    }\n",
       "</style>\n",
       "<table border=\"1\" class=\"dataframe\">\n",
       "  <thead>\n",
       "    <tr style=\"text-align: right;\">\n",
       "      <th></th>\n",
       "      <th>year</th>\n",
       "      <th>co2</th>\n",
       "      <th>unc</th>\n",
       "    </tr>\n",
       "  </thead>\n",
       "  <tbody>\n",
       "    <tr>\n",
       "      <th>NaN</th>\n",
       "      <td>1984</td>\n",
       "      <td>1644.68</td>\n",
       "      <td>0.67</td>\n",
       "    </tr>\n",
       "    <tr>\n",
       "      <th>NaN</th>\n",
       "      <td>1985</td>\n",
       "      <td>1657.29</td>\n",
       "      <td>0.59</td>\n",
       "    </tr>\n",
       "    <tr>\n",
       "      <th>NaN</th>\n",
       "      <td>1986</td>\n",
       "      <td>1670.09</td>\n",
       "      <td>0.74</td>\n",
       "    </tr>\n",
       "    <tr>\n",
       "      <th>NaN</th>\n",
       "      <td>1987</td>\n",
       "      <td>1682.71</td>\n",
       "      <td>0.49</td>\n",
       "    </tr>\n",
       "    <tr>\n",
       "      <th>NaN</th>\n",
       "      <td>1988</td>\n",
       "      <td>1693.13</td>\n",
       "      <td>0.67</td>\n",
       "    </tr>\n",
       "  </tbody>\n",
       "</table>\n",
       "</div>"
      ],
      "text/plain": [
       "     year      co2   unc\n",
       "NaN  1984  1644.68  0.67\n",
       "NaN  1985  1657.29  0.59\n",
       "NaN  1986  1670.09  0.74\n",
       "NaN  1987  1682.71  0.49\n",
       "NaN  1988  1693.13  0.67"
      ]
     },
     "execution_count": 382,
     "metadata": {},
     "output_type": "execute_result"
    }
   ],
   "source": [
    "epica8kyr3.columns\n",
    "epica8kyr3.head()"
   ]
  },
  {
   "cell_type": "markdown",
   "metadata": {},
   "source": [
    "##### Cleanup of Data\n",
    "\n",
    "Here we take the \"year\" column in the second dataset and convert the data to actual dates (stored in a new column titled \"date\") and put in order and make clearer so when we merge the datasets we can do so seamlessly."
   ]
  },
  {
   "cell_type": "code",
   "execution_count": null,
   "metadata": {},
   "outputs": [],
   "source": [
    "epica8kyr2.reset_index(drop=True, inplace=True)\n",
    "epica8kyr2[\"year\"] = epica8kyr2[\"year\"].astype(str)\n",
    "epica8kyr2.to_csv(\"epica8kyr2new.csv\")"
   ]
  },
  {
   "cell_type": "markdown",
   "metadata": {},
   "source": [
    "##### Merging Data"
   ]
  },
  {
   "cell_type": "markdown",
   "metadata": {},
   "source": [
    "###### Merging both C02 datasets for plotting"
   ]
  },
  {
   "cell_type": "code",
   "execution_count": null,
   "metadata": {},
   "outputs": [],
   "source": [
    "epica8kyr2['year'] = epica8kyr2['year'].astype(int)\n",
    "mergeepica1 = pd.merge(epica8kyr1, epica8kyr2, on=\"year\", how=\"outer\", suffixes=(\"epica8kyr1\", \"epica8kyr2\"))\n",
    "\n",
    "mergeepica1.to_csv(\"epica_merge1.csv\", index = True)\n",
    "###"
   ]
  },
  {
   "cell_type": "code",
   "execution_count": null,
   "metadata": {},
   "outputs": [],
   "source": [
    "print(mergeepica1.head())\n",
    "print(mergeepica1.describe())\n",
    "print(mergeepica1.info())\n",
    "print(mergeepica1.corr())\n",
    "###https://www.geeksforgeeks.org/python-pandas-dataframe-corr/"
   ]
  },
  {
   "cell_type": "code",
   "execution_count": 373,
   "metadata": {},
   "outputs": [],
   "source": [
    "#additional merge\n",
    "\n",
    "finalmerge = pd.merge(mergeepica1, epica8kyr3, on=\"year\", how=\"outer\", suffixes=(\"mergeepica1\", \"epica8kyr3\"))\n",
    "finalmerge = finalmerge.sort_values(by=\"year\", ascending=False)\n",
    "finalmerge.to_csv(\"epicafinalmerge.csv\", index=True)"
   ]
  },
  {
   "cell_type": "markdown",
   "metadata": {},
   "source": [
    "#### Calculating Statistical Measures\n"
   ]
  },
  {
   "cell_type": "code",
   "execution_count": null,
   "metadata": {},
   "outputs": [],
   "source": [
    "mean_value = mergeepica1[\"co2epica8kyr1\"].mean()\n",
    "print(mean_value)\n",
    "\n",
    "median_value = mergeepica1[\"co2epica8kyr1\"].median()\n",
    "print(median_value)\n",
    "\n",
    "std_deviation = mergeepica1[\"co2epica8kyr1\"].std()\n",
    "print(std_deviation)\n",
    "\n",
    "correlation = mergeepica1[\"co2epica8kyr1\"].corr(mergeepica1[\"year\"])\n",
    "print(correlation)\n"
   ]
  },
  {
   "cell_type": "markdown",
   "metadata": {},
   "source": [
    "\n",
    "#### Initial Visualization\n"
   ]
  },
  {
   "cell_type": "code",
   "execution_count": null,
   "metadata": {},
   "outputs": [],
   "source": [
    "#Matplotlib Line plot\n",
    "plt.figure(figsize=(18, 16))\n",
    "plt.plot(mergeepica1[\"year\"], mergeepica1[\"co2epica8kyr1\"], color=\"blue\")\n",
    "plt.xlabel(\"YEAR\")\n",
    "plt.ylabel(\"CO2\")\n",
    "plt.xticks()\n",
    "plt.yticks()\n",
    "plt.title(\"CO2 V Time\")\n",
    "plt.tight_layout()\n",
    "plt.savefig(\"lineplot1.png\")"
   ]
  },
  {
   "cell_type": "code",
   "execution_count": null,
   "metadata": {},
   "outputs": [],
   "source": [
    "#SNS Lineplot\n",
    "#style\n",
    "sns.set_style(\"whitegrid\")\n",
    "sns.set_context(\"paper\")  # Adjust context to paper for smaller font sizes\n",
    "\n",
    "#size\n",
    "plt.figure(figsize=(16, 12))\n",
    "\n",
    "#lineplot\n",
    "sns.lineplot(data=mergeepica1, x=\"year\", y=\"co2epica8kyr1\", color=\"blue\")\n",
    "\n",
    "#labels\n",
    "plt.xlabel(\"Year\", fontsize=12)\n",
    "plt.ylabel(\"CO2 Levels\", fontsize=12)\n",
    "plt.title(\"CO2 Levels Over Time\", fontsize=14)\n",
    "plt.xticks(rotation=45)\n",
    "\n",
    "#ticks spacing\n",
    "plt.xticks(fontsize=10)\n",
    "plt.yticks(fontsize=10)\n",
    "\n",
    "\n",
    "plt.tight_layout()  #additional spacing\n",
    "plt.savefig(\"snslineplotnew.png\")"
   ]
  },
  {
   "cell_type": "markdown",
   "metadata": {},
   "source": [
    "#### Collection of CH4 Data"
   ]
  },
  {
   "cell_type": "code",
   "execution_count": null,
   "metadata": {},
   "outputs": [],
   "source": [
    "colnames = [\"year\", \"mean\", \"unc\"]\n",
    "noaach4 = \"https://gml.noaa.gov/webdata/ccgg/trends/ch4/ch4_annmean_gl.txt\"\n",
    "\n",
    "response = requests.get(noaach4)\n",
    "\n",
    "if response.status_code == 200:\n",
    "    text = response.text\n",
    "    noaach4df = pd.read_fwf(StringIO(response.text), names=colnames, widths=[6, 12, 8], skiprows=44, header=0)\n",
    "    noaach4df.to_csv(\"noaach4.csv\", index=\"True\")"
   ]
  },
  {
   "cell_type": "markdown",
   "metadata": {},
   "source": [
    "\n",
    "---\n"
   ]
  },
  {
   "cell_type": "code",
   "execution_count": null,
   "metadata": {},
   "outputs": [],
   "source": [
    "noaach4df.head()"
   ]
  },
  {
   "cell_type": "code",
   "execution_count": null,
   "metadata": {},
   "outputs": [],
   "source": [
    "noaach4df.info()"
   ]
  },
  {
   "cell_type": "code",
   "execution_count": null,
   "metadata": {},
   "outputs": [],
   "source": [
    "noaach4df.describe()"
   ]
  },
  {
   "cell_type": "markdown",
   "metadata": {},
   "source": [
    "##### CH4 Plots"
   ]
  },
  {
   "cell_type": "code",
   "execution_count": null,
   "metadata": {},
   "outputs": [],
   "source": [
    "noaach4df.columns"
   ]
  },
  {
   "cell_type": "code",
   "execution_count": null,
   "metadata": {},
   "outputs": [],
   "source": [
    "\n",
    "#SNS Lineplot\n",
    "#style\n",
    "sns.set_style(\"whitegrid\")\n",
    "sns.set_context(\"paper\")  # Adjust context to paper for smaller font sizes\n",
    "\n",
    "#size\n",
    "plt.figure(figsize=(16, 12))\n",
    "\n",
    "#lineplot\n",
    "sns.lineplot(data=noaach4df, x=\"year\", y=\"mean\", color=\"blue\")\n",
    "\n",
    "#labels\n",
    "plt.xlabel(\"Year\", fontsize=12)\n",
    "plt.ylabel(\"CH4\", fontsize=12)\n",
    "plt.title(\"CH4 Levels\", fontsize=14)\n",
    "plt.xticks(rotation=45)\n",
    "\n",
    "#ticks spacing\n",
    "plt.xticks(fontsize=10)\n",
    "plt.yticks(fontsize=10)\n",
    "\n",
    "\n",
    "plt.tight_layout()  #additional spacing\n",
    "plt.savefig(\"ch4levels2.png\")"
   ]
  },
  {
   "cell_type": "code",
   "execution_count": null,
   "metadata": {},
   "outputs": [],
   "source": [
    "\n",
    "#lineplot\n",
    "sns.lineplot(data=noaach4df, x=\"year\", y=\"mean\", color=\"blue\")\n",
    "\n",
    "#labels\n",
    "plt.xlabel(\"Year\", fontsize=12)\n",
    "plt.ylabel(\"CH4\", fontsize=12)\n",
    "plt.title(\"CH4 Levels\", fontsize=14)\n",
    "plt.xticks(rotation=45)\n",
    "\n",
    "#ticks spacing\n",
    "plt.xticks(fontsize=10)\n",
    "plt.yticks(fontsize=10)\n",
    "\n",
    "\n",
    "plt.tight_layout()  #additional spacing\n",
    "plt.savefig(\"ch4levels2.png\")"
   ]
  },
  {
   "cell_type": "markdown",
   "metadata": {},
   "source": [
    "\n",
    "---\n"
   ]
  },
  {
   "cell_type": "markdown",
   "metadata": {},
   "source": [
    "#### Temperatures"
   ]
  },
  {
   "cell_type": "code",
   "execution_count": null,
   "metadata": {},
   "outputs": [],
   "source": [
    "epicadeut = \"https://www.ncei.noaa.gov/pub/data/paleo/icecore/antarctica/epica_domec/edc3deuttemp2007.txt\"\n",
    "\n",
    "response = requests.get(epicadeut)\n",
    "\n",
    "if response.status_code == 200:\n",
    "    text = response.text\n",
    "    epicadeutdf = pd.read_csv(StringIO(text), sep='\\s+', skiprows=89, header=0)\n",
    "\n",
    "    \n",
    "epicadeutdf.rename(columns={\"Age\": \"Year\"}, inplace=True)\n",
    "\n",
    "epicadeutdf[\"Year\"] = epicadeutdf[\"Year\"].astype(int)\n",
    "epicadeutdf[\"Year\"] = -1 * epicadeutdf[\"Year\"] + 1950\n",
    "#epicadeutdf[\"Year\"] = epicadeutdf[\"Year\"].astype(str) + \" BC\" if (epicadeutdf[\"Year\"] < 0).any() else epicadeutdf[\"Year\"]\n",
    "\n",
    "\n",
    "epicadeutdf.to_csv(\"epicadeut.csv\", index=\"True\")\n"
   ]
  },
  {
   "cell_type": "code",
   "execution_count": null,
   "metadata": {},
   "outputs": [],
   "source": [
    "epicadeutdf.head(15)"
   ]
  },
  {
   "cell_type": "code",
   "execution_count": null,
   "metadata": {},
   "outputs": [],
   "source": [
    "epicadeutdf.info()"
   ]
  },
  {
   "cell_type": "markdown",
   "metadata": {},
   "source": [
    " EDC3 age scale (years before year 1950)\n",
    " Temperature estimate (temperature difference from the average of the last 1000 years)"
   ]
  },
  {
   "cell_type": "markdown",
   "metadata": {},
   "source": [
    "\n",
    "---\n"
   ]
  },
  {
   "cell_type": "code",
   "execution_count": null,
   "metadata": {},
   "outputs": [],
   "source": [
    "noaatemp = pd.read_csv(\"https://www.ncei.noaa.gov/access/monitoring/climate-at-a-glance/global/time-series/antarctic/land_ocean/12/11/1850-2023/data.csv\", skiprows=range(0,4))\n",
    "\n",
    "noaatemp.to_csv(\"noaatemp.csv\", index=\"True\")\n",
    "noaatemp.head(10)"
   ]
  },
  {
   "cell_type": "markdown",
   "metadata": {},
   "source": [
    "\n",
    "---"
   ]
  },
  {
   "cell_type": "markdown",
   "metadata": {},
   "source": [
    "#### Irish Climate Change"
   ]
  },
  {
   "cell_type": "markdown",
   "metadata": {},
   "source": [
    "##### Yearly Rainfall 1711 - 2016"
   ]
  },
  {
   "cell_type": "markdown",
   "metadata": {},
   "source": []
  },
  {
   "cell_type": "code",
   "execution_count": null,
   "metadata": {},
   "outputs": [],
   "source": [
    "colnames = [\"Year\", \"Month\", \"Median Rainfall\"]\n",
    "irelandrain = pd.read_csv(\"DATA Files/IOI_1711_SERIES.CSV\", names=colnames, header=0) \n",
    "irelandrain.info()\n",
    "print(irelandrain.columns)"
   ]
  },
  {
   "cell_type": "code",
   "execution_count": null,
   "metadata": {},
   "outputs": [],
   "source": [
    "irelandrain.tail() #check final year entry"
   ]
  },
  {
   "cell_type": "code",
   "execution_count": null,
   "metadata": {},
   "outputs": [],
   "source": [
    "irelandrain.head()\n",
    "\n",
    "irelandrain[\"Median Rainfall\"] = irelandrain[\"Median Rainfall\"].astype(float)\n",
    "uniqueyears = irelandrain[\"Year\"].unique()\n",
    "\n",
    "totalbyyear = []\n",
    "\n",
    "for year in uniqueyears:\n",
    "    \n",
    "    specificyear = irelandrain[irelandrain[\"Year\"] == year]\n",
    "    totalmedianyear = specificyear[\"Median Rainfall\"].sum()\n",
    "    totalbyyear.append({\"Year\": year, \"Total Median\": totalmedianyear})\n",
    "\n",
    "raindfnew = pd.DataFrame(totalbyyear)\n",
    "\n",
    "raindfnew.to_csv(\"yearlyrain.csv\", index=False)\n"
   ]
  },
  {
   "cell_type": "code",
   "execution_count": null,
   "metadata": {},
   "outputs": [],
   "source": [
    "raindfread = pd.read_csv(\"yearlyrain.csv\")\n",
    "\n",
    "sns.set_context(\"paper\", rc={\"lines.linewidth\": 0.5, \"figure.figsize\":(10, 22)})\n",
    "plot = sns.lineplot(data=raindfread, x=\"Year\", y=\"Total Median\")\n",
    "plot.set_xlabel(\"Year\")\n",
    "plot.set_ylabel(\"Median Rainfall (mm)\")"
   ]
  },
  {
   "cell_type": "markdown",
   "metadata": {},
   "source": [
    "##### Yearly Temperatures"
   ]
  },
  {
   "cell_type": "markdown",
   "metadata": {},
   "source": [
    "\n",
    "\n",
    "---\n",
    "\n",
    "\n",
    "<a id=\"02i\">\n",
    "\n",
    "## Analysis\n",
    "\n",
    "</a>"
   ]
  },
  {
   "cell_type": "markdown",
   "metadata": {},
   "source": [
    "### Trends"
   ]
  },
  {
   "cell_type": "markdown",
   "metadata": {},
   "source": [
    "\n",
    "### Relationships"
   ]
  },
  {
   "cell_type": "markdown",
   "metadata": {},
   "source": [
    "\n",
    "\n",
    "---\n",
    "\n",
    "<a id=\"03i\">\n",
    "\n",
    "## Predictions\n",
    "\n",
    "</a>"
   ]
  },
  {
   "cell_type": "markdown",
   "metadata": {},
   "source": [
    "### Synthetic Data"
   ]
  },
  {
   "cell_type": "markdown",
   "metadata": {},
   "source": [
    "\n",
    "### Comparisons with Published Climate Models"
   ]
  },
  {
   "cell_type": "code",
   "execution_count": null,
   "metadata": {},
   "outputs": [],
   "source": [
    "#SECTION 3 - PYTHON CELL"
   ]
  },
  {
   "cell_type": "markdown",
   "metadata": {},
   "source": [
    "\n",
    "\n",
    "---\n",
    "\n",
    "<a id=\"04i\">\n",
    "\n",
    "## Further Comments\n",
    "\n",
    "</a>\n",
    "\n"
   ]
  },
  {
   "cell_type": "code",
   "execution_count": null,
   "metadata": {},
   "outputs": [],
   "source": [
    "#SECTION 4 - PYTHON CELL"
   ]
  },
  {
   "cell_type": "markdown",
   "metadata": {},
   "source": [
    "\n",
    "\n",
    "---\n",
    "\n",
    "<a id=\"05i\">\n",
    "\n",
    "## Plots\n",
    "\n",
    "</a>\n",
    "\n"
   ]
  },
  {
   "cell_type": "code",
   "execution_count": null,
   "metadata": {},
   "outputs": [],
   "source": [
    "#SECTION 5 - PYTHON CELL"
   ]
  },
  {
   "cell_type": "markdown",
   "metadata": {},
   "source": [
    "\n",
    "\n",
    "---\n",
    "\n",
    "<a id=\"07i\">\n",
    "\n",
    "## REFERENCES\n",
    "\n",
    "</a>\n",
    "\n",
    "\n",
    "---"
   ]
  }
 ],
 "metadata": {
  "kernelspec": {
   "display_name": "base",
   "language": "python",
   "name": "python3"
  },
  "language_info": {
   "codemirror_mode": {
    "name": "ipython",
    "version": 3
   },
   "file_extension": ".py",
   "mimetype": "text/x-python",
   "name": "python",
   "nbconvert_exporter": "python",
   "pygments_lexer": "ipython3",
   "version": "3.11.5"
  }
 },
 "nbformat": 4,
 "nbformat_minor": 2
}
